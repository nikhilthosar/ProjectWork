{
  "nbformat": 4,
  "nbformat_minor": 0,
  "metadata": {
    "colab": {
      "provenance": [],
      "collapsed_sections": [
        "fSr1UKn3HzSX"
      ]
    },
    "kernelspec": {
      "name": "python3",
      "display_name": "Python 3"
    },
    "language_info": {
      "name": "python"
    },
    "accelerator": "GPU",
    "gpuClass": "standard"
  },
  "cells": [
    {
      "cell_type": "code",
      "execution_count": null,
      "metadata": {
        "id": "JeUYWibRBeCe"
      },
      "outputs": [],
      "source": [
        "import numpy as np\n",
        "import matplotlib.pyplot as plt\n",
        "import seaborn as sns"
      ]
    },
    {
      "cell_type": "code",
      "source": [
        "import cv2\n",
        "import tensorflow as tf\n",
        "from tensorflow.keras import layers, models"
      ],
      "metadata": {
        "id": "cuTqRICMCHQV"
      },
      "execution_count": null,
      "outputs": []
    },
    {
      "cell_type": "code",
      "source": [
        "from google.colab import drive\n",
        "drive.mount('/content/drive')"
      ],
      "metadata": {
        "id": "77VVkVzkCOPY",
        "colab": {
          "base_uri": "https://localhost:8080/"
        },
        "outputId": "81ed2f95-58ff-4bf5-bde2-e5bbcd7fec1a"
      },
      "execution_count": null,
      "outputs": [
        {
          "output_type": "stream",
          "name": "stdout",
          "text": [
            "Mounted at /content/drive\n"
          ]
        }
      ]
    },
    {
      "cell_type": "code",
      "source": [
        "from google.colab.patches import cv2_imshow"
      ],
      "metadata": {
        "id": "TFbsQgK8nDlP"
      },
      "execution_count": null,
      "outputs": []
    },
    {
      "cell_type": "code",
      "source": [
        "print(\"Num GPUs Available: \", len(tf.config.list_physical_devices('GPU')))"
      ],
      "metadata": {
        "colab": {
          "base_uri": "https://localhost:8080/"
        },
        "id": "dLXQ_ZzwmDAs",
        "outputId": "2b6af57b-6235-4af8-ef8b-df6e26566593"
      },
      "execution_count": null,
      "outputs": [
        {
          "output_type": "stream",
          "name": "stdout",
          "text": [
            "Num GPUs Available:  1\n"
          ]
        }
      ]
    },
    {
      "cell_type": "code",
      "source": [
        "import os"
      ],
      "metadata": {
        "id": "_kBfZPkcJiFM"
      },
      "execution_count": null,
      "outputs": []
    },
    {
      "cell_type": "code",
      "source": [
        "!pip install mediapipe"
      ],
      "metadata": {
        "colab": {
          "base_uri": "https://localhost:8080/"
        },
        "id": "vENkURcETWAV",
        "outputId": "2ed5e1f1-684d-4392-90e8-e65950f9beaf"
      },
      "execution_count": null,
      "outputs": [
        {
          "output_type": "stream",
          "name": "stdout",
          "text": [
            "Looking in indexes: https://pypi.org/simple, https://us-python.pkg.dev/colab-wheels/public/simple/\n",
            "Collecting mediapipe\n",
            "  Downloading mediapipe-0.10.0-cp310-cp310-manylinux_2_17_x86_64.manylinux2014_x86_64.whl (33.9 MB)\n",
            "\u001b[2K     \u001b[90m━━━━━━━━━━━━━━━━━━━━━━━━━━━━━━━━━━━━━━━━\u001b[0m \u001b[32m33.9/33.9 MB\u001b[0m \u001b[31m51.5 MB/s\u001b[0m eta \u001b[36m0:00:00\u001b[0m\n",
            "\u001b[?25hRequirement already satisfied: absl-py in /usr/local/lib/python3.10/dist-packages (from mediapipe) (1.4.0)\n",
            "Requirement already satisfied: attrs>=19.1.0 in /usr/local/lib/python3.10/dist-packages (from mediapipe) (23.1.0)\n",
            "Requirement already satisfied: flatbuffers>=2.0 in /usr/local/lib/python3.10/dist-packages (from mediapipe) (23.3.3)\n",
            "Requirement already satisfied: matplotlib in /usr/local/lib/python3.10/dist-packages (from mediapipe) (3.7.1)\n",
            "Requirement already satisfied: numpy in /usr/local/lib/python3.10/dist-packages (from mediapipe) (1.22.4)\n",
            "Requirement already satisfied: opencv-contrib-python in /usr/local/lib/python3.10/dist-packages (from mediapipe) (4.7.0.72)\n",
            "Requirement already satisfied: protobuf<4,>=3.11 in /usr/local/lib/python3.10/dist-packages (from mediapipe) (3.20.3)\n",
            "Collecting sounddevice>=0.4.4 (from mediapipe)\n",
            "  Downloading sounddevice-0.4.6-py3-none-any.whl (31 kB)\n",
            "Requirement already satisfied: CFFI>=1.0 in /usr/local/lib/python3.10/dist-packages (from sounddevice>=0.4.4->mediapipe) (1.15.1)\n",
            "Requirement already satisfied: contourpy>=1.0.1 in /usr/local/lib/python3.10/dist-packages (from matplotlib->mediapipe) (1.0.7)\n",
            "Requirement already satisfied: cycler>=0.10 in /usr/local/lib/python3.10/dist-packages (from matplotlib->mediapipe) (0.11.0)\n",
            "Requirement already satisfied: fonttools>=4.22.0 in /usr/local/lib/python3.10/dist-packages (from matplotlib->mediapipe) (4.39.3)\n",
            "Requirement already satisfied: kiwisolver>=1.0.1 in /usr/local/lib/python3.10/dist-packages (from matplotlib->mediapipe) (1.4.4)\n",
            "Requirement already satisfied: packaging>=20.0 in /usr/local/lib/python3.10/dist-packages (from matplotlib->mediapipe) (23.1)\n",
            "Requirement already satisfied: pillow>=6.2.0 in /usr/local/lib/python3.10/dist-packages (from matplotlib->mediapipe) (8.4.0)\n",
            "Requirement already satisfied: pyparsing>=2.3.1 in /usr/local/lib/python3.10/dist-packages (from matplotlib->mediapipe) (3.0.9)\n",
            "Requirement already satisfied: python-dateutil>=2.7 in /usr/local/lib/python3.10/dist-packages (from matplotlib->mediapipe) (2.8.2)\n",
            "Requirement already satisfied: pycparser in /usr/local/lib/python3.10/dist-packages (from CFFI>=1.0->sounddevice>=0.4.4->mediapipe) (2.21)\n",
            "Requirement already satisfied: six>=1.5 in /usr/local/lib/python3.10/dist-packages (from python-dateutil>=2.7->matplotlib->mediapipe) (1.16.0)\n",
            "Installing collected packages: sounddevice, mediapipe\n",
            "Successfully installed mediapipe-0.10.0 sounddevice-0.4.6\n"
          ]
        }
      ]
    },
    {
      "cell_type": "code",
      "source": [
        "import mediapipe as mp"
      ],
      "metadata": {
        "id": "TAU1RJ-_TiN7"
      },
      "execution_count": null,
      "outputs": []
    },
    {
      "cell_type": "code",
      "source": [
        "mpPose = mp.solutions.pose\n",
        "pose = mpPose.Pose(static_image_mode=True)\n",
        "mpDraw = mp.solutions.drawing_utils # For drawing keypoints\n",
        "points = mpPose.PoseLandmark # Landmarks"
      ],
      "metadata": {
        "id": "Sf99LzNMTwX5"
      },
      "execution_count": null,
      "outputs": []
    },
    {
      "cell_type": "code",
      "source": [
        "path=\"/content/drive/MyDrive/YogaData/train\""
      ],
      "metadata": {
        "id": "veH6lK88H_CI"
      },
      "execution_count": null,
      "outputs": []
    },
    {
      "cell_type": "code",
      "source": [
        "folders=[\"downdog\",\"goddess\",\"plank\",\"tree\",\"warrior2\"]"
      ],
      "metadata": {
        "id": "I-oKs5s6IJTr"
      },
      "execution_count": null,
      "outputs": []
    },
    {
      "cell_type": "code",
      "source": [
        "dd_path=os.path.join(path, folders[0])"
      ],
      "metadata": {
        "id": "LiFDFndvrocc"
      },
      "execution_count": null,
      "outputs": []
    },
    {
      "cell_type": "code",
      "source": [
        "def get_x_coord(mp_pose_output):\n",
        "  list_landmark=mp_pose_output.pose_landmarks.landmark\n",
        "  length=33\n",
        "  x=np.zeros(length)\n",
        "  for i in range(length):\n",
        "    x[i]=mp_pose_output.pose_landmarks.landmark[i].x\n",
        "  return x"
      ],
      "metadata": {
        "id": "hXMDPZx1vslQ"
      },
      "execution_count": null,
      "outputs": []
    },
    {
      "cell_type": "code",
      "source": [
        "def get_y_coord(mp_pose_output):\n",
        "  list_landmark=mp_pose_output.pose_landmarks.landmark\n",
        "  length=33\n",
        "  y=np.zeros(length)\n",
        "  for i in range(length):\n",
        "    y[i]=mp_pose_output.pose_landmarks.landmark[i].y\n",
        "  return y"
      ],
      "metadata": {
        "id": "vmvsVFfewjZK"
      },
      "execution_count": null,
      "outputs": []
    },
    {
      "cell_type": "code",
      "source": [
        "def get_coord(mp_pose_output):\n",
        "  return np.vstack([get_x_coord(results),get_y_coord(results)]).T"
      ],
      "metadata": {
        "id": "4MOW24V5wy7C"
      },
      "execution_count": null,
      "outputs": []
    },
    {
      "cell_type": "code",
      "source": [
        "img_size = 256\n",
        "\n",
        "training_data = []\n",
        "training_labels = []"
      ],
      "metadata": {
        "id": "5PY6HAtKIfrm"
      },
      "execution_count": null,
      "outputs": []
    },
    {
      "cell_type": "code",
      "source": [
        "%%time\n",
        "training_data=[]\n",
        "training_labels=[]\n",
        "hits=0\n",
        "miss=0\n",
        "for folder in folders:\n",
        "    folder_path = os.path.join(path, folder)\n",
        "    for img_file in os.listdir(folder_path):\n",
        "      # if hits%100==0:\n",
        "        # print(f\"hits,{hits}\")\n",
        "      img_path = os.path.join(folder_path, img_file)\n",
        "\n",
        "      img = cv2.imread(img_path)\n",
        "      img = cv2.resize(img, (img_size, img_size))\n",
        "      # imageWidth, imageHeight = img.shape[:2]\n",
        "\n",
        "      imgRGB = cv2.cvtColor(img, cv2.COLOR_BGR2RGB)\n",
        "\n",
        "      results = pose.process(imgRGB)\n",
        "      if results.pose_landmarks:\n",
        "        \n",
        "        hits+=1\n",
        "        training_data.append(get_coord(results))\n",
        "        training_labels.append(folders.index(folder))\n",
        "      else:\n",
        "        miss+=1\n",
        "        # images.append(img)"
      ],
      "metadata": {
        "id": "yNzAWFgbKrB-",
        "colab": {
          "base_uri": "https://localhost:8080/"
        },
        "outputId": "3a30c346-9f09-403f-9c46-667d1bfdc928"
      },
      "execution_count": null,
      "outputs": [
        {
          "output_type": "stream",
          "name": "stdout",
          "text": [
            "CPU times: user 2min 30s, sys: 2 s, total: 2min 32s\n",
            "Wall time: 3min 2s\n"
          ]
        }
      ]
    },
    {
      "cell_type": "code",
      "source": [
        "%%time\n",
        "print(hits,miss)"
      ],
      "metadata": {
        "id": "fdc-GcO9UrOe",
        "colab": {
          "base_uri": "https://localhost:8080/"
        },
        "outputId": "a10a1bbd-6a67-47cd-e658-144a0f96e0e0"
      },
      "execution_count": null,
      "outputs": [
        {
          "output_type": "stream",
          "name": "stdout",
          "text": [
            "0 2\n",
            "CPU times: user 62 µs, sys: 2 µs, total: 64 µs\n",
            "Wall time: 69.1 µs\n"
          ]
        }
      ]
    },
    {
      "cell_type": "code",
      "source": [
        "%%time\n",
        "from tensorflow.keras.preprocessing.image import ImageDataGenerator\n",
        "count=0\n",
        "datagen = ImageDataGenerator(\n",
        "    rotation_range=20,\n",
        "    width_shift_range=0.2,\n",
        "    height_shift_range=0.2,\n",
        "    shear_range=0.2,\n",
        "    zoom_range=0.2,\n",
        "    horizontal_flip=True,\n",
        "    vertical_flip=False,\n",
        "    fill_mode='nearest',\n",
        "    channel_shift_range=0.2)\n",
        " \n",
        "augmented_data = []\n",
        "augmented_labels = []\n",
        " \n",
        "for folder in folders:\n",
        "    # print(folder,count)    \n",
        "    folder_path = os.path.join(path, folder)\n",
        "    for img_file in os.listdir(folder_path):\n",
        "        img_path = os.path.join(folder_path, img_file)\n",
        "        img = cv2.imread(img_path)\n",
        "        img = cv2.resize(img, (img_size, img_size))\n",
        "        img = cv2.cvtColor(img, cv2.COLOR_BGR2RGB)\n",
        "        # img = img / 255.0\n",
        "\n",
        "        # augmented_data.append(img)\n",
        "        # augmented_labels.append(folders.index(folder)) \n",
        "        img = img.reshape((1,) + img.shape)\n",
        "        for batch in datagen.flow(img, batch_size=1):\n",
        "            augmented_img = batch[0]\n",
        "            results = pose.process(augmented_img.astype(\"uint8\"))\n",
        "            if results.pose_landmarks:\n",
        "              training_data.append(get_coord(results))\n",
        "              training_labels.append(folders.index(folder))\n",
        "            break\n",
        "\n"
      ],
      "metadata": {
        "colab": {
          "base_uri": "https://localhost:8080/"
        },
        "id": "WP0O0b_v7kGa",
        "outputId": "ad317d60-bae6-4e2c-b78a-6932ebc0dee1"
      },
      "execution_count": null,
      "outputs": [
        {
          "output_type": "stream",
          "name": "stdout",
          "text": [
            "CPU times: user 2min 59s, sys: 2.02 s, total: 3min 1s\n",
            "Wall time: 3min 13s\n"
          ]
        }
      ]
    },
    {
      "cell_type": "code",
      "source": [
        "training_data = np.array(training_data)\n",
        "training_labels = np.array(training_labels)\n",
        " \n",
        "print(\"Training data shape:\", training_data.shape)\n",
        "print(\"Training labels shape:\", training_labels.shape)"
      ],
      "metadata": {
        "id": "nJKmLX6bOMzQ",
        "colab": {
          "base_uri": "https://localhost:8080/"
        },
        "outputId": "dbac4a33-1e66-4e74-fb67-f61b0669d386"
      },
      "execution_count": null,
      "outputs": [
        {
          "output_type": "stream",
          "name": "stdout",
          "text": [
            "Training data shape: (3404, 33, 2)\n",
            "Training labels shape: (3404,)\n"
          ]
        }
      ]
    },
    {
      "cell_type": "code",
      "source": [
        "%%time\n",
        "\n",
        "hits=0\n",
        "miss=0\n",
        "test_path = r\"/content/drive/MyDrive/YogaData/test\"\n",
        "test_data = []\n",
        "test_labels = []\n",
        "count=0\n",
        "for folder in folders:\n",
        "    folder_path = os.path.join(test_path, folder)\n",
        "    for img_file in os.listdir(folder_path):\n",
        "      img_path = os.path.join(folder_path, img_file)\n",
        "\n",
        "      img = cv2.imread(img_path)\n",
        "      # imageWidth, imageHeight = img.shape[:2]\n",
        "      img=cv2.resize(img, (img_size, img_size))\n",
        "      imgRGB = cv2.cvtColor(img, cv2.COLOR_BGR2RGB)\n",
        "\n",
        "      results = pose.process(imgRGB)\n",
        "      if results.pose_landmarks:\n",
        "        test_data.append(get_coord(results))\n",
        "        test_labels.append(folders.index(folder))\n",
        "        count += 1\n",
        "      else:\n",
        "        miss+=1\n",
        "        # images.append(img)\n",
        "\n",
        "\n",
        "print(hits,miss)\n",
        "test_data = np.array(test_data)\n",
        "test_labels = np.array(test_labels)"
      ],
      "metadata": {
        "colab": {
          "base_uri": "https://localhost:8080/"
        },
        "id": "qO3vXOVrzyP7",
        "outputId": "7f9fe924-a079-4b92-ea9d-d96f35042dde"
      },
      "execution_count": null,
      "outputs": [
        {
          "output_type": "stream",
          "name": "stdout",
          "text": [
            "0 7\n",
            "CPU times: user 33.4 s, sys: 412 ms, total: 33.8 s\n",
            "Wall time: 2min 43s\n"
          ]
        }
      ]
    },
    {
      "cell_type": "markdown",
      "source": [
        "# TF"
      ],
      "metadata": {
        "id": "aKTo08kZH5cK"
      }
    },
    {
      "cell_type": "code",
      "source": [
        "input_shape = (33,2)\n",
        " \n",
        "model = models.Sequential([\n",
        "    layers.Conv1D(16,3, activation='relu', input_shape=input_shape),# output 31,2\n",
        "    layers.BatchNormalization(),\n",
        "    layers.Dropout(0.5),\n",
        "    layers.BatchNormalization(),\n",
        "    layers.Flatten(),\n",
        "    layers.Dense(len(folders), activation='softmax')\n",
        "])\n",
        "\n",
        "model.compile(optimizer=tf.keras.optimizers.Adam(learning_rate=0.001),\n",
        "              loss='sparse_categorical_crossentropy',\n",
        "              metrics=['accuracy'])"
      ],
      "metadata": {
        "id": "TVSv4KDse2XL"
      },
      "execution_count": null,
      "outputs": []
    },
    {
      "cell_type": "code",
      "source": [
        "checkpoint_filepath=\"/tmp/checkpoint\"\n",
        "model_checkpoint_callback=tf.keras.callbacks.ModelCheckpoint(\n",
        "    filepath=checkpoint_filepath,\n",
        "    save_weights_only=True,\n",
        "    monitor=\"val_loss\",\n",
        "    mode='max',\n",
        "    save_best_only=True\n",
        ")"
      ],
      "metadata": {
        "id": "hN4wZFksMyKe"
      },
      "execution_count": null,
      "outputs": []
    },
    {
      "cell_type": "code",
      "source": [
        "history = model.fit(training_data, training_labels, epochs=50, validation_split=0.2,callbacks=[model_checkpoint_callback])"
      ],
      "metadata": {
        "colab": {
          "base_uri": "https://localhost:8080/"
        },
        "id": "_rCn_2p12LiU",
        "outputId": "71750141-1f4e-47da-ea45-3b44a4820029"
      },
      "execution_count": null,
      "outputs": [
        {
          "output_type": "stream",
          "name": "stdout",
          "text": [
            "Epoch 1/50\n",
            "86/86 [==============================] - 12s 9ms/step - loss: 1.1066 - accuracy: 0.5509 - val_loss: 1.6113 - val_accuracy: 0.0059\n",
            "Epoch 2/50\n",
            "86/86 [==============================] - 0s 5ms/step - loss: 0.6738 - accuracy: 0.7422 - val_loss: 1.3913 - val_accuracy: 0.1894\n",
            "Epoch 3/50\n",
            "86/86 [==============================] - 0s 5ms/step - loss: 0.5368 - accuracy: 0.8035 - val_loss: 1.1978 - val_accuracy: 0.3583\n",
            "Epoch 4/50\n",
            "86/86 [==============================] - 0s 5ms/step - loss: 0.4555 - accuracy: 0.8402 - val_loss: 0.9642 - val_accuracy: 0.4846\n",
            "Epoch 5/50\n",
            "86/86 [==============================] - 0s 6ms/step - loss: 0.3882 - accuracy: 0.8733 - val_loss: 0.7369 - val_accuracy: 0.6755\n",
            "Epoch 6/50\n",
            "86/86 [==============================] - 0s 5ms/step - loss: 0.3565 - accuracy: 0.8806 - val_loss: 0.6545 - val_accuracy: 0.7122\n",
            "Epoch 7/50\n",
            "86/86 [==============================] - 0s 5ms/step - loss: 0.3318 - accuracy: 0.8917 - val_loss: 0.6405 - val_accuracy: 0.7283\n",
            "Epoch 8/50\n",
            "86/86 [==============================] - 0s 5ms/step - loss: 0.3170 - accuracy: 0.8983 - val_loss: 0.5545 - val_accuracy: 0.7885\n",
            "Epoch 9/50\n",
            "86/86 [==============================] - 0s 5ms/step - loss: 0.2906 - accuracy: 0.9008 - val_loss: 0.4716 - val_accuracy: 0.8561\n",
            "Epoch 10/50\n",
            "86/86 [==============================] - 0s 5ms/step - loss: 0.2824 - accuracy: 0.9053 - val_loss: 0.6614 - val_accuracy: 0.7460\n",
            "Epoch 11/50\n",
            "86/86 [==============================] - 0s 5ms/step - loss: 0.2849 - accuracy: 0.9012 - val_loss: 0.4584 - val_accuracy: 0.8517\n",
            "Epoch 12/50\n",
            "86/86 [==============================] - 0s 5ms/step - loss: 0.2821 - accuracy: 0.9038 - val_loss: 0.3613 - val_accuracy: 0.8928\n",
            "Epoch 13/50\n",
            "86/86 [==============================] - 0s 5ms/step - loss: 0.2686 - accuracy: 0.9111 - val_loss: 0.4537 - val_accuracy: 0.8752\n",
            "Epoch 14/50\n",
            "86/86 [==============================] - 0s 5ms/step - loss: 0.2815 - accuracy: 0.9075 - val_loss: 0.6694 - val_accuracy: 0.7768\n",
            "Epoch 15/50\n",
            "86/86 [==============================] - 0s 5ms/step - loss: 0.2508 - accuracy: 0.9166 - val_loss: 0.5897 - val_accuracy: 0.8047\n",
            "Epoch 16/50\n",
            "86/86 [==============================] - 0s 5ms/step - loss: 0.2638 - accuracy: 0.9170 - val_loss: 0.3504 - val_accuracy: 0.8957\n",
            "Epoch 17/50\n",
            "86/86 [==============================] - 0s 5ms/step - loss: 0.2376 - accuracy: 0.9232 - val_loss: 0.8204 - val_accuracy: 0.7680\n",
            "Epoch 18/50\n",
            "86/86 [==============================] - 0s 5ms/step - loss: 0.2327 - accuracy: 0.9240 - val_loss: 0.4221 - val_accuracy: 0.8605\n",
            "Epoch 19/50\n",
            "86/86 [==============================] - 0s 5ms/step - loss: 0.2441 - accuracy: 0.9130 - val_loss: 0.5218 - val_accuracy: 0.8238\n",
            "Epoch 20/50\n",
            "86/86 [==============================] - 1s 7ms/step - loss: 0.2436 - accuracy: 0.9166 - val_loss: 0.4706 - val_accuracy: 0.8605\n",
            "Epoch 21/50\n",
            "86/86 [==============================] - 1s 7ms/step - loss: 0.2349 - accuracy: 0.9269 - val_loss: 0.6372 - val_accuracy: 0.7548\n",
            "Epoch 22/50\n",
            "86/86 [==============================] - 1s 8ms/step - loss: 0.2404 - accuracy: 0.9210 - val_loss: 0.5624 - val_accuracy: 0.8076\n",
            "Epoch 23/50\n",
            "86/86 [==============================] - 1s 6ms/step - loss: 0.2398 - accuracy: 0.9218 - val_loss: 0.6456 - val_accuracy: 0.7592\n",
            "Epoch 24/50\n",
            "86/86 [==============================] - 1s 8ms/step - loss: 0.2309 - accuracy: 0.9299 - val_loss: 0.4559 - val_accuracy: 0.8576\n",
            "Epoch 25/50\n",
            "86/86 [==============================] - 1s 8ms/step - loss: 0.2473 - accuracy: 0.9196 - val_loss: 0.4849 - val_accuracy: 0.8443\n",
            "Epoch 26/50\n",
            "86/86 [==============================] - 0s 6ms/step - loss: 0.2331 - accuracy: 0.9225 - val_loss: 0.5129 - val_accuracy: 0.8429\n",
            "Epoch 27/50\n",
            "86/86 [==============================] - 0s 5ms/step - loss: 0.2232 - accuracy: 0.9221 - val_loss: 0.3791 - val_accuracy: 0.8811\n",
            "Epoch 28/50\n",
            "86/86 [==============================] - 0s 5ms/step - loss: 0.2329 - accuracy: 0.9262 - val_loss: 0.3652 - val_accuracy: 0.8943\n",
            "Epoch 29/50\n",
            "86/86 [==============================] - 0s 5ms/step - loss: 0.2174 - accuracy: 0.9243 - val_loss: 0.4174 - val_accuracy: 0.8752\n",
            "Epoch 30/50\n",
            "86/86 [==============================] - 0s 5ms/step - loss: 0.2273 - accuracy: 0.9273 - val_loss: 0.6320 - val_accuracy: 0.7592\n",
            "Epoch 31/50\n",
            "86/86 [==============================] - 0s 5ms/step - loss: 0.2309 - accuracy: 0.9240 - val_loss: 0.6784 - val_accuracy: 0.7841\n",
            "Epoch 32/50\n",
            "86/86 [==============================] - 0s 5ms/step - loss: 0.2148 - accuracy: 0.9335 - val_loss: 0.4495 - val_accuracy: 0.8576\n",
            "Epoch 33/50\n",
            "86/86 [==============================] - 0s 5ms/step - loss: 0.2222 - accuracy: 0.9269 - val_loss: 0.3961 - val_accuracy: 0.8899\n",
            "Epoch 34/50\n",
            "86/86 [==============================] - 0s 5ms/step - loss: 0.2040 - accuracy: 0.9383 - val_loss: 0.4563 - val_accuracy: 0.8708\n",
            "Epoch 35/50\n",
            "86/86 [==============================] - 0s 5ms/step - loss: 0.2082 - accuracy: 0.9332 - val_loss: 0.4649 - val_accuracy: 0.8488\n",
            "Epoch 36/50\n",
            "86/86 [==============================] - 0s 5ms/step - loss: 0.1990 - accuracy: 0.9372 - val_loss: 0.5364 - val_accuracy: 0.8355\n",
            "Epoch 37/50\n",
            "86/86 [==============================] - 0s 5ms/step - loss: 0.2041 - accuracy: 0.9328 - val_loss: 0.2878 - val_accuracy: 0.9266\n",
            "Epoch 38/50\n",
            "86/86 [==============================] - 0s 5ms/step - loss: 0.2220 - accuracy: 0.9240 - val_loss: 0.3345 - val_accuracy: 0.9104\n",
            "Epoch 39/50\n",
            "86/86 [==============================] - 0s 5ms/step - loss: 0.2104 - accuracy: 0.9343 - val_loss: 0.5228 - val_accuracy: 0.8223\n",
            "Epoch 40/50\n",
            "86/86 [==============================] - 0s 5ms/step - loss: 0.2091 - accuracy: 0.9317 - val_loss: 0.4454 - val_accuracy: 0.8869\n",
            "Epoch 41/50\n",
            "86/86 [==============================] - 0s 5ms/step - loss: 0.2031 - accuracy: 0.9335 - val_loss: 0.4768 - val_accuracy: 0.8502\n",
            "Epoch 42/50\n",
            "86/86 [==============================] - 0s 5ms/step - loss: 0.2101 - accuracy: 0.9313 - val_loss: 0.5039 - val_accuracy: 0.8678\n",
            "Epoch 43/50\n",
            "86/86 [==============================] - 0s 5ms/step - loss: 0.1948 - accuracy: 0.9357 - val_loss: 0.4233 - val_accuracy: 0.8767\n",
            "Epoch 44/50\n",
            "86/86 [==============================] - 0s 5ms/step - loss: 0.2004 - accuracy: 0.9350 - val_loss: 0.5245 - val_accuracy: 0.8443\n",
            "Epoch 45/50\n",
            "86/86 [==============================] - 0s 5ms/step - loss: 0.2108 - accuracy: 0.9266 - val_loss: 0.4813 - val_accuracy: 0.8443\n",
            "Epoch 46/50\n",
            "86/86 [==============================] - 0s 5ms/step - loss: 0.1999 - accuracy: 0.9339 - val_loss: 0.6539 - val_accuracy: 0.8003\n",
            "Epoch 47/50\n",
            "86/86 [==============================] - 0s 6ms/step - loss: 0.2137 - accuracy: 0.9254 - val_loss: 0.4691 - val_accuracy: 0.8693\n",
            "Epoch 48/50\n",
            "86/86 [==============================] - 1s 6ms/step - loss: 0.1979 - accuracy: 0.9350 - val_loss: 0.4711 - val_accuracy: 0.8708\n",
            "Epoch 49/50\n",
            "86/86 [==============================] - 1s 8ms/step - loss: 0.2118 - accuracy: 0.9306 - val_loss: 0.5207 - val_accuracy: 0.8458\n",
            "Epoch 50/50\n",
            "86/86 [==============================] - 1s 8ms/step - loss: 0.2005 - accuracy: 0.9328 - val_loss: 0.4807 - val_accuracy: 0.8884\n"
          ]
        }
      ]
    },
    {
      "cell_type": "code",
      "source": [
        "history.history"
      ],
      "metadata": {
        "colab": {
          "base_uri": "https://localhost:8080/"
        },
        "id": "GLY_DMGjKsJ0",
        "outputId": "8d90a83e-047c-47ac-fb49-670b535aacf1"
      },
      "execution_count": null,
      "outputs": [
        {
          "output_type": "execute_result",
          "data": {
            "text/plain": [
              "{'loss': [1.1065855026245117,\n",
              "  0.6737663149833679,\n",
              "  0.5367745757102966,\n",
              "  0.4555124342441559,\n",
              "  0.38815683126449585,\n",
              "  0.35654619336128235,\n",
              "  0.3318478763103485,\n",
              "  0.3169741630554199,\n",
              "  0.2905992865562439,\n",
              "  0.28241291642189026,\n",
              "  0.2849296033382416,\n",
              "  0.28212419152259827,\n",
              "  0.2685568630695343,\n",
              "  0.28148749470710754,\n",
              "  0.25081416964530945,\n",
              "  0.26377934217453003,\n",
              "  0.23758858442306519,\n",
              "  0.23266133666038513,\n",
              "  0.24406088888645172,\n",
              "  0.24355235695838928,\n",
              "  0.23493210971355438,\n",
              "  0.24039775133132935,\n",
              "  0.2397642433643341,\n",
              "  0.2309061735868454,\n",
              "  0.24729381501674652,\n",
              "  0.23309911787509918,\n",
              "  0.2232017070055008,\n",
              "  0.23286254703998566,\n",
              "  0.21737869083881378,\n",
              "  0.22729021310806274,\n",
              "  0.23086977005004883,\n",
              "  0.21483711898326874,\n",
              "  0.22219276428222656,\n",
              "  0.20400367677211761,\n",
              "  0.20817828178405762,\n",
              "  0.1989702582359314,\n",
              "  0.2040913701057434,\n",
              "  0.22203370928764343,\n",
              "  0.21037231385707855,\n",
              "  0.2091497778892517,\n",
              "  0.20310711860656738,\n",
              "  0.2100694626569748,\n",
              "  0.19481633603572845,\n",
              "  0.20035037398338318,\n",
              "  0.21084904670715332,\n",
              "  0.19993378221988678,\n",
              "  0.21370241045951843,\n",
              "  0.19788888096809387,\n",
              "  0.21181577444076538,\n",
              "  0.2005109339952469],\n",
              " 'accuracy': [0.5508630275726318,\n",
              "  0.7421960830688477,\n",
              "  0.8035255074501038,\n",
              "  0.8402497172355652,\n",
              "  0.8733015060424805,\n",
              "  0.8806463479995728,\n",
              "  0.8916636109352112,\n",
              "  0.8982739448547363,\n",
              "  0.9008446335792542,\n",
              "  0.9052515625953674,\n",
              "  0.9012119174003601,\n",
              "  0.9037826061248779,\n",
              "  0.9111274480819702,\n",
              "  0.9074550271034241,\n",
              "  0.916636049747467,\n",
              "  0.917003333568573,\n",
              "  0.923246443271637,\n",
              "  0.9239808917045593,\n",
              "  0.9129636287689209,\n",
              "  0.916636049747467,\n",
              "  0.9269188642501831,\n",
              "  0.9210429787635803,\n",
              "  0.9217774271965027,\n",
              "  0.9298567771911621,\n",
              "  0.9195740222930908,\n",
              "  0.9225119352340698,\n",
              "  0.9221447110176086,\n",
              "  0.926184356212616,\n",
              "  0.9243481159210205,\n",
              "  0.9272860884666443,\n",
              "  0.9239808917045593,\n",
              "  0.9335291981697083,\n",
              "  0.9269188642501831,\n",
              "  0.9383033514022827,\n",
              "  0.9331619739532471,\n",
              "  0.9372016191482544,\n",
              "  0.9327946901321411,\n",
              "  0.9239808917045593,\n",
              "  0.9342637062072754,\n",
              "  0.9316929578781128,\n",
              "  0.9335291981697083,\n",
              "  0.9313257336616516,\n",
              "  0.9357326626777649,\n",
              "  0.9349981546401978,\n",
              "  0.9265515804290771,\n",
              "  0.9338964223861694,\n",
              "  0.9254498481750488,\n",
              "  0.9349981546401978,\n",
              "  0.9305912852287292,\n",
              "  0.9327946901321411],\n",
              " 'val_loss': [1.6113331317901611,\n",
              "  1.3913459777832031,\n",
              "  1.1977765560150146,\n",
              "  0.9642212986946106,\n",
              "  0.7368858456611633,\n",
              "  0.6544631719589233,\n",
              "  0.640459418296814,\n",
              "  0.5544570684432983,\n",
              "  0.47160041332244873,\n",
              "  0.6614437699317932,\n",
              "  0.458402156829834,\n",
              "  0.36133089661598206,\n",
              "  0.4536588191986084,\n",
              "  0.6693760752677917,\n",
              "  0.5896632671356201,\n",
              "  0.35043084621429443,\n",
              "  0.8203553557395935,\n",
              "  0.422149121761322,\n",
              "  0.521798312664032,\n",
              "  0.47056442499160767,\n",
              "  0.6372441053390503,\n",
              "  0.5624102354049683,\n",
              "  0.6455737948417664,\n",
              "  0.4559330642223358,\n",
              "  0.48489558696746826,\n",
              "  0.5129428505897522,\n",
              "  0.3790847063064575,\n",
              "  0.36518755555152893,\n",
              "  0.4174378216266632,\n",
              "  0.631973147392273,\n",
              "  0.6784268021583557,\n",
              "  0.44947320222854614,\n",
              "  0.3961142301559448,\n",
              "  0.4563482105731964,\n",
              "  0.46485933661460876,\n",
              "  0.5364101529121399,\n",
              "  0.287791907787323,\n",
              "  0.3345242142677307,\n",
              "  0.5228104591369629,\n",
              "  0.4453873038291931,\n",
              "  0.4768311679363251,\n",
              "  0.5038953423500061,\n",
              "  0.4232695698738098,\n",
              "  0.524547815322876,\n",
              "  0.48127982020378113,\n",
              "  0.6538662910461426,\n",
              "  0.46906131505966187,\n",
              "  0.47105491161346436,\n",
              "  0.520748496055603,\n",
              "  0.4806578457355499],\n",
              " 'val_accuracy': [0.005873715039342642,\n",
              "  0.18942731618881226,\n",
              "  0.35829663276672363,\n",
              "  0.48458150029182434,\n",
              "  0.6754772663116455,\n",
              "  0.7121879458427429,\n",
              "  0.7283406853675842,\n",
              "  0.7885462641716003,\n",
              "  0.8560940027236938,\n",
              "  0.7459618449211121,\n",
              "  0.8516886830329895,\n",
              "  0.8928046822547913,\n",
              "  0.8751835823059082,\n",
              "  0.7767988443374634,\n",
              "  0.8046989440917969,\n",
              "  0.8957415819168091,\n",
              "  0.7679882645606995,\n",
              "  0.8604992628097534,\n",
              "  0.8237885236740112,\n",
              "  0.8604992628097534,\n",
              "  0.7547723650932312,\n",
              "  0.8076358437538147,\n",
              "  0.7591776847839355,\n",
              "  0.8575624227523804,\n",
              "  0.8443465232849121,\n",
              "  0.8428781032562256,\n",
              "  0.8810572624206543,\n",
              "  0.8942731022834778,\n",
              "  0.8751835823059082,\n",
              "  0.7591776847839355,\n",
              "  0.784140944480896,\n",
              "  0.8575624227523804,\n",
              "  0.8898678421974182,\n",
              "  0.8707782626152039,\n",
              "  0.8487518429756165,\n",
              "  0.835536003112793,\n",
              "  0.9265785813331604,\n",
              "  0.9104258418083191,\n",
              "  0.8223201036453247,\n",
              "  0.8869310021400452,\n",
              "  0.850220263004303,\n",
              "  0.8678414225578308,\n",
              "  0.8766520023345947,\n",
              "  0.8443465232849121,\n",
              "  0.8443465232849121,\n",
              "  0.8002936840057373,\n",
              "  0.8693098425865173,\n",
              "  0.8707782626152039,\n",
              "  0.8458150029182434,\n",
              "  0.8883994221687317]}"
            ]
          },
          "metadata": {},
          "execution_count": 25
        }
      ]
    },
    {
      "cell_type": "code",
      "source": [
        "plt.plot(history.history['loss'])\n",
        "plt.plot(history.history['val_loss'])\n",
        "plt.legend([\"Training Loss\",\"Validation Loss\"])\n",
        "plt.show()"
      ],
      "metadata": {
        "id": "ypK_lkEerRLZ",
        "colab": {
          "base_uri": "https://localhost:8080/"
        },
        "outputId": "8be4b79b-dc76-437b-dbcd-3c488be8ab4f"
      },
      "execution_count": null,
      "outputs": [
        {
          "output_type": "display_data",
          "data": {
            "text/plain": [
              "<Figure size 640x480 with 1 Axes>"
            ],
            "image/png": "[encoded data removed]"
          },
          "metadata": {}
        }
      ]
    },
    {
      "cell_type": "code",
      "source": [
        "import seaborn as sns\n",
        "import matplotlib.pyplot as plt\n",
        "from sklearn.metrics import classification_report, confusion_matrix"
      ],
      "metadata": {
        "id": "JNRTL8F7iL2t"
      },
      "execution_count": null,
      "outputs": []
    },
    {
      "cell_type": "code",
      "source": [
        "predictions = model.predict(test_data)\n",
        " \n",
        "predicted_labels = np.argmax(predictions, axis=1)\n",
        "\n",
        "print(\"\\nClassification Report:\")\n",
        "print(classification_report(test_labels, predicted_labels, target_names=folders))\n",
        "\n",
        "cm = confusion_matrix(test_labels, predicted_labels)\n",
        "plt.figure(figsize=(8, 6))\n",
        "sns.heatmap(cm, annot=True, cmap='Blues', xticklabels=folders, yticklabels=folders)\n",
        "plt.xlabel('Predicted Labels')\n",
        "plt.ylabel('True Labels')\n",
        "plt.show()"
      ],
      "metadata": {
        "colab": {
          "base_uri": "https://localhost:8080/"
        },
        "id": "RuKVjWCjqMmM",
        "outputId": "aac83d15-1ef4-4c4b-fe16-566305341838"
      },
      "execution_count": null,
      "outputs": [
        {
          "output_type": "stream",
          "name": "stdout",
          "text": [
            "12/12 [==============================] - 0s 5ms/step\n",
            "\n",
            "Classification Report:\n",
            "              precision    recall  f1-score   support\n",
            "\n",
            "     downdog       0.99      0.99      0.99        79\n",
            "     goddess       0.97      0.96      0.97        73\n",
            "       plank       0.98      1.00      0.99        60\n",
            "        tree       1.00      1.00      1.00        64\n",
            "    warrior2       0.97      0.97      0.97        91\n",
            "\n",
            "    accuracy                           0.98       367\n",
            "   macro avg       0.98      0.98      0.98       367\n",
            "weighted avg       0.98      0.98      0.98       367\n",
            "\n"
          ]
        },
        {
          "output_type": "display_data",
          "data": {
            "text/plain": [
              "<Figure size 800x600 with 2 Axes>"
            ],
            "image/png": "[encoded data removed]"
          },
          "metadata": {}
        }
      ]
    },
    {
      "cell_type": "code",
      "source": [
        "model.save_weights('/content/drive/MyDrive/Project/IPML/checkpoints/my_checkpoint')"
      ],
      "metadata": {
        "id": "EXmXs5UQn6LP"
      },
      "execution_count": null,
      "outputs": []
    },
    {
      "cell_type": "code",
      "source": [
        "%%time\n",
        "hits=0\n",
        "miss=0\n",
        "new_test_path = r\"/content/drive/MyDrive/YogaData/test\" ## dataset of image of group members\n",
        "new_test_data = []\n",
        "new_test_labels = []\n",
        "for folder in folders:\n",
        "    folder_path = os.path.join(new_test_path, folder)\n",
        "    for img_file in os.listdir(folder_path):\n",
        "      img_path = os.path.join(folder_path, img_file)\n",
        "\n",
        "      img = cv2.imread(img_path)\n",
        "      # imageWidth, imageHeight = img.shape[:2]\n",
        "\n",
        "      imgRGB = cv2.cvtColor(img, cv2.COLOR_BGR2RGB)\n",
        "\n",
        "      results = pose.process(imgRGB)\n",
        "      if results.pose_landmarks:\n",
        "        new_test_data.append(get_coord(results))\n",
        "        new_test_labels.append(folders.index(folder))\n",
        "      else:\n",
        "        miss+=1\n",
        "\n",
        "        # images.append(img)\n",
        "\n",
        "\n",
        "print(hits,miss)\n",
        "new_test_data = np.array(new_test_data)\n",
        "new_test_labels = np.array(new_test_labels)"
      ],
      "metadata": {
        "colab": {
          "base_uri": "https://localhost:8080/"
        },
        "id": "IxZCAutBxiPv",
        "outputId": "07095e8a-23dc-4909-84fa-6cd72e285116"
      },
      "execution_count": null,
      "outputs": [
        {
          "output_type": "stream",
          "name": "stdout",
          "text": [
            "0 2\n",
            "CPU times: user 33.7 s, sys: 1.32 s, total: 35 s\n",
            "Wall time: 35.6 s\n"
          ]
        }
      ]
    },
    {
      "cell_type": "code",
      "source": [
        "predictions = model.predict(new_test_data)\n",
        " \n",
        "predicted_labels = np.argmax(predictions, axis=1)\n",
        "\n",
        "print(\"\\nClassification Report:\")\n",
        "print(classification_report(new_test_labels, predicted_labels, target_names=folders))\n",
        "\n",
        "cm = confusion_matrix(new_test_labels, predicted_labels)\n",
        "plt.figure(figsize=(8, 6))\n",
        "sns.heatmap(cm, annot=True, cmap='Blues', xticklabels=folders, yticklabels=folders)\n",
        "plt.xlabel('Predicted Labels')\n",
        "plt.ylabel('True Labels')\n",
        "plt.show()"
      ],
      "metadata": {
        "colab": {
          "base_uri": "https://localhost:8080/",
          "height": 802
        },
        "id": "ABfSg-Ngz5Md",
        "outputId": "17792652-d810-4e33-daa6-05b50c0e59ac"
      },
      "execution_count": null,
      "outputs": [
        {
          "output_type": "stream",
          "name": "stdout",
          "text": [
            "12/12 [==============================] - 0s 4ms/step\n",
            "\n",
            "Classification Report:\n",
            "              precision    recall  f1-score   support\n",
            "\n",
            "     downdog       1.00      1.00      1.00        84\n",
            "     goddess       0.97      0.93      0.95        73\n",
            "       plank       1.00      1.00      1.00        60\n",
            "        tree       0.98      1.00      0.99        64\n",
            "    warrior2       0.96      0.98      0.97        91\n",
            "\n",
            "    accuracy                           0.98       372\n",
            "   macro avg       0.98      0.98      0.98       372\n",
            "weighted avg       0.98      0.98      0.98       372\n",
            "\n"
          ]
        },
        {
          "output_type": "display_data",
          "data": {
            "text/plain": [
              "<Figure size 800x600 with 2 Axes>"
            ],
            "image/png": "[encoded data removed]"
          },
          "metadata": {}
        }
      ]
    },
    {
      "cell_type": "code",
      "source": [],
      "metadata": {
        "id": "DYmhl23rSPEQ"
      },
      "execution_count": null,
      "outputs": []
    }
  ]
}