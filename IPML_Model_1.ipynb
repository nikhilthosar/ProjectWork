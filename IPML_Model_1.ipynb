{
 "cells": [
  {
   "cell_type": "code",
   "execution_count": 1,
   "metadata": {
    "id": "tswJ6ODbRBsy"
   },
   "outputs": [],
   "source": [
    "import numpy as np\n",
    "import os\n",
    "import cv2\n",
    "import tensorflow as tf\n",
    "from tensorflow.keras import layers, models\n",
    "from sklearn.decomposition import PCA\n",
    "from sklearn.neighbors import KDTree"
   ]
  },
  {
   "cell_type": "code",
   "execution_count": 2,
   "metadata": {
    "colab": {
     "base_uri": "https://localhost:8080/"
    },
    "id": "yQShLTLaRcy4",
    "outputId": "13f164b5-bfc1-4fcb-ec19-29f5abebe127"
   },
   "outputs": [],
   "source": [
    "#!pip install mediapipe\n",
    "import mediapipe as mp"
   ]
  },
  {
   "cell_type": "code",
   "execution_count": 3,
   "metadata": {
    "id": "r7K2uarHR_SK"
   },
   "outputs": [],
   "source": [
    "mpPose = mp.solutions.pose\n",
    "pose = mpPose.Pose(static_image_mode=True)\n",
    "mpDraw = mp.solutions.drawing_utils # For drawing keypoints\n",
    "points = mpPose.PoseLandmark # Landmarks"
   ]
  },
  {
   "cell_type": "code",
   "execution_count": 4,
   "metadata": {
    "colab": {
     "base_uri": "https://localhost:8080/"
    },
    "id": "bJA4xiPeSqgx",
    "outputId": "8ab905d0-db1d-416a-b238-cacadc0a4f7e"
   },
   "outputs": [],
   "source": [
    "# from google.colab import drive\n",
    "# drive.mount('/content/drive')"
   ]
  },
  {
   "cell_type": "code",
   "execution_count": 5,
   "metadata": {
    "id": "hBOmCdVnSKgr"
   },
   "outputs": [],
   "source": [
    "path=r\"C:/Users/Asus/Downloads/IPML_Project/YogaData/train\"\n",
    "folders=[\"downdog\",\"goddess\",\"plank\",\"tree\",\"warrior2\"]"
   ]
  },
  {
   "cell_type": "code",
   "execution_count": 6,
   "metadata": {
    "id": "8xKWhEtqSULV"
   },
   "outputs": [],
   "source": [
    "img_size = 256\n",
    "\n",
    "training_data = []\n",
    "training_labels = []"
   ]
  },
  {
   "cell_type": "code",
   "execution_count": 7,
   "metadata": {
    "colab": {
     "base_uri": "https://localhost:8080/"
    },
    "id": "lz3lptNNSgEb",
    "outputId": "63602df1-ad35-4c79-9fa1-90ec2bc908dd"
   },
   "outputs": [
    {
     "name": "stdout",
     "output_type": "stream",
     "text": [
      "hits,0\n",
      "hits,100\n",
      "hits,200\n",
      "hits,200\n",
      "hits,300\n",
      "hits,400\n",
      "hits,500\n",
      "hits,600\n",
      "hits,700\n",
      "hits,800\n",
      "hits,900\n",
      "hits,1000\n",
      "hits,1100\n",
      "hits,1200\n",
      "hits,1300\n",
      "hits,1400\n",
      "hits,1500\n",
      "hits,1600\n",
      "hits,1700\n",
      "CPU times: total: 1min 37s\n",
      "Wall time: 2min 21s\n"
     ]
    }
   ],
   "source": [
    "%%time\n",
    "training_data=[]\n",
    "training_labels=[]\n",
    "hits=0\n",
    "miss=0\n",
    "for folder in folders:\n",
    "    folder_path = os.path.join(path, folder)\n",
    "    for img_file in os.listdir(folder_path):\n",
    "      if hits%100==0:\n",
    "        print(f\"hits,{hits}\")\n",
    "      img_path = os.path.join(folder_path, img_file)\n",
    "\n",
    "      img = cv2.imread(img_path)\n",
    "      img = cv2.resize(img, (img_size, img_size))\n",
    "      # imageWidth, imageHeight = img.shape[:2]\n",
    "\n",
    "      imgRGB = cv2.cvtColor(img, cv2.COLOR_BGR2RGB)\n",
    "\n",
    "      blackie = np.zeros(img.shape) # Blank image\n",
    "\n",
    "      results = pose.process(imgRGB)\n",
    "      if results.pose_landmarks:\n",
    "\n",
    "        # mpDraw.draw_landmarks(img, results.pose_landmarks, mpPose.POSE_CONNECTIONS) #draw landmarks on image\n",
    "\n",
    "        mpDraw.draw_landmarks(blackie, results.pose_landmarks, mpPose.POSE_CONNECTIONS) # draw landmarks on blackie\n",
    "\n",
    "        # landmarks = results.pose_landmarks.landmark\n",
    "        hits+=1\n",
    "        black_image=cv2.resize(blackie, (img_size, img_size))\n",
    "        black_image = cv2.cvtColor(black_image.astype('float32'), cv2.COLOR_BGR2GRAY)\n",
    "        black_image=black_image/255.0\n",
    "        training_data.append(black_image)\n",
    "        training_labels.append(folders.index(folder))\n",
    "      else:\n",
    "        miss+=1\n",
    "        # images.append(img)"
   ]
  },
  {
   "cell_type": "code",
   "execution_count": 8,
   "metadata": {
    "colab": {
     "base_uri": "https://localhost:8080/"
    },
    "id": "kAmuDP5RSjRy",
    "outputId": "2c351ea4-fdb9-4443-8e5b-8eda9965eed7"
   },
   "outputs": [
    {
     "name": "stdout",
     "output_type": "stream",
     "text": [
      "downdog 0\n",
      "goddess 0\n",
      "plank 0\n",
      "tree 0\n",
      "warrior2 0\n",
      "CPU times: total: 2min 9s\n",
      "Wall time: 2min 44s\n"
     ]
    }
   ],
   "source": [
    "%%time\n",
    "from tensorflow.keras.preprocessing.image import ImageDataGenerator\n",
    "count=0\n",
    "datagen = ImageDataGenerator(\n",
    "    rotation_range=20,\n",
    "    width_shift_range=0.2,\n",
    "    height_shift_range=0.2,\n",
    "    shear_range=0.2,\n",
    "    zoom_range=0.2,\n",
    "    horizontal_flip=True,\n",
    "    vertical_flip=False,\n",
    "    fill_mode='nearest',\n",
    "    channel_shift_range=0.2)\n",
    " \n",
    "augmented_data = []\n",
    "augmented_labels = []\n",
    " \n",
    "for folder in folders:\n",
    "    print(folder,count)    \n",
    "    folder_path = os.path.join(path, folder)\n",
    "    for img_file in os.listdir(folder_path):\n",
    "        img_path = os.path.join(folder_path, img_file)\n",
    "        img = cv2.imread(img_path)\n",
    "        img = cv2.resize(img, (img_size, img_size))\n",
    "        img = cv2.cvtColor(img, cv2.COLOR_BGR2RGB)\n",
    "        # img = img / 255.0\n",
    "\n",
    "        # augmented_data.append(img)\n",
    "        # augmented_labels.append(folders.index(folder)) \n",
    "        img = img.reshape((1,) + img.shape)\n",
    "        for batch in datagen.flow(img, batch_size=1):\n",
    "            augmented_img = batch[0]\n",
    "            blackie = np.zeros(augmented_img.shape) # Blank image\n",
    "\n",
    "            results = pose.process(augmented_img.astype(\"uint8\"))\n",
    "            if results.pose_landmarks:\n",
    "              # mpDraw.draw_landmarks(img, results.pose_landmarks, mpPose.POSE_CONNECTIONS) #draw landmarks on image\n",
    "\n",
    "              mpDraw.draw_landmarks(blackie, results.pose_landmarks, mpPose.POSE_CONNECTIONS) # draw landmarks on blackie\n",
    "\n",
    "              # landmarks = results.pose_landmarks.landmark\n",
    "              black_image=cv2.resize(blackie, (img_size, img_size))\n",
    "              black_image = cv2.cvtColor(black_image.astype('float32'), cv2.COLOR_BGR2GRAY)\n",
    "              black_image=black_image/255.0\n",
    "              training_data.append(black_image)\n",
    "              training_labels.append(folders.index(folder))\n",
    "            break\n",
    "\n"
   ]
  },
  {
   "cell_type": "code",
   "execution_count": 9,
   "metadata": {
    "colab": {
     "base_uri": "https://localhost:8080/"
    },
    "id": "94A3W-C0U3Ee",
    "outputId": "ba9100f5-40d0-4609-ebb9-9738582eaf3f"
   },
   "outputs": [
    {
     "name": "stdout",
     "output_type": "stream",
     "text": [
      "Training data shape: (3370, 256, 256)\n",
      "Training labels shape: (3370,)\n"
     ]
    }
   ],
   "source": [
    "training_data = np.array(training_data)\n",
    "training_labels = np.array(training_labels)\n",
    " \n",
    "print(\"Training data shape:\", training_data.shape)\n",
    "print(\"Training labels shape:\", training_labels.shape)"
   ]
  },
  {
   "cell_type": "code",
   "execution_count": 10,
   "metadata": {
    "colab": {
     "base_uri": "https://localhost:8080/"
    },
    "id": "2VP85FtOU7pX",
    "outputId": "d8d7c082-29dd-48f3-9aff-0b627940b310"
   },
   "outputs": [
    {
     "name": "stdout",
     "output_type": "stream",
     "text": [
      "100\n",
      "200\n",
      "300\n",
      "400\n",
      "405 10\n",
      "CPU times: total: 26.5 s\n",
      "Wall time: 44.9 s\n"
     ]
    }
   ],
   "source": [
    "%%time\n",
    "\n",
    "hits=0\n",
    "miss=0\n",
    "test_path = r\"C:/Users/Asus/Downloads/IPML_Project/YogaData/test\"\n",
    "test_data = []\n",
    "test_labels = []\n",
    "count=0\n",
    "for folder in folders:\n",
    "    folder_path = os.path.join(test_path, folder)\n",
    "    for img_file in os.listdir(folder_path):\n",
    "      img_path = os.path.join(folder_path, img_file)\n",
    "\n",
    "      img = cv2.imread(img_path)\n",
    "      # imageWidth, imageHeight = img.shape[:2]\n",
    "      img=cv2.resize(img, (img_size, img_size))\n",
    "      imgRGB = cv2.cvtColor(img, cv2.COLOR_BGR2RGB)\n",
    "      \n",
    "      blackie = np.zeros(img.shape) # Blank image\n",
    "\n",
    "      results = pose.process(imgRGB)\n",
    "      if results.pose_landmarks:\n",
    "\n",
    "        # mpDraw.draw_landmarks(img, results.pose_landmarks, mpPose.POSE_CONNECTIONS) #draw landmarks on image\n",
    "\n",
    "        mpDraw.draw_landmarks(blackie, results.pose_landmarks, mpPose.POSE_CONNECTIONS) # draw landmarks on blackie\n",
    "\n",
    "        # landmarks = results.pose_landmarks.landmark\n",
    "        hits+=1\n",
    "        black_image=cv2.resize(blackie, (img_size, img_size))\n",
    "        black_image = cv2.cvtColor(black_image.astype('float32'), cv2.COLOR_BGR2GRAY)\n",
    "        black_image=black_image/255.0\n",
    "        test_data.append(black_image)\n",
    "        test_labels.append(folders.index(folder))\n",
    "        count += 1\n",
    "        if count % 100 == 0:\n",
    "          print(count)\n",
    "      else:\n",
    "        miss+=1\n",
    "        # images.append(img)\n",
    "\n",
    "\n",
    "print(hits,miss)\n"
   ]
  },
  {
   "cell_type": "code",
   "execution_count": 11,
   "metadata": {
    "colab": {
     "base_uri": "https://localhost:8080/"
    },
    "id": "jh16fPMJZBIO",
    "outputId": "6b2453ff-3a35-4b8d-842f-5d7f8a275cab"
   },
   "outputs": [],
   "source": [
    "\n",
    "test_data = np.array(test_data)\n",
    "test_labels = np.array(test_labels)"
   ]
  },
  {
   "cell_type": "code",
   "execution_count": 13,
   "metadata": {
    "colab": {
     "base_uri": "https://localhost:8080/"
    },
    "id": "RYGc0UudXl4a",
    "outputId": "950e5bdd-58c7-41fe-8f5d-4f91edaa5674"
   },
   "outputs": [
    {
     "name": "stdout",
     "output_type": "stream",
     "text": [
      "(3370, 256, 256)\n",
      "(3370, 65536)\n",
      "(405, 65536)\n"
     ]
    }
   ],
   "source": [
    "print(training_data.shape)\n",
    "training_data = training_data.reshape(3370,65536)\n",
    "print(training_data.shape)\n",
    "test_data = test_data.reshape(test_data.shape[0],65536)\n",
    "print(test_data.shape)"
   ]
  },
  {
   "cell_type": "code",
   "execution_count": 14,
   "metadata": {
    "id": "1oD_uSxCVi3Z"
   },
   "outputs": [
    {
     "name": "stdout",
     "output_type": "stream",
     "text": [
      "0.28793736558873206\n"
     ]
    }
   ],
   "source": [
    "# Step 3: Apply PCA dimensionality reduction\n",
    "d = 100\n",
    "ls = 20\n",
    "pca = PCA(n_components=d)\n",
    "X_train_pca = pca.fit_transform(training_data)\n",
    "print(sum(pca.explained_variance_ratio_))\n",
    "# Construct a KD-Tree from the MNIST training data\n",
    "kdtree = KDTree(X_train_pca, leaf_size=ls)"
   ]
  },
  {
   "cell_type": "code",
   "execution_count": 32,
   "metadata": {
    "colab": {
     "base_uri": "https://localhost:8080/"
    },
    "id": "R8n--w6RZVFg",
    "outputId": "19573eef-219a-43c9-fedd-af091dd15750"
   },
   "outputs": [
    {
     "name": "stdout",
     "output_type": "stream",
     "text": [
      "0.8518518518518519\n"
     ]
    }
   ],
   "source": [
    "# Choose a random image from the test set\n",
    "#idx = np.random.randint(test_data.shape[0])\n",
    "acc = 0\n",
    "predicted_labels = []\n",
    "\n",
    "for idx in range(test_data.shape[0]):\n",
    "\n",
    "  query_image = test_data[idx]\n",
    "\n",
    "  # Apply PCA dimensionality reduction to the query image\n",
    "  query_image_pca = pca.transform(query_image.reshape(1, -1))\n",
    "\n",
    "  # Perform a KD-Tree search \n",
    "  distances, indices = kdtree.query(query_image_pca, k=4)\n",
    "\n",
    "  #print(distances)\n",
    "  #print(training_labels[indices])\n",
    "  #print(test_labels[idx])\n",
    "\n",
    "  lab_lst = np.zeros(5)\n",
    "  indices = indices.reshape(-1)\n",
    "\n",
    "  for i in list(indices):\n",
    "    #print(training_labels[idx])\n",
    "    lab_lst[training_labels[i]] = lab_lst[training_labels[i]]+1\n",
    "    #print(lab_lst)\n",
    "\n",
    "  #print(lab_lst)\n",
    "  #print(np.argmax(lab_lst))\n",
    "    \n",
    "  pred = np.argmax(lab_lst)\n",
    "  predicted_labels.append(pred)\n",
    "\n",
    "  if pred==test_labels[idx]:\n",
    "    acc+=1\n",
    "\n",
    "\n",
    "print(acc/test_labels.shape[0])\n",
    "\n"
   ]
  },
  {
   "cell_type": "code",
   "execution_count": 16,
   "metadata": {
    "colab": {
     "base_uri": "https://localhost:8080/"
    },
    "id": "02MJhJlHcwwA",
    "outputId": "129bca1d-a25b-41ef-efe4-0ebbc41313c5"
   },
   "outputs": [
    {
     "name": "stdout",
     "output_type": "stream",
     "text": [
      "[0 0 0 0 0 0 0 0 0 0 0 0 0 0 0 0 0 0 0 0 0 0 0 0 0 0 0 0 0 0 0 0 0 0 0 0 0\n",
      " 0 0 0 0 0 0 0 0 0 0 0 0 0 0 0 0 0 0 0 0 0 0 0 0 0 0 0 0 0 0 0 0 0 0 0 0 0\n",
      " 0 0 0 0 0 0 0 0 0 0 0 0 0 0 0 1 1 1 1 1 1 1 1 1 1 1 1 1 1 1 1 1 1 1 1 1 1\n",
      " 1 1 1 1 1 1 1 1 1 1 1 1 1 1 1 1 1 1 1 1 1 1 1 1 1 1 1 1 1 1 1 1 1 1 1 1 1\n",
      " 1 1 1 1 1 1 1 1 1 1 1 1 1 1 1 1 1 1 1 1 2 2 2 2 2 2 2 2 2 2 2 2 2 2 2 2 2\n",
      " 2 2 2 2 2 2 2 2 2 2 2 2 2 2 2 2 2 2 2 2 2 2 2 2 2 2 2 2 2 2 2 2 2 2 2 2 2\n",
      " 2 2 2 2 2 2 2 2 2 2 2 2 3 3 3 3 3 3 3 3 3 3 3 3 3 3 3 3 3 3 3 3 3 3 3 3 3\n",
      " 3 3 3 3 3 3 3 3 3 3 3 3 3 3 3 3 3 3 3 3 3 3 3 3 3 3 3 3 3 3 3 3 3 3 3 3 3\n",
      " 3 3 3 3 3 3 4 4 4 4 4 4 4 4 4 4 4 4 4 4 4 4 4 4 4 4 4 4 4 4 4 4 4 4 4 4 4\n",
      " 4 4 4 4 4 4 4 4 4 4 4 4 4 4 4 4 4 4 4 4 4 4 4 4 4 4 4 4 4 4 4 4 4 4 4 4 4\n",
      " 4 4 4 4 4 4 4 4 4 4 4 4 4 4 4 4 4 4 4 4 4 4 4 4 4 4 4 4 4 4 4 4 4 4 4]\n"
     ]
    }
   ],
   "source": [
    "print(test_labels)"
   ]
  },
  {
   "cell_type": "code",
   "execution_count": 35,
   "metadata": {},
   "outputs": [],
   "source": [
    "predicted_labels = np.array(predicted_labels)"
   ]
  },
  {
   "cell_type": "code",
   "execution_count": 27,
   "metadata": {},
   "outputs": [],
   "source": [
    "import seaborn as sns\n",
    "import matplotlib.pyplot as plt\n",
    "from sklearn.metrics import classification_report, confusion_matrix"
   ]
  },
  {
   "cell_type": "code",
   "execution_count": 36,
   "metadata": {},
   "outputs": [],
   "source": [
    "cm = confusion_matrix(test_labels, predicted_labels)\n",
    "\n"
   ]
  },
  {
   "cell_type": "code",
   "execution_count": 38,
   "metadata": {},
   "outputs": [
    {
     "data": {
      "image/png": "[encoded data removed]",
      "text/plain": [
       "<Figure size 576x432 with 2 Axes>"
      ]
     },
     "metadata": {
      "needs_background": "light"
     },
     "output_type": "display_data"
    }
   ],
   "source": [
    "# Plot the confusion matrix\n",
    "plt.figure(figsize=(8, 6))\n",
    "sns.heatmap(cm, annot=True, cmap='Blues', xticklabels=folders, yticklabels=folders)\n",
    "plt.xlabel('Predicted Labels')\n",
    "plt.ylabel('True Labels')\n",
    "plt.show()"
   ]
  },
  {
   "cell_type": "code",
   "execution_count": 39,
   "metadata": {},
   "outputs": [
    {
     "name": "stdout",
     "output_type": "stream",
     "text": [
      "\n",
      "Classification Report:\n",
      "              precision    recall  f1-score   support\n",
      "\n",
      "     downdog       0.82      1.00      0.90        89\n",
      "     goddess       0.83      0.76      0.79        79\n",
      "       plank       0.87      0.80      0.83        66\n",
      "        tree       0.87      0.99      0.92        68\n",
      "    warrior2       0.88      0.74      0.80       103\n",
      "\n",
      "    accuracy                           0.85       405\n",
      "   macro avg       0.85      0.86      0.85       405\n",
      "weighted avg       0.85      0.85      0.85       405\n",
      "\n"
     ]
    }
   ],
   "source": [
    "print(\"\\nClassification Report:\")\n",
    "print(classification_report(test_labels, predicted_labels, target_names=folders))"
   ]
  }
 ],
 "metadata": {
  "colab": {
   "provenance": []
  },
  "kernelspec": {
   "display_name": "Python 3 (ipykernel)",
   "language": "python",
   "name": "python3"
  },
  "language_info": {
   "codemirror_mode": {
    "name": "ipython",
    "version": 3
   },
   "file_extension": ".py",
   "mimetype": "text/x-python",
   "name": "python",
   "nbconvert_exporter": "python",
   "pygments_lexer": "ipython3",
   "version": "3.9.12"
  }
 },
 "nbformat": 4,
 "nbformat_minor": 1
}
