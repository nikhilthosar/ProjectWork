{
 "cells": [
  {
   "cell_type": "markdown",
   "id": "35738a04",
   "metadata": {},
   "source": [
    "# Data Visualization Project: Indian Power Sector at a Glance\n",
    "   > ### By Nikhil Thosar (224161020)"
   ]
  },
  {
   "cell_type": "markdown",
   "id": "54725ec0",
   "metadata": {},
   "source": [
    "##### Note: Change the paths to the csv files before running the codes"
   ]
  },
  {
   "cell_type": "markdown",
   "id": "e5d4ccc1",
   "metadata": {},
   "source": [
    "### Data Cleaning\n",
    ">   Data consistency is essential for accurate analysis and decision-making. When dealing with data on power generation in India, it is important to ensure that the state names are spelled correctly, and there are no duplications or discrepancies in the names. For example, 'Andhra Pradesh' and 'Andhra Pradesh.' may be the same state but with slightly different names. This inconsistency can lead to errors in analysis and should be corrected.\n",
    "\n",
    ">In addition to spelling correction and removal of duplication in state names, data consistency may also involve handling newly formed or combined states or union territories (UTs). For example, in recent years, Telangana was formed by splitting Andhra Pradesh, and Jammu and Kashmir was split into two UTs. This change in the political boundaries of states and UTs requires updating the data to ensure that it is consistent with the current geographic division of the country.\n",
    "\n",
    ">Another challenge in dealing with power generation data is handling NaN values or missing data. NaN values can occur when data is not available or is incomplete. In the case of power generation data, it could be due to a power plant being shut down for maintenance, or due to a delay in data reporting. In such cases, it may be necessary to interpolate the data to estimate the missing values based on available data points. Interpolation can help fill in gaps in the data and make it more consistent, allowing for more accurate analysis.\n",
    "\n",
    ">In particular, the Power_Generation.csv file may have missing data that requires interpolation to estimate the power generation during those periods accurately. Interpolation techniques such as linear interpolation, cubic interpolation, or spline interpolation can be used to fill in missing values."
   ]
  },
  {
   "cell_type": "code",
   "execution_count": 1,
   "id": "d7145ab2",
   "metadata": {},
   "outputs": [],
   "source": [
    "import pandas as pd\n",
    "from plotnine import *\n",
    "import numpy as np\n",
    "import matplotlib.pyplot as plt"
   ]
  },
  {
   "cell_type": "code",
   "execution_count": 2,
   "id": "0c1b0e77",
   "metadata": {},
   "outputs": [
    {
     "ename": "FileNotFoundError",
     "evalue": "[Errno 2] No such file or directory: 'C:/Users/PC/Desktop/Work/DVProject/Power/Installed_Power_Capacity_State_wise_MW.csv'",
     "output_type": "error",
     "traceback": [
      "\u001b[1;31m---------------------------------------------------------------------------\u001b[0m",
      "\u001b[1;31mFileNotFoundError\u001b[0m                         Traceback (most recent call last)",
      "\u001b[1;32m~\\AppData\\Local\\Temp\\ipykernel_13864\\2162996162.py\u001b[0m in \u001b[0;36m<module>\u001b[1;34m\u001b[0m\n\u001b[0;32m      1\u001b[0m \u001b[1;31m#reading the power generation capacity file\u001b[0m\u001b[1;33m\u001b[0m\u001b[1;33m\u001b[0m\u001b[0m\n\u001b[1;32m----> 2\u001b[1;33m \u001b[0mdf\u001b[0m \u001b[1;33m=\u001b[0m \u001b[0mpd\u001b[0m\u001b[1;33m.\u001b[0m\u001b[0mread_csv\u001b[0m\u001b[1;33m(\u001b[0m\u001b[1;34m\"C:/Users/PC/Desktop/Work/DVProject/Power/Installed_Power_Capacity_State_wise_MW.csv\"\u001b[0m\u001b[1;33m)\u001b[0m\u001b[1;33m\u001b[0m\u001b[1;33m\u001b[0m\u001b[0m\n\u001b[0m\u001b[0;32m      3\u001b[0m \u001b[0mdf\u001b[0m\u001b[1;33m.\u001b[0m\u001b[0mhead\u001b[0m\u001b[1;33m(\u001b[0m\u001b[1;33m)\u001b[0m\u001b[1;33m\u001b[0m\u001b[1;33m\u001b[0m\u001b[0m\n",
      "\u001b[1;32m~\\anaconda3\\lib\\site-packages\\pandas\\util\\_decorators.py\u001b[0m in \u001b[0;36mwrapper\u001b[1;34m(*args, **kwargs)\u001b[0m\n\u001b[0;32m    309\u001b[0m                     \u001b[0mstacklevel\u001b[0m\u001b[1;33m=\u001b[0m\u001b[0mstacklevel\u001b[0m\u001b[1;33m,\u001b[0m\u001b[1;33m\u001b[0m\u001b[1;33m\u001b[0m\u001b[0m\n\u001b[0;32m    310\u001b[0m                 )\n\u001b[1;32m--> 311\u001b[1;33m             \u001b[1;32mreturn\u001b[0m \u001b[0mfunc\u001b[0m\u001b[1;33m(\u001b[0m\u001b[1;33m*\u001b[0m\u001b[0margs\u001b[0m\u001b[1;33m,\u001b[0m \u001b[1;33m**\u001b[0m\u001b[0mkwargs\u001b[0m\u001b[1;33m)\u001b[0m\u001b[1;33m\u001b[0m\u001b[1;33m\u001b[0m\u001b[0m\n\u001b[0m\u001b[0;32m    312\u001b[0m \u001b[1;33m\u001b[0m\u001b[0m\n\u001b[0;32m    313\u001b[0m         \u001b[1;32mreturn\u001b[0m \u001b[0mwrapper\u001b[0m\u001b[1;33m\u001b[0m\u001b[1;33m\u001b[0m\u001b[0m\n",
      "\u001b[1;32m~\\anaconda3\\lib\\site-packages\\pandas\\io\\parsers\\readers.py\u001b[0m in \u001b[0;36mread_csv\u001b[1;34m(filepath_or_buffer, sep, delimiter, header, names, index_col, usecols, squeeze, prefix, mangle_dupe_cols, dtype, engine, converters, true_values, false_values, skipinitialspace, skiprows, skipfooter, nrows, na_values, keep_default_na, na_filter, verbose, skip_blank_lines, parse_dates, infer_datetime_format, keep_date_col, date_parser, dayfirst, cache_dates, iterator, chunksize, compression, thousands, decimal, lineterminator, quotechar, quoting, doublequote, escapechar, comment, encoding, encoding_errors, dialect, error_bad_lines, warn_bad_lines, on_bad_lines, delim_whitespace, low_memory, memory_map, float_precision, storage_options)\u001b[0m\n\u001b[0;32m    676\u001b[0m     \u001b[0mkwds\u001b[0m\u001b[1;33m.\u001b[0m\u001b[0mupdate\u001b[0m\u001b[1;33m(\u001b[0m\u001b[0mkwds_defaults\u001b[0m\u001b[1;33m)\u001b[0m\u001b[1;33m\u001b[0m\u001b[1;33m\u001b[0m\u001b[0m\n\u001b[0;32m    677\u001b[0m \u001b[1;33m\u001b[0m\u001b[0m\n\u001b[1;32m--> 678\u001b[1;33m     \u001b[1;32mreturn\u001b[0m \u001b[0m_read\u001b[0m\u001b[1;33m(\u001b[0m\u001b[0mfilepath_or_buffer\u001b[0m\u001b[1;33m,\u001b[0m \u001b[0mkwds\u001b[0m\u001b[1;33m)\u001b[0m\u001b[1;33m\u001b[0m\u001b[1;33m\u001b[0m\u001b[0m\n\u001b[0m\u001b[0;32m    679\u001b[0m \u001b[1;33m\u001b[0m\u001b[0m\n\u001b[0;32m    680\u001b[0m \u001b[1;33m\u001b[0m\u001b[0m\n",
      "\u001b[1;32m~\\anaconda3\\lib\\site-packages\\pandas\\io\\parsers\\readers.py\u001b[0m in \u001b[0;36m_read\u001b[1;34m(filepath_or_buffer, kwds)\u001b[0m\n\u001b[0;32m    573\u001b[0m \u001b[1;33m\u001b[0m\u001b[0m\n\u001b[0;32m    574\u001b[0m     \u001b[1;31m# Create the parser.\u001b[0m\u001b[1;33m\u001b[0m\u001b[1;33m\u001b[0m\u001b[0m\n\u001b[1;32m--> 575\u001b[1;33m     \u001b[0mparser\u001b[0m \u001b[1;33m=\u001b[0m \u001b[0mTextFileReader\u001b[0m\u001b[1;33m(\u001b[0m\u001b[0mfilepath_or_buffer\u001b[0m\u001b[1;33m,\u001b[0m \u001b[1;33m**\u001b[0m\u001b[0mkwds\u001b[0m\u001b[1;33m)\u001b[0m\u001b[1;33m\u001b[0m\u001b[1;33m\u001b[0m\u001b[0m\n\u001b[0m\u001b[0;32m    576\u001b[0m \u001b[1;33m\u001b[0m\u001b[0m\n\u001b[0;32m    577\u001b[0m     \u001b[1;32mif\u001b[0m \u001b[0mchunksize\u001b[0m \u001b[1;32mor\u001b[0m \u001b[0miterator\u001b[0m\u001b[1;33m:\u001b[0m\u001b[1;33m\u001b[0m\u001b[1;33m\u001b[0m\u001b[0m\n",
      "\u001b[1;32m~\\anaconda3\\lib\\site-packages\\pandas\\io\\parsers\\readers.py\u001b[0m in \u001b[0;36m__init__\u001b[1;34m(self, f, engine, **kwds)\u001b[0m\n\u001b[0;32m    930\u001b[0m \u001b[1;33m\u001b[0m\u001b[0m\n\u001b[0;32m    931\u001b[0m         \u001b[0mself\u001b[0m\u001b[1;33m.\u001b[0m\u001b[0mhandles\u001b[0m\u001b[1;33m:\u001b[0m \u001b[0mIOHandles\u001b[0m \u001b[1;33m|\u001b[0m \u001b[1;32mNone\u001b[0m \u001b[1;33m=\u001b[0m \u001b[1;32mNone\u001b[0m\u001b[1;33m\u001b[0m\u001b[1;33m\u001b[0m\u001b[0m\n\u001b[1;32m--> 932\u001b[1;33m         \u001b[0mself\u001b[0m\u001b[1;33m.\u001b[0m\u001b[0m_engine\u001b[0m \u001b[1;33m=\u001b[0m \u001b[0mself\u001b[0m\u001b[1;33m.\u001b[0m\u001b[0m_make_engine\u001b[0m\u001b[1;33m(\u001b[0m\u001b[0mf\u001b[0m\u001b[1;33m,\u001b[0m \u001b[0mself\u001b[0m\u001b[1;33m.\u001b[0m\u001b[0mengine\u001b[0m\u001b[1;33m)\u001b[0m\u001b[1;33m\u001b[0m\u001b[1;33m\u001b[0m\u001b[0m\n\u001b[0m\u001b[0;32m    933\u001b[0m \u001b[1;33m\u001b[0m\u001b[0m\n\u001b[0;32m    934\u001b[0m     \u001b[1;32mdef\u001b[0m \u001b[0mclose\u001b[0m\u001b[1;33m(\u001b[0m\u001b[0mself\u001b[0m\u001b[1;33m)\u001b[0m\u001b[1;33m:\u001b[0m\u001b[1;33m\u001b[0m\u001b[1;33m\u001b[0m\u001b[0m\n",
      "\u001b[1;32m~\\anaconda3\\lib\\site-packages\\pandas\\io\\parsers\\readers.py\u001b[0m in \u001b[0;36m_make_engine\u001b[1;34m(self, f, engine)\u001b[0m\n\u001b[0;32m   1214\u001b[0m             \u001b[1;31m# \"Union[str, PathLike[str], ReadCsvBuffer[bytes], ReadCsvBuffer[str]]\"\u001b[0m\u001b[1;33m\u001b[0m\u001b[1;33m\u001b[0m\u001b[0m\n\u001b[0;32m   1215\u001b[0m             \u001b[1;31m# , \"str\", \"bool\", \"Any\", \"Any\", \"Any\", \"Any\", \"Any\"\u001b[0m\u001b[1;33m\u001b[0m\u001b[1;33m\u001b[0m\u001b[0m\n\u001b[1;32m-> 1216\u001b[1;33m             self.handles = get_handle(  # type: ignore[call-overload]\n\u001b[0m\u001b[0;32m   1217\u001b[0m                 \u001b[0mf\u001b[0m\u001b[1;33m,\u001b[0m\u001b[1;33m\u001b[0m\u001b[1;33m\u001b[0m\u001b[0m\n\u001b[0;32m   1218\u001b[0m                 \u001b[0mmode\u001b[0m\u001b[1;33m,\u001b[0m\u001b[1;33m\u001b[0m\u001b[1;33m\u001b[0m\u001b[0m\n",
      "\u001b[1;32m~\\anaconda3\\lib\\site-packages\\pandas\\io\\common.py\u001b[0m in \u001b[0;36mget_handle\u001b[1;34m(path_or_buf, mode, encoding, compression, memory_map, is_text, errors, storage_options)\u001b[0m\n\u001b[0;32m    784\u001b[0m         \u001b[1;32mif\u001b[0m \u001b[0mioargs\u001b[0m\u001b[1;33m.\u001b[0m\u001b[0mencoding\u001b[0m \u001b[1;32mand\u001b[0m \u001b[1;34m\"b\"\u001b[0m \u001b[1;32mnot\u001b[0m \u001b[1;32min\u001b[0m \u001b[0mioargs\u001b[0m\u001b[1;33m.\u001b[0m\u001b[0mmode\u001b[0m\u001b[1;33m:\u001b[0m\u001b[1;33m\u001b[0m\u001b[1;33m\u001b[0m\u001b[0m\n\u001b[0;32m    785\u001b[0m             \u001b[1;31m# Encoding\u001b[0m\u001b[1;33m\u001b[0m\u001b[1;33m\u001b[0m\u001b[0m\n\u001b[1;32m--> 786\u001b[1;33m             handle = open(\n\u001b[0m\u001b[0;32m    787\u001b[0m                 \u001b[0mhandle\u001b[0m\u001b[1;33m,\u001b[0m\u001b[1;33m\u001b[0m\u001b[1;33m\u001b[0m\u001b[0m\n\u001b[0;32m    788\u001b[0m                 \u001b[0mioargs\u001b[0m\u001b[1;33m.\u001b[0m\u001b[0mmode\u001b[0m\u001b[1;33m,\u001b[0m\u001b[1;33m\u001b[0m\u001b[1;33m\u001b[0m\u001b[0m\n",
      "\u001b[1;31mFileNotFoundError\u001b[0m: [Errno 2] No such file or directory: 'C:/Users/PC/Desktop/Work/DVProject/Power/Installed_Power_Capacity_State_wise_MW.csv'"
     ]
    }
   ],
   "source": [
    "#reading the power generation capacity file\n",
    "df = pd.read_csv(\"C:/Users/PC/Desktop/Work/DVProject/Power/Installed_Power_Capacity_State_wise_MW.csv\")\n",
    "df.head()  "
   ]
  },
  {
   "cell_type": "code",
   "execution_count": null,
   "id": "48ffbfc8",
   "metadata": {},
   "outputs": [],
   "source": [
    "#converting 'month-year' format to 'month' and 'year' two columns for convinience in plotting.\n",
    "df['year'] = df['month'].str[-4:].astype(int)\n",
    "df['state'] = df['state'].replace({'Andhra Pradesh.': 'Andhra Pradesh'})\n",
    "df[['Month', 'Year']] = df['month'].str.split('-', n=1, expand=True)\n",
    "df.head()"
   ]
  },
  {
   "cell_type": "markdown",
   "id": "5ba3722a",
   "metadata": {},
   "source": [
    "> Given statewise generation capacity data have some discrepancy due to administrative changes for geographical regions. \n",
    "   Eg. Daman & Diu and \"Dadra & Nagar Haveli\" merged to one UT. So I summed up the capacity throughout the period to show a        consistent data trend, otherwise it would have created confusion while interpreting the plot. "
   ]
  },
  {
   "cell_type": "code",
   "execution_count": null,
   "id": "d86ebbda",
   "metadata": {},
   "outputs": [],
   "source": [
    "df_diu = df[df[\"state\"] == \"Daman & Diu\"]\n",
    "df_dnh = df[df[\"state\"] == \"Dadra & Nagar Haveli\"]\n",
    "\n",
    "df_diu_sum = df_diu.groupby([\"month\", \"Year\", \"region\"]).sum()\n",
    "df_dnh_sum = df_dnh.groupby([\"month\", \"Year\", \"region\"]).sum()\n",
    "\n",
    "df_combined = df_diu_sum.add(df_dnh_sum, fill_value=0)\n",
    " \n",
    "df_combined[\"state\"] = \"Dadra and Nagar Haveli and Dam\"\n",
    "\n",
    "df_combined.reset_index(inplace=True)\n",
    "df_combined.drop('year', axis=1, inplace=True)\n",
    "df_combined = df_combined[['id', 'month', 'region', 'state', 'coal', 'gas', 'diesel', 'thermal_total', 'nuclear', 'hydro', 'res', 'grand_total']]\n",
    "df_combined.head()"
   ]
  },
  {
   "cell_type": "code",
   "execution_count": null,
   "id": "90279dc8",
   "metadata": {},
   "outputs": [],
   "source": [
    "#reading data file\n",
    "df = pd.read_csv(\"C:/Users/PC/Desktop/Work/DVProject/Power/Installed_Power_Capacity_State_wise_MW.csv\")"
   ]
  },
  {
   "cell_type": "code",
   "execution_count": null,
   "id": "8e8dba6d",
   "metadata": {
    "scrolled": true
   },
   "outputs": [],
   "source": [
    "df = df.drop(df[(df['state'] == 'Dadra & Nagar Haveli') | (df['state'] == 'Daman & Diu')].index)\n",
    "df = pd.concat([df, df_combined])\n",
    "df.reset_index(drop=True, inplace=True)\n",
    "df.head()"
   ]
  },
  {
   "cell_type": "code",
   "execution_count": null,
   "id": "5de1f6e2",
   "metadata": {},
   "outputs": [],
   "source": [
    "df['year'] = df['month'].str[-4:].astype(int)\n",
    "df['state'] = df['state'].replace({'Andhra Pradesh.': 'Andhra Pradesh'})\n",
    "df[['Month', 'Year']] = df['month'].str.split('-', n=1, expand=True)\n",
    "df[\"state\"].replace(\"Dadra and Nagar Haveli and Dam\", \"Dadra Nagar Haveli and Daman and Diu\", inplace=True)\n",
    "df.head()"
   ]
  },
  {
   "cell_type": "code",
   "execution_count": null,
   "id": "5f853120",
   "metadata": {},
   "outputs": [],
   "source": [
    "#color palette for bar plots\n",
    "custom_palette = ['#008080', '#ff9900']"
   ]
  },
  {
   "cell_type": "markdown",
   "id": "530761f1",
   "metadata": {},
   "source": [
    "## Plot I: Line Plots - Installed Power Capacity Over the Years (2019-2022)\n",
    ">> In India, power generation from various energy sources has been growing steadily over the years. To showcase the periodic trend of installed power capacity, five line plots have been generated, each representing one energy source and displaying different colored lines for the five regions of India.\n",
    "Overall, these line plots demonstrate a positive trend in installed power capacity for various energy sources across different regions in India from 2019 to 2022."
   ]
  },
  {
   "cell_type": "code",
   "execution_count": null,
   "id": "a9f31433",
   "metadata": {},
   "outputs": [],
   "source": [
    "# Convert the 'month' column to a datetime format\n",
    "df['month'] = pd.to_datetime(df['month'], format='%b-%Y')\n",
    "\n",
    "# Create a pivot table of the installed power capacity columns with month as the index and source of energy as the columns\n",
    "sources = ['coal', 'gas', 'diesel', 'nuclear', 'hydro', 'res'] \n",
    "for source in sources:\n",
    "    # Create a pivot table of the grand_total column with month as the index and region as the columns\n",
    "    df_pivot = df.pivot_table(values=source, index='month', columns='region', aggfunc='sum')\n",
    "\n",
    "    # Plot each region separately using a loop\n",
    "    for col in df_pivot.columns:\n",
    "        plt.plot(df_pivot.index, df_pivot[col], label=col)\n",
    "\n",
    "    # Add labels, legend, and title to the plot\n",
    "    plt.xlabel('Year-Month')\n",
    "    plt.ylabel('Installed Power Capacity (MW)')\n",
    "    plt.xticks(rotation=90)  # Rotate x tick labels by 90 degrees\n",
    "    plt.legend(loc='upper left')\n",
    "    plt.title(f'Periodic Trend of Installed {source} power capacity by Region')\n",
    "\n",
    "    # Display the plot\n",
    "    plt.show()"
   ]
  },
  {
   "cell_type": "markdown",
   "id": "a4bfc8a9",
   "metadata": {},
   "source": [
    "## Plot II: Bar Plot\n",
    "> This bar plot shows the Renewable Energy Capacity added by diffrent states from 2019-2022. Highlighted the bars for top 2 states, that added the maximum capacity.\n"
   ]
  },
  {
   "cell_type": "code",
   "execution_count": null,
   "id": "81018832",
   "metadata": {},
   "outputs": [],
   "source": [
    "df = pd.read_csv(\"C:/Users/PC/Desktop/Work/DVProject/Power/Installed_Power_Capacity_State_wise_MW.csv\")\n",
    "\n",
    "\n",
    "df['year'] = df['month'].str[-4:].astype(int)\n",
    "df['state'] = df['state'].replace({'Andhra Pradesh.': 'Andhra Pradesh'})\n",
    "df[['Month', 'Year']] = df['month'].str.split('-', n=1, expand=True)\n",
    "df_diu = df[df[\"state\"] == \"Daman & Diu\"]\n",
    "df_dnh = df[df[\"state\"] == \"Dadra & Nagar Haveli\"]\n",
    "\n",
    "df_diu_sum = df_diu.groupby([\"month\", \"Year\", \"region\"]).sum()\n",
    "df_dnh_sum = df_dnh.groupby([\"month\", \"Year\", \"region\"]).sum()\n",
    "\n",
    "df_combined = df_diu_sum.add(df_dnh_sum, fill_value=0)\n",
    " \n",
    "df_combined[\"state\"] = \"Dadra and Nagar Haveli and Dam\"\n",
    "\n",
    "df_combined.reset_index(inplace=True)\n",
    "df_combined.drop('year', axis=1, inplace=True)\n",
    "df_combined = df_combined[['id', 'month', 'region', 'state', 'coal', 'gas', 'diesel', 'thermal_total', 'nuclear', 'hydro', 'res', 'grand_total']]\n",
    "\n",
    "df = pd.read_csv(\"C:/Users/PC/Desktop/Work/DVProject/Power/Installed_Power_Capacity_State_wise_MW.csv\")\n",
    "df = df.drop(df[(df['state'] == 'Dadra & Nagar Haveli') | (df['state'] == 'Daman & Diu')].index)\n",
    "df = pd.concat([df, df_combined])\n",
    "df.reset_index(drop=True, inplace=True)\n",
    "df.head()\n",
    "\n",
    "df_filtered = df[df['month'].isin(['Jan-2019', 'Jan-2022'])]\n",
    " \n",
    "df_pivot = df_filtered.pivot(index='state', columns='month', values='res')\n",
    " \n",
    "df_pivot['RES Capacity Added in MW'] = (df_pivot['Jan-2022'] - df_pivot['Jan-2019'])  \n",
    " \n",
    "df_pivot = df_pivot.reset_index()\n",
    " \n",
    "top_states = df_pivot.sort_values(by='RES Capacity Added in MW', ascending=False)['state'][:3]\n",
    "\n",
    "increment_plot = (ggplot(df_pivot, aes(x='state', y='RES Capacity Added in MW', fill=df_pivot['state'].isin(top_states)))\n",
    "                  + geom_col(position=position_dodge(1), width=0.9)\n",
    "                  + scale_fill_manual(values=[custom_palette[0], custom_palette[1]], guide=False)\n",
    "                  + labs(x='State / Union territory (UT)', y='RES Capacity Added in MW',\n",
    "                         title='Renewable Energy Capacity Added (Jan-2019 to Jan-2022)')\n",
    "                  + theme(axis_text_x=element_text(angle=90, size=7),\n",
    "                          axis_title_x=element_blank())\n",
    "                  )\n",
    "\n",
    "print(increment_plot)"
   ]
  },
  {
   "cell_type": "markdown",
   "id": "0037ea96",
   "metadata": {},
   "source": [
    "## Plot III: Stacked Bar Plot\n",
    ">This region-wise facetted plots shows the gradual growth of each energy resource installed power capacity."
   ]
  },
  {
   "cell_type": "code",
   "execution_count": null,
   "id": "faec4108",
   "metadata": {},
   "outputs": [],
   "source": [
    "df[['Month', 'Year']] = df['month'].str.split('-', n=1, expand=True)\n",
    "# Define the colors for each source\n",
    "colors = {\n",
    "    'diesel': 'tab:blue',\n",
    "    'coal': 'tab:brown',\n",
    "    'gas': 'tab:orange',\n",
    "    'hydro': 'tab:green',\n",
    "    'nuclear': 'tab:red',\n",
    "    'res': 'tab:purple'\n",
    "}\n",
    "\n",
    "# Filter the data to include only January for each year\n",
    "df_jan = df[df['Month'] == 'Jan']\n",
    "\n",
    "# Sum the state capacities for each region and year\n",
    "df_grouped = df_jan.groupby(['region', 'Year']).sum()[['coal', 'gas', 'diesel',  'nuclear', 'hydro', 'res']]\n",
    "df_grouped = df_grouped.reset_index()\n",
    "\n",
    "# Melt the DataFrame to a long format\n",
    "df_melted = pd.melt(df_grouped, id_vars=['region', 'Year'], var_name='Category', value_name='Capacity')\n",
    "\n",
    "# Create the stacked bar chart\n",
    "stacked_bar_chart = (ggplot(df_melted, aes(x='Year', y='Capacity', fill='Category'))\n",
    "                     + geom_bar(stat='identity')\n",
    "                     + scale_fill_manual(values=colors)  # Use the color mappings\n",
    "                     + labs(x='Year', y='Installed Power Capacity (in MW)', title='Installed Power Capacity by Region and Category')\n",
    "                     + theme_minimal()\n",
    "                     + theme(axis_text_x=element_text(angle=90, hjust=1),panel_spacing_y=0.5)\n",
    "                     + facet_wrap('~region', ncol=3)\n",
    "                    )\n",
    "\n",
    "print(stacked_bar_chart)"
   ]
  },
  {
   "cell_type": "markdown",
   "id": "175e9777",
   "metadata": {},
   "source": [
    "## Plot IV: \n",
    "> This facetted Heatmap gives the overall idea of trend of increase it capacity throughout years for each state and moreover from colors of heatmap and scale given, comparative study between the regions can be done. We can see the Maharashtra is consistenly have the highest Power Generation Capacity installed. Western region have most developed infrastructure and Northeastern the least."
   ]
  },
  {
   "cell_type": "code",
   "execution_count": null,
   "id": "e832ae29",
   "metadata": {},
   "outputs": [],
   "source": [
    "df['year'] = df['month'].str[-4:].astype(int)\n",
    "df = df[df['year'] <= 2021]\n",
    "# Convert 'month' column to datetime and sort it in ascending order\n",
    "df['month_new'] = pd.to_datetime(df['month'], format='%b-%Y')\n",
    "df = df.sort_values('month_new')\n",
    "\n",
    "# Group by 'state' and 'month' and calculate the sum of 'grand_total'\n",
    "df_heatmap = df.groupby(['region', 'state', 'month_new']).sum()['grand_total'].reset_index()\n",
    "\n",
    "# Melt the DataFrame to a long format\n",
    "df_heatmap = pd.melt(df_heatmap, id_vars=['region', 'state', 'month_new'], var_name='Category', value_name='Capacity(in MW)')\n",
    "\n",
    "# Create the heatmap plot with a multi-color gradient and region-wise facets\n",
    "heatmap_plot = (ggplot(df_heatmap, aes(x='month_new', y='state', fill='Capacity(in MW)'))\n",
    "                + geom_tile(color='white', size=0.25)\n",
    "                + scale_fill_gradientn(colors=['#3D3DFF', '#00FFFF', '#00FF00', '#FFFF00', '#FF0000'])\n",
    "                + labs(x='Month-Year', y='State', title='Periodic Trend of Installed Power Capacity')\n",
    "                + theme_minimal()\n",
    "                + theme(axis_text_x=element_text(angle=90, hjust=1),\n",
    "                        axis_text_y=element_text(size=5))\n",
    "                + facet_wrap('~region',scales='free_y', ncol=1)\n",
    "               )\n",
    "\n",
    "\n",
    "print(heatmap_plot)"
   ]
  },
  {
   "cell_type": "markdown",
   "id": "72988696",
   "metadata": {},
   "source": [
    "## Plot V: Donut Charts\n",
    "> These are region-wise charts showing the status of latest distribution of energy coming from diffrent sources.\n",
    "  Observing carefully, we can get interesting insights like, Northeastern India unlike other regions have dominance of Hydro     and Gas generation, whereas other regions show dominance of Conventional Coal Plants. Moreover Southern region have \n",
    "  significant percentage of its energy coming from Renewable Resources."
   ]
  },
  {
   "cell_type": "code",
   "execution_count": null,
   "id": "40b98071",
   "metadata": {},
   "outputs": [],
   "source": [
    "df_jan2022 = df[df['month'].isin(['Jan-2022'])]\n",
    "df_pie = df_jan2022.groupby('region').sum()[['diesel','coal', 'gas', 'hydro', 'nuclear', 'res', 'grand_total']]\n",
    " \n",
    "df_pie_pct = df_pie.apply(lambda x: x / x['grand_total'] * 100, axis=1)\n",
    "df_pie_pct.drop('grand_total', axis=1, inplace=True)\n",
    "\n",
    "inner_radius = 0.4\n",
    "outer_radius = 1.0\n",
    "\n",
    "colors = {\n",
    "    'diesel': 'tab:blue',\n",
    "    'coal': 'tab:brown',\n",
    "    'gas': 'tab:orange',\n",
    "    'hydro': 'tab:green',\n",
    "    'nuclear': 'tab:red',\n",
    "    'res': 'tab:purple'\n",
    "}\n",
    " \n",
    "for state in df_pie_pct.index:\n",
    "    non_zero_pct = df_pie_pct.loc[state][df_pie_pct.loc[state] != 0.0]\n",
    "    labels = non_zero_pct.index\n",
    "    \n",
    "    if len(labels) == 0:\n",
    "        continue\n",
    "    \n",
    "    fig, ax = plt.subplots(figsize=(6, 6))\n",
    "    ax.pie(non_zero_pct, labels=labels, radius=outer_radius, autopct='%1.1f%%', startangle=90, labeldistance=1.1, pctdistance=0.75, colors=[colors[source] for source in labels])\n",
    "    ax.set_title(f'Share of each type of energy in {state}')\n",
    "    ax.pie([100], radius=inner_radius, colors='w')\n",
    "    \n",
    "    ax.legend(loc='center left', bbox_to_anchor=(1.0, 0.5))\n",
    "    plt.show()"
   ]
  },
  {
   "cell_type": "markdown",
   "id": "e22e5e9a",
   "metadata": {},
   "source": [
    "## Plot VI: Donut Charts\n",
    "> These are region-wise charts showing the status of latest distribution of energy coming from diffrent thermal sources only."
   ]
  },
  {
   "cell_type": "code",
   "execution_count": null,
   "id": "078fb973",
   "metadata": {},
   "outputs": [],
   "source": [
    "df_pie = df_jan2022.groupby('region').sum()[['diesel','coal', 'gas' , 'thermal_total']]\n",
    " \n",
    "df_pie_pct = df_pie.apply(lambda x: x / x['thermal_total'] * 100, axis=1)\n",
    "df_pie_pct.drop('thermal_total', axis=1, inplace=True)\n",
    "\n",
    "inner_radius = 0.4\n",
    "outer_radius = 1.0\n",
    "\n",
    "colors = {\n",
    "    'diesel': 'tab:blue',\n",
    "    'coal': 'tab:brown',\n",
    "    'gas': 'tab:orange',\n",
    "}\n",
    "\n",
    "for state in df_pie_pct.index:\n",
    "    non_zero_pct = df_pie_pct.loc[state][df_pie_pct.loc[state] != 0.0]\n",
    "    labels = non_zero_pct.index\n",
    "  \n",
    "    if len(labels) == 0:\n",
    "        continue\n",
    "    \n",
    "    fig, ax = plt.subplots(figsize=(6, 6))\n",
    "    ax.pie(non_zero_pct, labels=labels, radius=outer_radius, autopct='%1.1f%%', startangle=90, labeldistance=1.1, pctdistance=0.75, colors=[colors[source] for source in labels])\n",
    "    ax.set_title(f'Share of each type of energy in {state}')\n",
    " \n",
    "    ax.pie([100], radius=inner_radius, colors='w')\n",
    " \n",
    "    ax.legend(loc='center left', bbox_to_anchor=(1.0, 0.5))\n",
    "    \n",
    "    plt.show()"
   ]
  },
  {
   "cell_type": "code",
   "execution_count": null,
   "id": "2c3d981d",
   "metadata": {},
   "outputs": [],
   "source": [
    "#reading genartion data\n",
    "data = pd.read_csv(\"C:/Users/PC/Desktop/Work/DVProject/Power/Power_Generation.csv\")"
   ]
  },
  {
   "cell_type": "code",
   "execution_count": null,
   "id": "5b1b2f2a",
   "metadata": {},
   "outputs": [],
   "source": [
    "# Create a dictionary to hold the separate data frames\n",
    "dfs = {}\n",
    "\n",
    "# Loop through each region and create a separate data frame for it\n",
    "for region in data['Region'].unique():\n",
    "    region_df = data[data['Region'] == region].copy()\n",
    "    region_df.reset_index(drop=True, inplace=True)\n",
    "    dfs[region] = region_df\n",
    "\n",
    "northern_df = dfs['Northern']\n",
    "western_df = dfs['Western']\n",
    "southern_df = dfs['Southern']\n",
    "eastern_df = dfs['Eastern']\n",
    "northeastern_df = dfs['NorthEastern']\n",
    "\n",
    "northern_df.fillna(northern_df.mean(), inplace=True)\n",
    "western_df.fillna(western_df.mean(), inplace=True)\n",
    "southern_df.fillna(southern_df.mean(), inplace=True)\n",
    "eastern_df.fillna(eastern_df.mean(), inplace=True)\n",
    "northeastern_df.fillna(northeastern_df.mean(), inplace=True)\n",
    "northeastern_df = northeastern_df[['index','Date','Region','Thermal Generation Actual (in MU)','Thermal Generation Estimated (in MU)','Hydro Generation Actual (in MU)','Hydro Generation Estimated (in MU)']]\n",
    "eastern_df =  eastern_df[['index','Date','Region','Thermal Generation Actual (in MU)','Thermal Generation Estimated (in MU)','Hydro Generation Actual (in MU)','Hydro Generation Estimated (in MU)']]\n",
    "\n",
    "df = pd.concat([northern_df, western_df, southern_df, eastern_df, northeastern_df])\n",
    "df.reset_index(drop=True, inplace=True)"
   ]
  },
  {
   "cell_type": "code",
   "execution_count": null,
   "id": "67eb76f1",
   "metadata": {},
   "outputs": [],
   "source": [
    "northern_df_new = northern_df[[\"Date\",\"Region\" ,\"Thermal Generation Actual (in MU)\"]]\n",
    "northern_df_new = northern_df_new[northern_df_new['Date'].str.startswith('2019')]\n",
    "northern_df_new[\"Thermal Generation Actual (in MU)\"] = pd.to_numeric(northern_df_new[\"Thermal Generation Actual (in MU)\"])\n",
    "northern_df_new.head()"
   ]
  },
  {
   "cell_type": "code",
   "execution_count": null,
   "id": "a1673f8d",
   "metadata": {},
   "outputs": [],
   "source": [
    "import pandas as pd\n",
    "\n",
    "# Extract month from \"Date\" column and create a new column for it\n",
    "northern_df_new['Month'] = pd.to_datetime(northern_df_new['Date']).dt.to_period('M')\n",
    "northern_df_new"
   ]
  },
  {
   "cell_type": "code",
   "execution_count": null,
   "id": "21d8bfff",
   "metadata": {},
   "outputs": [],
   "source": [
    "# Group data by month and find average thermal generation for each month\n",
    "northern_df_monthly = northern_df_new.groupby('Month')['Thermal Generation Actual (in MU)'].mean().reset_index()\n",
    "\n",
    "# Display the resulting dataframe\n",
    "print(northern_df_monthly)"
   ]
  },
  {
   "cell_type": "markdown",
   "id": "1288a830",
   "metadata": {},
   "source": [
    "## Plot VII: Line Charts "
   ]
  },
  {
   "cell_type": "code",
   "execution_count": null,
   "id": "085e84b4",
   "metadata": {},
   "outputs": [],
   "source": [
    "northeastern_df.head()\n",
    "northeastern_df['Date'] = pd.to_datetime(northeastern_df['Date']) # Convert Date column to datetime format\n",
    "northeastern_monthly = northeastern_df.groupby(pd.Grouper(key='Date', freq='M')).sum().reset_index()\n",
    "northeastern_monthly.replace(0, np.nan, inplace=True)\n",
    "northeastern_monthly.replace(0.00, np.nan, inplace=True)\n",
    "northeastern_monthly = northeastern_monthly.interpolate(method='backfill')\n",
    "northeastern_monthly.head()\n",
    "(ggplot(northeastern_monthly, aes(x='Date', y='Hydro Generation Actual (in MU)')) + \n",
    "  geom_line(color='blue') +\n",
    "  geom_line(aes(x='Date', y='Hydro Generation Estimated (in MU)'), color='red') +\n",
    "  labs(title='Monthly Hydro Generation in the Northeastern Region', x='Date', y='Hydro Generation (in MU)')\n",
    " + theme(axis_text_x=element_text(angle=90, size=7) ))"
   ]
  },
  {
   "cell_type": "code",
   "execution_count": null,
   "id": "0ead8026",
   "metadata": {},
   "outputs": [],
   "source": [
    "northern_df.head()"
   ]
  },
  {
   "cell_type": "code",
   "execution_count": null,
   "id": "f5ba8179",
   "metadata": {},
   "outputs": [],
   "source": [
    "northern_df.head()\n",
    "northern_df['Date'] = pd.to_datetime(northern_df['Date']) # Convert Date column to datetime format\n",
    "northern_monthly = northern_df.groupby(pd.Grouper(key='Date', freq='M')).sum().reset_index()\n",
    "northern_monthly.replace(0, np.nan, inplace=True)\n",
    "northern_monthly.replace(0.00, np.nan, inplace=True)\n",
    "northern_monthly = northern_monthly.interpolate(method='backfill')\n",
    "northern_monthly.head()\n",
    "(ggplot(northern_monthly, aes(x='Date', y='Hydro Generation Actual (in MU)')) + \n",
    "  geom_line(color='blue') +\n",
    "  geom_line(aes(x='Date', y='Hydro Generation Estimated (in MU)'), color='red') +\n",
    "  labs(title='Monthly Hydro Generation in the Northern Region', x='Date', y='Hydro Generation (in MU)')\n",
    " + theme(axis_text_x=element_text(angle=90, size=7) ))"
   ]
  },
  {
   "cell_type": "code",
   "execution_count": null,
   "id": "10cfbb99",
   "metadata": {},
   "outputs": [],
   "source": [
    "western_df.head()\n",
    "western_df['Date'] = pd.to_datetime(western_df['Date']) # Convert Date column to datetime format\n",
    "western_monthly = western_df.groupby(pd.Grouper(key='Date', freq='M')).sum().reset_index()\n",
    "western_monthly.replace(0, np.nan, inplace=True)\n",
    "western_monthly.replace(0.00, np.nan, inplace=True)\n",
    "western_monthly = western_monthly.interpolate(method='backfill')\n",
    "western_monthly.head()\n",
    "(ggplot(western_monthly, aes(x='Date', y='Hydro Generation Actual (in MU)')) + \n",
    "  geom_line(color='blue') +\n",
    "  geom_line(aes(x='Date', y='Hydro Generation Estimated (in MU)'), color='red') +\n",
    "  labs(title='Monthly Hydro Generation in the Western Region', x='Date', y='Hydro Generation (in MU)')\n",
    " + theme(axis_text_x=element_text(angle=90, size=7) ))"
   ]
  },
  {
   "cell_type": "code",
   "execution_count": null,
   "id": "53211f83",
   "metadata": {},
   "outputs": [],
   "source": [
    "eastern_df.head()\n",
    "eastern_df['Date'] = pd.to_datetime(western_df['Date']) # Convert Date column to datetime format\n",
    "eastern_monthly = eastern_df.groupby(pd.Grouper(key='Date', freq='M')).sum().reset_index()\n",
    "eastern_monthly.replace(0, np.nan, inplace=True)\n",
    "eastern_monthly.replace(0.00, np.nan, inplace=True)\n",
    "eastern_monthly = eastern_monthly.interpolate(method='backfill')\n",
    "eastern_monthly.head()\n",
    "(ggplot(eastern_monthly, aes(x='Date', y='Hydro Generation Actual (in MU)')) + \n",
    "  geom_line(color='blue') +\n",
    "  geom_line(aes(x='Date', y='Hydro Generation Estimated (in MU)'), color='red') +\n",
    "  labs(title='Monthly Hydro Generation in the Eastern Region', x='Date', y='Hydro Generation (in MU)')\n",
    " + theme(axis_text_x=element_text(angle=90, size=7) ))"
   ]
  },
  {
   "cell_type": "code",
   "execution_count": null,
   "id": "7320e923",
   "metadata": {},
   "outputs": [],
   "source": [
    "southern_df.head()\n",
    "southern_df['Date'] = pd.to_datetime(western_df['Date']) # Convert Date column to datetime format\n",
    "southern_monthly = southern_df.groupby(pd.Grouper(key='Date', freq='M')).sum().reset_index()\n",
    "southern_monthly.replace(0, np.nan, inplace=True)\n",
    "southern_monthly.replace(0.00, np.nan, inplace=True)\n",
    "southern_monthly = southern_monthly.interpolate(method='backfill')\n",
    "southern_monthly.head()\n",
    "(ggplot(southern_monthly, aes(x='Date', y='Hydro Generation Actual (in MU)')) + \n",
    "  geom_line(color='blue') +\n",
    "  geom_line(aes(x='Date', y='Hydro Generation Estimated (in MU)'), color='red') +\n",
    "  labs(title='Monthly Hydro Generation in the Southern Region', x='Date', y='Hydro Generation (in MU)')\n",
    " + theme(axis_text_x=element_text(angle=90, size=7) ))"
   ]
  },
  {
   "cell_type": "code",
   "execution_count": null,
   "id": "b86a51ca",
   "metadata": {},
   "outputs": [],
   "source": [
    "northern_monthly['Year'] = northern_monthly['Date'].dt.year"
   ]
  },
  {
   "cell_type": "code",
   "execution_count": null,
   "id": "06aba145",
   "metadata": {},
   "outputs": [],
   "source": [
    "northern_monthly.head()"
   ]
  },
  {
   "cell_type": "markdown",
   "id": "be371263",
   "metadata": {},
   "source": [
    "### >> GEOGRAPHICAL PLOTS"
   ]
  },
  {
   "cell_type": "code",
   "execution_count": null,
   "id": "4d38f399",
   "metadata": {},
   "outputs": [],
   "source": [
    "pip install pyshp"
   ]
  },
  {
   "cell_type": "code",
   "execution_count": null,
   "id": "b141bd60",
   "metadata": {},
   "outputs": [],
   "source": [
    "import numpy as np\n",
    "import pandas as pd\n",
    "import matplotlib.pyplot as plt\n",
    "import seaborn as sns\n",
    "import geopandas as gpd\n",
    "import shapefile as shp"
   ]
  },
  {
   "cell_type": "code",
   "execution_count": null,
   "id": "f208b783",
   "metadata": {},
   "outputs": [],
   "source": [
    "from shapely.geometry import Point\n",
    "sns.set_style('whitegrid')"
   ]
  },
  {
   "cell_type": "code",
   "execution_count": null,
   "id": "576fe3c4",
   "metadata": {},
   "outputs": [],
   "source": [
    "fp = r'C:/Users/PC/Desktop/Work/DVProject/Maps_with_python-master/india-polygon.shp'\n",
    "map_df = gpd.read_file(fp) \n",
    "map_df_copy = gpd.read_file(fp)\n",
    "map_df.head()"
   ]
  },
  {
   "cell_type": "code",
   "execution_count": null,
   "id": "3eec3123",
   "metadata": {},
   "outputs": [],
   "source": [
    "map_df.plot()"
   ]
  },
  {
   "cell_type": "code",
   "execution_count": null,
   "id": "41eebf04",
   "metadata": {},
   "outputs": [],
   "source": [
    "df = pd.read_csv(\"C:/Users/PC/Desktop/Work/DVProject/Power/Installed_Power_Capacity_State_wise_MW.csv\")\n",
    "df['year'] = df['month'].str[-4:].astype(int)\n",
    "df['state'] = df['state'].replace({'Andhra Pradesh.': 'Andhra Pradesh'})\n",
    "df[['Month', 'Year']] = df['month'].str.split('-', n=1, expand=True)\n",
    "df_diu = df[df[\"state\"] == \"Daman & Diu\"]\n",
    "df_dnh = df[df[\"state\"] == \"Dadra & Nagar Haveli\"]\n",
    "\n",
    "df_diu_sum = df_diu.groupby([\"month\", \"Year\", \"region\"]).sum()\n",
    "df_dnh_sum = df_dnh.groupby([\"month\", \"Year\", \"region\"]).sum()\n",
    "\n",
    "df_combined = df_diu_sum.add(df_dnh_sum, fill_value=0)\n",
    " \n",
    "df_combined[\"state\"] = \"Dadra and Nagar Haveli and Dam\"\n",
    "\n",
    "df_combined.reset_index(inplace=True)\n",
    "df_combined.drop('year', axis=1, inplace=True)\n",
    "df_combined = df_combined[['id', 'month', 'region', 'state', 'coal', 'gas', 'diesel', 'thermal_total', 'nuclear', 'hydro', 'res', 'grand_total']]\n",
    "\n",
    "df = pd.read_csv(\"C:/Users/PC/Desktop/Work/DVProject/Power/Installed_Power_Capacity_State_wise_MW.csv\")\n",
    "df = df.drop(df[(df['state'] == 'Dadra & Nagar Haveli') | (df['state'] == 'Daman & Diu')].index)\n",
    "df = pd.concat([df, df_combined])\n",
    "df.reset_index(drop=True, inplace=True)\n",
    "df.head()"
   ]
  },
  {
   "cell_type": "code",
   "execution_count": null,
   "id": "49d4cdb2",
   "metadata": {},
   "outputs": [],
   "source": [
    "df_jan2022 = df[df['month'].isin(['Jan-2022'])]\n",
    "df_jan2022.head()"
   ]
  },
  {
   "cell_type": "code",
   "execution_count": null,
   "id": "30b1a7e5",
   "metadata": {},
   "outputs": [],
   "source": [
    "df_new = df_jan2022[['state','grand_total']]\n",
    "df_res = df_jan2022[['state','res']]\n",
    "df_res.head()"
   ]
  },
  {
   "cell_type": "code",
   "execution_count": null,
   "id": "197d8b15",
   "metadata": {},
   "outputs": [],
   "source": [
    "df_6 = pd.read_csv(\"C:/Users/PC/Desktop/Work/DVProject/Power/Potential.csv\")\n",
    "df_6 = df_6[['state','Total']]\n",
    "df_6.head()"
   ]
  },
  {
   "cell_type": "code",
   "execution_count": null,
   "id": "5468055c",
   "metadata": {},
   "outputs": [],
   "source": [
    "df_new[\"state\"].replace(\"Chhatisgarh\", \"Chhattisgarh\",inplace = True)\n",
    "df_new[\"state\"].replace(\"Dadra and Nagar Haveli and Dam\", \"Dadra and Nagar Haveli\",inplace = True)\n",
    "\n",
    "df_res[\"state\"].replace(\"Chhatisgarh\", \"Chhattisgarh\",inplace = True)\n",
    "df_res[\"state\"].replace(\"Dadra and Nagar Haveli and Dam\", \"Dadra and Nagar Haveli\",inplace = True)\n",
    "\n",
    "df_6[\"state\"].replace(\"Chhatisgarh\", \"Chhattisgarh\",inplace = True)\n",
    "df_6[\"state\"].replace(\"Dadra and Nagar Haveli and Dam\", \"Dadra and Nagar Haveli\",inplace = True)"
   ]
  },
  {
   "cell_type": "code",
   "execution_count": null,
   "id": "ef1bcd82",
   "metadata": {},
   "outputs": [],
   "source": [
    "#Merging the data\n",
    "merged = map_df.set_index('st_nm').join(df_new.set_index('state'))\n",
    "merged['grand_total'] = merged['grand_total'].replace(np.nan, 0)\n",
    "\n",
    "#Merging the data\n",
    "merged_res = map_df.set_index('st_nm').join(df_res.set_index('state'))\n",
    "merged_res['res'] = merged_res['res'].replace(np.nan, 0)\n",
    "\n",
    "#Merging the data\n",
    "merged_6= map_df.set_index('st_nm').join(df_6.set_index('state'))\n",
    "merged_6['Total'] = merged_6['Total'].replace(np.nan, 0)"
   ]
  },
  {
   "cell_type": "markdown",
   "id": "f2534d96",
   "metadata": {},
   "source": [
    "## Plot VIII: Choropleth Map - India Total Installed Power Capacity"
   ]
  },
  {
   "cell_type": "code",
   "execution_count": null,
   "id": "04798bb6",
   "metadata": {},
   "outputs": [],
   "source": [
    "fig, ax = plt.subplots(1, figsize=(10, 10))\n",
    "ax.axis('off')\n",
    "ax.set_title('Installed Power Capacity in India state-wise', fontdict={'fontsize': '20', 'fontweight' : '10'})\n",
    "merged.plot(column='grand_total', cmap='BuPu', linewidth=0.8, ax=ax, edgecolor='0', legend=True, markersize=[39.739192, -104.990337], legend_kwds={'label': \"Capacity in MW\"})"
   ]
  },
  {
   "cell_type": "markdown",
   "id": "e1e0b5bd",
   "metadata": {},
   "source": [
    "## Plot IX: Choropleth Map - Installed Capacity State-wise\n",
    "> A choropleth map is an effective way to visualize the distribution of data across geographic regions. A choropleth map showing the power installed capacity in India for the year 2022 would provide valuable insights into the regional distribution of power generation.\n",
    "\n",
    ">The map would display the power installed capacity data for each state of India, with varying shades of colors indicating the level of installed capacity. The darker shades would represent higher installed capacity, while the lighter shades would represent lower installed capacity.\n",
    "\n",
    ">Some of the states that would be highlighted with the highest installed capacity include Maharashtra, Tamil Nadu, Gujarat, and Rajasthan. These states have invested significantly in renewable energy sources such as wind and solar power plants. On the other hand, states such as Bihar, Jharkhand, and Chhattisgarh would display lower installed capacity due to several factors, including a lack of resources and limited infrastructure.\n",
    "\n",
    ">Overall, the choropleth map would provide a clear visual representation of the power installed capacity across different states of India, indicating which regions are leading the way in power generation and which regions require more investment in the future."
   ]
  },
  {
   "cell_type": "code",
   "execution_count": null,
   "id": "d1b3ed84",
   "metadata": {},
   "outputs": [],
   "source": [
    "fig, ax = plt.subplots(1, figsize=(10, 10))\n",
    "ax.axis('off')\n",
    "ax.set_title('Installed RES Power Capacity in India state-wise', fontdict={'fontsize': '20', 'fontweight' : '10'})\n",
    "merged_res.plot(column='res', cmap='Greens', linewidth=0.8, ax=ax, edgecolor='0', legend=True, markersize=[39.739192, -104.990337], legend_kwds={'label': \"RES Capacity in MW\"})"
   ]
  },
  {
   "cell_type": "markdown",
   "id": "420372a5",
   "metadata": {},
   "source": [
    "## Plot X: Line Charts - India Estimated Power Potential State-wise\n",
    "> Comparing two choropleth maps side by side can provide valuable insights into the current state of power generation in India. One map displays the potential of each state for power generation, while the other shows the current installed capacity of each state.\n",
    "\n",
    ">The potential map would highlight the renewable energy resources available in each state, such as solar, wind, and hydropower potential. States such as Rajasthan, Gujarat, and Tamil Nadu would show high potential due to their abundant solar and wind resources, while states such as Jharkhand and Bihar would show lower potential due to their lack of these resources.\n",
    " \n",
    ">Comparing the two maps side by side would reveal that some states with high potential have not yet fully tapped into their renewable energy resources. At the same time, some states with lower potential have made significant progress in developing their renewable energy infrastructure. This comparison could help policymakers and investors identify opportunities for further investment in renewable energy projects in the states with the highest potential and provide support for those states with lower potential that require assistance to increase their installed capacity.\n",
    "\n",
    ">Overall, comparing the potential and installed capacity choropleth maps side by side can provide a comprehensive understanding of the current state of power generation in India and inform decision-making processes for future investment in renewable energy projects."
   ]
  },
  {
   "cell_type": "code",
   "execution_count": null,
   "id": "f10195ae",
   "metadata": {},
   "outputs": [],
   "source": [
    "fig, ax = plt.subplots(1, figsize=(10, 10))\n",
    "ax.axis('off')\n",
    "ax.set_title('RES Power Potential in India state-wise', fontdict={'fontsize': '20', 'fontweight' : '10'})\n",
    "merged_6.plot(column='Total', cmap='Greens', linewidth=0.8, ax=ax, edgecolor='0', legend=True, markersize=[39.739192, -104.990337], legend_kwds={'label': \"Capacity in MW\"})"
   ]
  },
  {
   "cell_type": "code",
   "execution_count": null,
   "id": "89f92de8",
   "metadata": {},
   "outputs": [],
   "source": [
    "df_3 = pd.read_csv(\"C:/Users/PC/Desktop/Work/DVProject/Power/target.csv\")"
   ]
  },
  {
   "cell_type": "code",
   "execution_count": null,
   "id": "808b5a4c",
   "metadata": {},
   "outputs": [],
   "source": [
    "df_3.head()"
   ]
  },
  {
   "cell_type": "markdown",
   "id": "37c4fe5a",
   "metadata": {},
   "source": [
    "## Plot XI: Bar Plot - Progress in Renewable Energy Sector\n",
    ">A bar plot showing the percentage target achieved by each state can provide a quick overview of how each state is performing in terms of power generation. In addition, highlighting the states that have outperformed their targets with an orange bar can help to identify the most successful states and areas that may require further investment and support."
   ]
  },
  {
   "cell_type": "code",
   "execution_count": null,
   "id": "9675c19a",
   "metadata": {},
   "outputs": [],
   "source": [
    "df_2 = df_3[['State', '% progress']]\n",
    "df_2 = df_2[df_2['State'] != 'India (total)'] \n",
    "melted_df_2 = df_2.melt(id_vars='State', var_name='Metric', value_name='Value')\n",
    "melted_df_2['Highlight'] = melted_df_2['Value'] > 100\n",
    "bar_plot = (ggplot(melted_df_2, aes(x='State', y='Value', fill='Highlight'))\n",
    "            + geom_bar(stat='identity', position='dodge', width=0.7)\n",
    "            + scale_fill_manual(values={True: custom_palette[1], False: custom_palette[0]})\n",
    "            + labs(title='Progress towards Renewable Energy', x='States', y='Percentage Progress', fill='Outperformers')\n",
    "            + theme_minimal()\n",
    "            + theme(legend_position='right', axis_text_x=element_text(angle=90, size=7))\n",
    "           )\n",
    "print(bar_plot)\n"
   ]
  },
  {
   "cell_type": "markdown",
   "id": "b4d52678",
   "metadata": {},
   "source": [
    "## Plot XII: Bar Plot - Installed Capacity Vs State Target\n",
    "> A dodged bar plot is an excellent way to visualize the progress of different states in achieving their target for installed power capacity. The plot would display two bars side by side for each state, one representing the target set by the administration, and the other representing the actual installed capacity achieved by the state.\n",
    "\n",
    ">The plot would reveal the progress of each state in meeting its target and highlight the states that have exceeded their targets. States such as Tamil Nadu, Gujarat, and Maharashtra would display bars showing that they have surpassed their targets by a significant margin. On the other hand, states such as Jharkhand, Chhattisgarh, and Bihar would display bars indicating that they have fallen short of their targets.\n",
    "\n",
    ">Overall, a dodged bar plot showing the target given by the administration and the installed capacity achieved by each state would provide valuable insights into the progress of power generation in different states and help inform decision-making processes for future investment in the sector."
   ]
  },
  {
   "cell_type": "code",
   "execution_count": null,
   "id": "5311b6ce",
   "metadata": {},
   "outputs": [],
   "source": [
    "df_4 = df_3[['State','Installed as of December 2022','Target']]\n",
    "df_4 = df_4[df_4['State'] != 'India (total)'] \n",
    "melted_df_4 = df_4.melt(id_vars='State', var_name='Metric', value_name='Value')\n",
    " \n",
    "\n",
    "bar_plot = (ggplot(melted_df_4, aes(x='State', y='Value', fill='Metric'))\n",
    "            + geom_bar(stat='identity', position='dodge', width=0.7)\n",
    "            + scale_fill_manual(values=custom_palette)\n",
    "            + labs(title='Installed Capacity vs. Target by State', x='States', y='Installed Capacity(in MW)', fill='Metric')\n",
    "            + theme_minimal()\n",
    "            + theme(legend_position='right', axis_text_x=element_text(angle=90, size=7))\n",
    "           )\n",
    "print(bar_plot)"
   ]
  },
  {
   "cell_type": "code",
   "execution_count": null,
   "id": "64cfa17c",
   "metadata": {},
   "outputs": [],
   "source": [
    "df_5 = pd.read_csv(\"C:/Users/PC/Desktop/Work/DVProject/Power/GDP_data_statewise.csv\")"
   ]
  },
  {
   "cell_type": "code",
   "execution_count": null,
   "id": "58e21001",
   "metadata": {},
   "outputs": [],
   "source": [
    "df_5.head()"
   ]
  },
  {
   "cell_type": "code",
   "execution_count": null,
   "id": "6470c60f",
   "metadata": {},
   "outputs": [],
   "source": [
    "df_6 = df_5[[\"state\", \"GDP in Indian Rupees (Lakh)\"]]\n",
    "df_6.head()"
   ]
  },
  {
   "cell_type": "code",
   "execution_count": null,
   "id": "301a7fdb",
   "metadata": {},
   "outputs": [],
   "source": [
    "df_jan2020 = df[df['month'].isin(['Jan-2020'])]\n",
    "df_jan2020.head()"
   ]
  },
  {
   "cell_type": "code",
   "execution_count": null,
   "id": "6618b831",
   "metadata": {},
   "outputs": [],
   "source": [
    "df_jan2020 = df_jan2020[['state','grand_total']]\n",
    "df_jan2020.head()"
   ]
  },
  {
   "cell_type": "code",
   "execution_count": null,
   "id": "a84b64dc",
   "metadata": {},
   "outputs": [],
   "source": [
    "merged_df = pd.merge(df_6, df_jan2020, on='state')\n",
    "merged_df['GDP in Indian Rupees (Lakh)'] = pd.to_numeric(merged_df['GDP in Indian Rupees (Lakh)'].str.replace(',', ''))\n",
    "merged_df = merged_df.nlargest(15, 'grand_total')\n",
    "merged_df.head()"
   ]
  },
  {
   "cell_type": "code",
   "execution_count": null,
   "id": "cc913b73",
   "metadata": {},
   "outputs": [],
   "source": [
    "merged_df.info()"
   ]
  },
  {
   "cell_type": "code",
   "execution_count": null,
   "id": "8f5c359a",
   "metadata": {},
   "outputs": [],
   "source": [
    "merged_df['GDP in Indian Rupees (Lakh)'] = merged_df['GDP in Indian Rupees (Lakh)'].astype(float)\n",
    "merged_df['grand_total'] = merged_df['grand_total'].astype(float)"
   ]
  },
  {
   "cell_type": "markdown",
   "id": "5f9209a5",
   "metadata": {},
   "source": [
    "## Plot XIII: Scatter Plot to show a positive correlation between GDP and Installed Power Capacity\n",
    "> A scatter plot can be used to visualize the relationship between installed capacity and GDP of states in India. A positive correlation between the two variables suggests that as the installed capacity increases, so does the GDP.\n",
    "\n",
    ">The plot would display each state as a point with the installed capacity on the y-axis and GDP on the x-axis. The size of the point would represent the population of the state, and each point would be color-coded according to the region of the country in which it is located.\n",
    "\n",
    ">A positive correlation between installed capacity and GDP would be evident if the points on the scatter plot tend to cluster around a line that slopes upward from left to right. A line of best fit could be drawn to visualize this trend, making it easy to see how the two variables are related."
   ]
  },
  {
   "cell_type": "code",
   "execution_count": null,
   "id": "94a1a672",
   "metadata": {},
   "outputs": [],
   "source": [
    "from plotnine import *\n",
    "ggplot(merged_df, aes(x='GDP in Indian Rupees (Lakh)', y='grand_total',  color='state')) \\\n",
    "    + geom_point(alpha=0.8) \\\n",
    "    + geom_text(aes(label='state'), size=5, nudge_x=20000, nudge_y=200) \\\n",
    "    + labs(title='Top 15 States GDP Vs Installed Capacity', x='GDP in Indian Rupees (Lakh)', y='Installed Capacity (in MW)') \\\n",
    "    + scale_size(range=[1,20]) \\\n",
    "    + theme_bw() \n",
    "      "
   ]
  },
  {
   "cell_type": "code",
   "execution_count": null,
   "id": "983752d3",
   "metadata": {},
   "outputs": [],
   "source": [
    "df_ind = pd.read_csv(\"C:/Users/PC/Desktop/Work/DVProject/Power/RES_individual.csv\")"
   ]
  },
  {
   "cell_type": "markdown",
   "id": "3de16ded",
   "metadata": {},
   "source": [
    "## Plot XIV: Interactive Line Charts Using Plotly  - Solar, Wind, Bio-energy and Small Hydo growth over Top 3 Renewable Energy Leader States\n",
    "> A line chart can be used to visualize the growth of solar and wind energy capacity in Gujarat, Rajasthan, and Tamil Nadu over the past two years. The line chart would display each state as a separate line with the solar and wind energy capacity on the y-axis and time on the x-axis.\n",
    "\n",
    ">The line chart would show the growth in solar and wind energy capacity in each state over the past two years. The line for each state would be color-coded to make it easy to distinguish between them. The chart would also include a legend to identify the different lines."
   ]
  },
  {
   "cell_type": "code",
   "execution_count": null,
   "id": "785dc245",
   "metadata": {},
   "outputs": [],
   "source": [
    "df_7 = df_ind[df_ind['State'] == 'Gujarat'] \n",
    "df_7.head()"
   ]
  },
  {
   "cell_type": "code",
   "execution_count": null,
   "id": "6cdaf2d4",
   "metadata": {},
   "outputs": [],
   "source": [
    "import plotly.graph_objs as go\n",
    "import pandas as pd"
   ]
  },
  {
   "cell_type": "code",
   "execution_count": null,
   "id": "192b5676",
   "metadata": {},
   "outputs": [],
   "source": [
    "# Create a trace for each energy source\n",
    "solar_trace = go.Scatter(x=df_7['Date'], y=df_7['Solar'], name='Solar', line=dict(color='orange', width=2))\n",
    "wind_trace = go.Scatter(x=df_7['Date'], y=df_7['Wind'], name='Wind', line=dict(color='blue', width=2))\n",
    "hydro_trace = go.Scatter(x=df_7['Date'], y=df_7['Small hydro'], name='Small Hydro', line=dict(color='green', width=2))\n",
    "bio_trace = go.Scatter(x=df_7['Date'], y=df_7['Bioenergy'], name='Bioenergy', line=dict(color='purple', width=2))\n",
    "\n",
    "# Create a list of traces\n",
    "traces = [solar_trace, wind_trace, hydro_trace, bio_trace]\n",
    "\n",
    "\n",
    "# Define the layout for the plot\n",
    "layout =  go.Layout(title=dict(text='Gujarat Renewable Energy Capacity in India', x=0.5),\n",
    "                   xaxis=dict(title='Month-Year'),\n",
    "                   yaxis=dict(title='RES Installed Capacity (in MW)'))\n",
    " \n",
    "# Create the figure and plot the traces\n",
    "fig = go.Figure(data=traces, layout=layout)\n",
    "fig.show()\n"
   ]
  },
  {
   "cell_type": "code",
   "execution_count": null,
   "id": "dd3df4e0",
   "metadata": {},
   "outputs": [],
   "source": [
    "df_8 = df_ind[df_ind['State'] == 'Rajasthan'] \n",
    "# Create a trace for each energy source\n",
    "solar_trace = go.Scatter(x=df_7['Date'], y=df_8['Solar'], name='Solar', line=dict(color='orange', width=2))\n",
    "wind_trace = go.Scatter(x=df_7['Date'], y=df_8['Wind'], name='Wind', line=dict(color='blue', width=2))\n",
    "hydro_trace = go.Scatter(x=df_7['Date'], y=df_8['Small hydro'], name='Small Hydro', line=dict(color='green', width=2))\n",
    "bio_trace = go.Scatter(x=df_7['Date'], y=df_8['Bioenergy'], name='Bioenergy', line=dict(color='purple', width=2))\n",
    "\n",
    "# Create a list of traces\n",
    "traces = [solar_trace, wind_trace, hydro_trace, bio_trace]\n",
    "\n",
    "# Define the layout for the plot\n",
    "layout =  go.Layout(title=dict(text='Rajasthan Renewable Energy Capacity in India', x=0.5),\n",
    "                   xaxis=dict(title='Month-Year'),\n",
    "                   yaxis=dict(title='RES Installed Capacity (in MW)'))\n",
    " \n",
    "# Create the figure and plot the traces\n",
    "fig = go.Figure(data=traces, layout=layout)\n",
    "fig.show()\n"
   ]
  },
  {
   "cell_type": "code",
   "execution_count": null,
   "id": "fa2872a8",
   "metadata": {},
   "outputs": [],
   "source": [
    "df_9 = df_ind[df_ind['State'] == 'Tamil Nadu'] \n",
    "# Create a trace for each energy source\n",
    "solar_trace = go.Scatter(x=df_7['Date'], y=df_9['Solar'], name='Solar', line=dict(color='orange', width=2))\n",
    "wind_trace = go.Scatter(x=df_7['Date'], y=df_9['Wind'], name='Wind', line=dict(color='blue', width=2))\n",
    "hydro_trace = go.Scatter(x=df_7['Date'], y=df_9['Small hydro'], name='Small Hydro', line=dict(color='green', width=2))\n",
    "bio_trace = go.Scatter(x=df_7['Date'], y=df_9['Bioenergy'], name='Bioenergy', line=dict(color='purple', width=2))\n",
    "\n",
    "# Create a list of traces\n",
    "traces = [solar_trace, wind_trace, hydro_trace, bio_trace]\n",
    "\n",
    "# Define the layout for the plot\n",
    "layout =  go.Layout(title=dict(text='Tamil Nadu Renewable Energy Capacity in India', x=0.5),\n",
    "                   xaxis=dict(title='Month-Year'),\n",
    "                   yaxis=dict(title='RES Installed Capacity (in MW)'))\n",
    " \n",
    "# Create the figure and plot the traces\n",
    "fig = go.Figure(data=traces, layout=layout)\n",
    "fig.show()\n"
   ]
  },
  {
   "cell_type": "code",
   "execution_count": null,
   "id": "07258565",
   "metadata": {},
   "outputs": [],
   "source": []
  }
 ],
 "metadata": {
  "kernelspec": {
   "display_name": "Python 3 (ipykernel)",
   "language": "python",
   "name": "python3"
  },
  "language_info": {
   "codemirror_mode": {
    "name": "ipython",
    "version": 3
   },
   "file_extension": ".py",
   "mimetype": "text/x-python",
   "name": "python",
   "nbconvert_exporter": "python",
   "pygments_lexer": "ipython3",
   "version": "3.9.13"
  }
 },
 "nbformat": 4,
 "nbformat_minor": 5
}
