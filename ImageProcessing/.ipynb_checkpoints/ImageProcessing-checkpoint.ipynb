{
 "cells": [
  {
   "cell_type": "code",
   "execution_count": 1,
   "metadata": {
    "colab": {
     "base_uri": "https://localhost:8080/",
     "height": 783
    },
    "id": "_KxyfOIdJ6DM",
    "outputId": "7492e7be-8de9-414a-99ae-2658e11ffead"
   },
   "outputs": [
    {
     "ename": "ModuleNotFoundError",
     "evalue": "No module named 'google.colab'",
     "output_type": "error",
     "traceback": [
      "\u001b[1;31m---------------------------------------------------------------------------\u001b[0m",
      "\u001b[1;31mModuleNotFoundError\u001b[0m                       Traceback (most recent call last)",
      "\u001b[1;32m~\\AppData\\Local\\Temp\\ipykernel_5332\\2223126322.py\u001b[0m in \u001b[0;36m<module>\u001b[1;34m\u001b[0m\n\u001b[0;32m      1\u001b[0m \u001b[1;32mimport\u001b[0m \u001b[0mcv2\u001b[0m\u001b[1;33m\u001b[0m\u001b[1;33m\u001b[0m\u001b[0m\n\u001b[0;32m      2\u001b[0m \u001b[1;32mimport\u001b[0m \u001b[0mnumpy\u001b[0m \u001b[1;32mas\u001b[0m \u001b[0mnp\u001b[0m\u001b[1;33m\u001b[0m\u001b[1;33m\u001b[0m\u001b[0m\n\u001b[1;32m----> 3\u001b[1;33m \u001b[1;32mfrom\u001b[0m \u001b[0mgoogle\u001b[0m\u001b[1;33m.\u001b[0m\u001b[0mcolab\u001b[0m\u001b[1;33m.\u001b[0m\u001b[0mpatches\u001b[0m \u001b[1;32mimport\u001b[0m \u001b[0mcv2_imshow\u001b[0m\u001b[1;33m\u001b[0m\u001b[1;33m\u001b[0m\u001b[0m\n\u001b[0m\u001b[0;32m      4\u001b[0m \u001b[1;33m\u001b[0m\u001b[0m\n\u001b[0;32m      5\u001b[0m \u001b[1;33m\u001b[0m\u001b[0m\n",
      "\u001b[1;31mModuleNotFoundError\u001b[0m: No module named 'google.colab'"
     ]
    }
   ],
   "source": [
    "import cv2\n",
    "import numpy as np\n",
    "from google.colab.patches import cv2_imshow\n",
    "\n",
    "\n",
    "def delete_small_components(image, size):\n",
    "    _, blackAndWhite = cv2.threshold(image, 200, 255, cv2.THRESH_BINARY)\n",
    "    nlabels, labels, stats, centroids = cv2.connectedComponentsWithStats(blackAndWhite, None, None, None, 8, cv2.CV_32S)\n",
    "    sizes = stats[1:, -1]   \n",
    "    image = np.zeros(labels.shape, np.uint8)\n",
    "\n",
    "    for i in range(0, nlabels - 1):\n",
    "        if sizes[i] >= size and np.mean(image[labels == i + 1]) < 50:  \n",
    "            image[labels == i + 1] = 255\n",
    "\n",
    "    kernel = cv2.getStructuringElement(cv2.MORPH_ELLIPSE, (5,5))\n",
    "    image = cv2.morphologyEx(image, cv2.MORPH_CLOSE, kernel)\n",
    "    return image\n",
    " \n",
    "def kernel(num1, num2):\n",
    "    return np.ones((num1, num2), np.uint8)\n",
    "\n",
    "def get_large_vessels(image):\n",
    "    struct_kernel = cv2.getStructuringElement(cv2.MORPH_ELLIPSE, (3, 3))\n",
    "    opening = cv2.morphologyEx(image, cv2.MORPH_OPEN, struct_kernel, iterations=5)\n",
    "\n",
    "    cnts = cv2.findContours(opening, cv2.RETR_EXTERNAL, cv2.CHAIN_APPROX_SIMPLE)\n",
    "    cnts = cnts[0] if len(cnts) == 2 else cnts[1]\n",
    "    for c in cnts:\n",
    "        area = cv2.contourArea(c)\n",
    "        if area < 800:\n",
    "            cv2.drawContours(opening, [c], -1, (0, 0, 0), -1)\n",
    "    return opening\n",
    "\n",
    "\n",
    "def remove_background(image, mask):\n",
    "    image = cv2.bitwise_and(cv2.bitwise_not(image), cv2.bitwise_not(image), mask=mask)\n",
    "    image = cv2.morphologyEx(image, cv2.MORPH_CLOSE, kernel(5, 5))\n",
    "    return image\n",
    "\n",
    "\n",
    "img = cv2.imread('fundus.jpeg')\n",
    "hsv = cv2.cvtColor(img, cv2.COLOR_BGR2HSV)\n",
    "\n",
    "l_b = np.array([0, 0, 30])\n",
    "u_b = np.array([255, 255, 255])\n",
    "\n",
    "mask = cv2.inRange(hsv, l_b, u_b)\n",
    "mask = cv2.erode(mask, kernel(5, 5), iterations=30)\n",
    "\n",
    "grayscale = cv2.cvtColor(img, cv2.COLOR_BGR2GRAY)\n",
    " \n",
    "image = cv2.adaptiveThreshold(grayscale, 250, cv2.ADAPTIVE_THRESH_GAUSSIAN_C, cv2.THRESH_BINARY, 55, 1)\n",
    " \n",
    "threshold = cv2.fastNlMeansDenoising(image, 1.5, 5, 5)\n",
    " \n",
    "remove_small6 = delete_small_components(threshold, 150)\n",
    " \n",
    "large_vessels = get_large_vessels(remove_background(remove_small6, mask))\n",
    "cv2_imshow(large_vessels)\n",
    "cv2.imwrite('Large blood vessles.jpg', large_vessels)"
   ]
  },
  {
   "cell_type": "code",
   "execution_count": null,
   "metadata": {},
   "outputs": [],
   "source": []
  }
 ],
 "metadata": {
  "colab": {
   "provenance": []
  },
  "kernelspec": {
   "display_name": "Python 3 (ipykernel)",
   "language": "python",
   "name": "python3"
  },
  "language_info": {
   "codemirror_mode": {
    "name": "ipython",
    "version": 3
   },
   "file_extension": ".py",
   "mimetype": "text/x-python",
   "name": "python",
   "nbconvert_exporter": "python",
   "pygments_lexer": "ipython3",
   "version": "3.9.13"
  }
 },
 "nbformat": 4,
 "nbformat_minor": 1
}
