{
  "nbformat": 4,
  "nbformat_minor": 0,
  "metadata": {
    "colab": {
      "provenance": [],
      "collapsed_sections": [
        "fSr1UKn3HzSX"
      ]
    },
    "kernelspec": {
      "name": "python3",
      "display_name": "Python 3"
    },
    "language_info": {
      "name": "python"
    },
    "accelerator": "GPU",
    "gpuClass": "standard"
  },
  "cells": [
    {
      "cell_type": "code",
      "execution_count": 1,
      "metadata": {
        "id": "JeUYWibRBeCe"
      },
      "outputs": [],
      "source": [
        "import numpy as np\n",
        "import matplotlib.pyplot as plt\n",
        "import seaborn as sns"
      ]
    },
    {
      "cell_type": "markdown",
      "source": [],
      "metadata": {
        "id": "Kxi5i4cwgJ6w"
      }
    },
    {
      "cell_type": "code",
      "source": [
        "import cv2\n",
        "import tensorflow as tf\n",
        "from tensorflow.keras import layers, models"
      ],
      "metadata": {
        "id": "cuTqRICMCHQV"
      },
      "execution_count": 2,
      "outputs": []
    },
    {
      "cell_type": "code",
      "source": [
        "from google.colab import drive\n",
        "drive.mount('/content/drive')"
      ],
      "metadata": {
        "id": "77VVkVzkCOPY",
        "colab": {
          "base_uri": "https://localhost:8080/"
        },
        "outputId": "7c2776cc-585d-40aa-ff7c-f44731735906"
      },
      "execution_count": 3,
      "outputs": [
        {
          "output_type": "stream",
          "name": "stdout",
          "text": [
            "Mounted at /content/drive\n"
          ]
        }
      ]
    },
    {
      "cell_type": "code",
      "source": [
        "from google.colab.patches import cv2_imshow"
      ],
      "metadata": {
        "id": "TFbsQgK8nDlP"
      },
      "execution_count": 4,
      "outputs": []
    },
    {
      "cell_type": "code",
      "source": [
        "print(\"Num GPUs Available: \", len(tf.config.list_physical_devices('GPU')))"
      ],
      "metadata": {
        "colab": {
          "base_uri": "https://localhost:8080/"
        },
        "id": "dLXQ_ZzwmDAs",
        "outputId": "2daf5928-e34e-43d9-f5ad-abf62c2ebb0b"
      },
      "execution_count": 5,
      "outputs": [
        {
          "output_type": "stream",
          "name": "stdout",
          "text": [
            "Num GPUs Available:  1\n"
          ]
        }
      ]
    },
    {
      "cell_type": "code",
      "source": [
        "import os"
      ],
      "metadata": {
        "id": "_kBfZPkcJiFM"
      },
      "execution_count": 6,
      "outputs": []
    },
    {
      "cell_type": "code",
      "source": [
        "!pip install mediapipe"
      ],
      "metadata": {
        "colab": {
          "base_uri": "https://localhost:8080/"
        },
        "id": "vENkURcETWAV",
        "outputId": "eaad52d5-0d38-4b22-b540-b4685cae69aa"
      },
      "execution_count": 7,
      "outputs": [
        {
          "output_type": "stream",
          "name": "stdout",
          "text": [
            "Looking in indexes: https://pypi.org/simple, https://us-python.pkg.dev/colab-wheels/public/simple/\n",
            "Collecting mediapipe\n",
            "  Downloading mediapipe-0.10.0-cp310-cp310-manylinux_2_17_x86_64.manylinux2014_x86_64.whl (33.9 MB)\n",
            "\u001b[2K     \u001b[90m━━━━━━━━━━━━━━━━━━━━━━━━━━━━━━━━━━━━━━━━\u001b[0m \u001b[32m33.9/33.9 MB\u001b[0m \u001b[31m37.7 MB/s\u001b[0m eta \u001b[36m0:00:00\u001b[0m\n",
            "\u001b[?25hRequirement already satisfied: absl-py in /usr/local/lib/python3.10/dist-packages (from mediapipe) (1.4.0)\n",
            "Requirement already satisfied: attrs>=19.1.0 in /usr/local/lib/python3.10/dist-packages (from mediapipe) (23.1.0)\n",
            "Requirement already satisfied: flatbuffers>=2.0 in /usr/local/lib/python3.10/dist-packages (from mediapipe) (23.3.3)\n",
            "Requirement already satisfied: matplotlib in /usr/local/lib/python3.10/dist-packages (from mediapipe) (3.7.1)\n",
            "Requirement already satisfied: numpy in /usr/local/lib/python3.10/dist-packages (from mediapipe) (1.22.4)\n",
            "Requirement already satisfied: opencv-contrib-python in /usr/local/lib/python3.10/dist-packages (from mediapipe) (4.7.0.72)\n",
            "Requirement already satisfied: protobuf<4,>=3.11 in /usr/local/lib/python3.10/dist-packages (from mediapipe) (3.20.3)\n",
            "Collecting sounddevice>=0.4.4 (from mediapipe)\n",
            "  Downloading sounddevice-0.4.6-py3-none-any.whl (31 kB)\n",
            "Requirement already satisfied: CFFI>=1.0 in /usr/local/lib/python3.10/dist-packages (from sounddevice>=0.4.4->mediapipe) (1.15.1)\n",
            "Requirement already satisfied: contourpy>=1.0.1 in /usr/local/lib/python3.10/dist-packages (from matplotlib->mediapipe) (1.0.7)\n",
            "Requirement already satisfied: cycler>=0.10 in /usr/local/lib/python3.10/dist-packages (from matplotlib->mediapipe) (0.11.0)\n",
            "Requirement already satisfied: fonttools>=4.22.0 in /usr/local/lib/python3.10/dist-packages (from matplotlib->mediapipe) (4.39.3)\n",
            "Requirement already satisfied: kiwisolver>=1.0.1 in /usr/local/lib/python3.10/dist-packages (from matplotlib->mediapipe) (1.4.4)\n",
            "Requirement already satisfied: packaging>=20.0 in /usr/local/lib/python3.10/dist-packages (from matplotlib->mediapipe) (23.1)\n",
            "Requirement already satisfied: pillow>=6.2.0 in /usr/local/lib/python3.10/dist-packages (from matplotlib->mediapipe) (8.4.0)\n",
            "Requirement already satisfied: pyparsing>=2.3.1 in /usr/local/lib/python3.10/dist-packages (from matplotlib->mediapipe) (3.0.9)\n",
            "Requirement already satisfied: python-dateutil>=2.7 in /usr/local/lib/python3.10/dist-packages (from matplotlib->mediapipe) (2.8.2)\n",
            "Requirement already satisfied: pycparser in /usr/local/lib/python3.10/dist-packages (from CFFI>=1.0->sounddevice>=0.4.4->mediapipe) (2.21)\n",
            "Requirement already satisfied: six>=1.5 in /usr/local/lib/python3.10/dist-packages (from python-dateutil>=2.7->matplotlib->mediapipe) (1.16.0)\n",
            "Installing collected packages: sounddevice, mediapipe\n",
            "Successfully installed mediapipe-0.10.0 sounddevice-0.4.6\n"
          ]
        }
      ]
    },
    {
      "cell_type": "code",
      "source": [
        "import mediapipe as mp"
      ],
      "metadata": {
        "id": "TAU1RJ-_TiN7"
      },
      "execution_count": 8,
      "outputs": []
    },
    {
      "cell_type": "code",
      "source": [
        "mpPose = mp.solutions.pose\n",
        "pose = mpPose.Pose(static_image_mode=True)\n",
        "mpDraw = mp.solutions.drawing_utils # For drawing keypoints\n",
        "points = mpPose.PoseLandmark # Landmarks"
      ],
      "metadata": {
        "id": "Sf99LzNMTwX5"
      },
      "execution_count": 9,
      "outputs": []
    },
    {
      "cell_type": "code",
      "source": [
        "path=\"/content/drive/MyDrive/Project/IPML/train\""
      ],
      "metadata": {
        "id": "veH6lK88H_CI"
      },
      "execution_count": 10,
      "outputs": []
    },
    {
      "cell_type": "code",
      "source": [
        "folders=[\"downdog\",\"goddess\",\"plank\",\"tree\",\"warrior2\"]"
      ],
      "metadata": {
        "id": "I-oKs5s6IJTr"
      },
      "execution_count": 11,
      "outputs": []
    },
    {
      "cell_type": "code",
      "source": [
        "dd_path=os.path.join(path, folders[0])"
      ],
      "metadata": {
        "id": "LiFDFndvrocc"
      },
      "execution_count": 12,
      "outputs": []
    },
    {
      "cell_type": "code",
      "source": [
        "def get_x_coord(mp_pose_output):\n",
        "  list_landmark=mp_pose_output.pose_landmarks.landmark\n",
        "  length=33\n",
        "  x=np.zeros(length)\n",
        "  for i in range(length):\n",
        "    x[i]=mp_pose_output.pose_landmarks.landmark[i].x\n",
        "  return x"
      ],
      "metadata": {
        "id": "hXMDPZx1vslQ"
      },
      "execution_count": 13,
      "outputs": []
    },
    {
      "cell_type": "code",
      "source": [
        "def get_y_coord(mp_pose_output):\n",
        "  list_landmark=mp_pose_output.pose_landmarks.landmark\n",
        "  length=33\n",
        "  y=np.zeros(length)\n",
        "  for i in range(length):\n",
        "    y[i]=mp_pose_output.pose_landmarks.landmark[i].y\n",
        "  return y"
      ],
      "metadata": {
        "id": "vmvsVFfewjZK"
      },
      "execution_count": 14,
      "outputs": []
    },
    {
      "cell_type": "code",
      "source": [
        "def get_coord(mp_pose_output):\n",
        "  return np.vstack([get_x_coord(results),get_y_coord(results)]).T"
      ],
      "metadata": {
        "id": "4MOW24V5wy7C"
      },
      "execution_count": 15,
      "outputs": []
    },
    {
      "cell_type": "code",
      "source": [
        "img_size = 256\n",
        "\n",
        "training_data = []\n",
        "training_labels = []"
      ],
      "metadata": {
        "id": "5PY6HAtKIfrm"
      },
      "execution_count": 16,
      "outputs": []
    },
    {
      "cell_type": "code",
      "source": [
        "%%time\n",
        "training_data=[]\n",
        "training_labels=[]\n",
        "hits=0\n",
        "miss=0\n",
        "for folder in folders:\n",
        "    folder_path = os.path.join(path, folder)\n",
        "    for img_file in os.listdir(folder_path):\n",
        "      # if hits%100==0:\n",
        "        # print(f\"hits,{hits}\")\n",
        "      img_path = os.path.join(folder_path, img_file)\n",
        "\n",
        "      img = cv2.imread(img_path)\n",
        "      img = cv2.resize(img, (img_size, img_size))\n",
        "      # imageWidth, imageHeight = img.shape[:2]\n",
        "\n",
        "      imgRGB = cv2.cvtColor(img, cv2.COLOR_BGR2RGB)\n",
        "\n",
        "      results = pose.process(imgRGB)\n",
        "      if results.pose_landmarks:\n",
        "        \n",
        "        hits+=1\n",
        "        training_data.append(get_coord(results))\n",
        "        training_labels.append(folders.index(folder))\n",
        "      else:\n",
        "        miss+=1\n",
        "        # images.append(img)"
      ],
      "metadata": {
        "id": "yNzAWFgbKrB-",
        "colab": {
          "base_uri": "https://localhost:8080/"
        },
        "outputId": "05d6038b-7826-48cc-f28b-f142933ff0d4"
      },
      "execution_count": 17,
      "outputs": [
        {
          "output_type": "stream",
          "name": "stdout",
          "text": [
            "CPU times: user 2min 43s, sys: 2.24 s, total: 2min 46s\n",
            "Wall time: 3min 54s\n"
          ]
        }
      ]
    },
    {
      "cell_type": "code",
      "source": [
        "%%time\n",
        "print(hits,miss)"
      ],
      "metadata": {
        "id": "fdc-GcO9UrOe",
        "colab": {
          "base_uri": "https://localhost:8080/"
        },
        "outputId": "56539928-9e9e-43cf-872c-6e510f759b11"
      },
      "execution_count": 18,
      "outputs": [
        {
          "output_type": "stream",
          "name": "stdout",
          "text": [
            "1718 70\n",
            "CPU times: user 69 µs, sys: 1e+03 ns, total: 70 µs\n",
            "Wall time: 74.9 µs\n"
          ]
        }
      ]
    },
    {
      "cell_type": "code",
      "source": [
        "%%time\n",
        "from tensorflow.keras.preprocessing.image import ImageDataGenerator\n",
        "count=0\n",
        "datagen = ImageDataGenerator(\n",
        "    rotation_range=20,\n",
        "    width_shift_range=0.2,\n",
        "    height_shift_range=0.2,\n",
        "    shear_range=0.2,\n",
        "    zoom_range=0.2,\n",
        "    horizontal_flip=True,\n",
        "    vertical_flip=False,\n",
        "    fill_mode='nearest',\n",
        "    channel_shift_range=0.2)\n",
        " \n",
        "augmented_data = []\n",
        "augmented_labels = []\n",
        " \n",
        "for folder in folders:\n",
        "    # print(folder,count)    \n",
        "    folder_path = os.path.join(path, folder)\n",
        "    for img_file in os.listdir(folder_path):\n",
        "        img_path = os.path.join(folder_path, img_file)\n",
        "        img = cv2.imread(img_path)\n",
        "        img = cv2.resize(img, (img_size, img_size))\n",
        "        img = cv2.cvtColor(img, cv2.COLOR_BGR2RGB)\n",
        "        # img = img / 255.0\n",
        "\n",
        "        # augmented_data.append(img)\n",
        "        # augmented_labels.append(folders.index(folder)) \n",
        "        img = img.reshape((1,) + img.shape)\n",
        "        for batch in datagen.flow(img, batch_size=1):\n",
        "            augmented_img = batch[0]\n",
        "            results = pose.process(augmented_img.astype(\"uint8\"))\n",
        "            if results.pose_landmarks:\n",
        "              training_data.append(get_coord(results))\n",
        "              training_labels.append(folders.index(folder))\n",
        "            break\n",
        "\n"
      ],
      "metadata": {
        "colab": {
          "base_uri": "https://localhost:8080/"
        },
        "id": "WP0O0b_v7kGa",
        "outputId": "13f91a7c-34f5-4dd9-b293-8ef2e5db0f5b"
      },
      "execution_count": 19,
      "outputs": [
        {
          "output_type": "stream",
          "name": "stdout",
          "text": [
            "CPU times: user 3min 9s, sys: 2.11 s, total: 3min 11s\n",
            "Wall time: 3min 31s\n"
          ]
        }
      ]
    },
    {
      "cell_type": "code",
      "source": [
        "training_data = np.array(training_data)\n",
        "training_labels = np.array(training_labels)\n",
        " \n",
        "print(\"Training data shape:\", training_data.shape)\n",
        "print(\"Training labels shape:\", training_labels.shape)"
      ],
      "metadata": {
        "id": "nJKmLX6bOMzQ",
        "colab": {
          "base_uri": "https://localhost:8080/"
        },
        "outputId": "31132c3a-80b9-487e-cadb-1406a170fabd"
      },
      "execution_count": 20,
      "outputs": [
        {
          "output_type": "stream",
          "name": "stdout",
          "text": [
            "Training data shape: (3403, 33, 2)\n",
            "Training labels shape: (3403,)\n"
          ]
        }
      ]
    },
    {
      "cell_type": "code",
      "source": [
        "%%time\n",
        "\n",
        "hits=0\n",
        "miss=0\n",
        "test_path = r\"/content/drive/MyDrive/Project/IPML/test\"\n",
        "test_data = []\n",
        "test_labels = []\n",
        "count=0\n",
        "for folder in folders:\n",
        "    folder_path = os.path.join(test_path, folder)\n",
        "    for img_file in os.listdir(folder_path):\n",
        "      img_path = os.path.join(folder_path, img_file)\n",
        "\n",
        "      img = cv2.imread(img_path)\n",
        "      # imageWidth, imageHeight = img.shape[:2]\n",
        "      img=cv2.resize(img, (img_size, img_size))\n",
        "      imgRGB = cv2.cvtColor(img, cv2.COLOR_BGR2RGB)\n",
        "\n",
        "      results = pose.process(imgRGB)\n",
        "      if results.pose_landmarks:\n",
        "        test_data.append(get_coord(results))\n",
        "        test_labels.append(folders.index(folder))\n",
        "        count += 1\n",
        "      else:\n",
        "        miss+=1\n",
        "        # images.append(img)\n",
        "\n",
        "\n",
        "print(hits,miss)\n",
        "test_data = np.array(test_data)\n",
        "test_labels = np.array(test_labels)"
      ],
      "metadata": {
        "colab": {
          "base_uri": "https://localhost:8080/"
        },
        "id": "qO3vXOVrzyP7",
        "outputId": "79379ecc-0b81-4408-fb0e-1008cd0ee30e"
      },
      "execution_count": 21,
      "outputs": [
        {
          "output_type": "stream",
          "name": "stdout",
          "text": [
            "0 7\n",
            "CPU times: user 36.2 s, sys: 561 ms, total: 36.7 s\n",
            "Wall time: 5min 19s\n"
          ]
        }
      ]
    },
    {
      "cell_type": "markdown",
      "source": [
        "# TF"
      ],
      "metadata": {
        "id": "aKTo08kZH5cK"
      }
    },
    {
      "cell_type": "code",
      "source": [
        "input_shape = (33,2)\n",
        " \n",
        "model = models.Sequential([\n",
        "    layers.Conv1D(16,3, activation='relu', input_shape=input_shape),# output 31,2\n",
        "    layers.BatchNormalization(),\n",
        "    layers.Dropout(0.5),\n",
        "    layers.BatchNormalization(),\n",
        "    layers.Flatten(),\n",
        "    layers.Dense(len(folders), activation='softmax')\n",
        "])\n",
        "\n",
        "model.compile(optimizer=tf.keras.optimizers.Adam(learning_rate=0.001),\n",
        "              loss='sparse_categorical_crossentropy',\n",
        "              metrics=['accuracy'])"
      ],
      "metadata": {
        "id": "TVSv4KDse2XL"
      },
      "execution_count": 22,
      "outputs": []
    },
    {
      "cell_type": "code",
      "source": [
        "checkpoint_filepath=\"/tmp/checkpoint\"\n",
        "model_checkpoint_callback=tf.keras.callbacks.ModelCheckpoint(\n",
        "    filepath=checkpoint_filepath,\n",
        "    save_weights_only=True,\n",
        "    monitor=\"val_loss\",\n",
        "    mode='max',\n",
        "    save_best_only=True\n",
        ")"
      ],
      "metadata": {
        "id": "hN4wZFksMyKe"
      },
      "execution_count": 23,
      "outputs": []
    },
    {
      "cell_type": "code",
      "source": [
        "history = model.fit(training_data, training_labels, epochs=50, validation_split=0.2,callbacks=[model_checkpoint_callback])"
      ],
      "metadata": {
        "colab": {
          "base_uri": "https://localhost:8080/"
        },
        "id": "_rCn_2p12LiU",
        "outputId": "b20c65f6-ed09-4cd8-bcc5-1271d1439b4b"
      },
      "execution_count": 24,
      "outputs": [
        {
          "output_type": "stream",
          "name": "stdout",
          "text": [
            "Epoch 1/50\n",
            "86/86 [==============================] - 12s 9ms/step - loss: 1.1873 - accuracy: 0.5242 - val_loss: 1.5510 - val_accuracy: 0.0132\n",
            "Epoch 2/50\n",
            "86/86 [==============================] - 0s 5ms/step - loss: 0.6919 - accuracy: 0.7366 - val_loss: 1.3101 - val_accuracy: 0.3627\n",
            "Epoch 3/50\n",
            "86/86 [==============================] - 0s 5ms/step - loss: 0.5360 - accuracy: 0.8046 - val_loss: 1.0447 - val_accuracy: 0.6608\n",
            "Epoch 4/50\n",
            "86/86 [==============================] - 0s 5ms/step - loss: 0.4797 - accuracy: 0.8310 - val_loss: 0.8011 - val_accuracy: 0.8003\n",
            "Epoch 5/50\n",
            "86/86 [==============================] - 0s 5ms/step - loss: 0.4334 - accuracy: 0.8519 - val_loss: 0.6741 - val_accuracy: 0.7739\n",
            "Epoch 6/50\n",
            "86/86 [==============================] - 0s 5ms/step - loss: 0.4006 - accuracy: 0.8619 - val_loss: 0.5586 - val_accuracy: 0.8223\n",
            "Epoch 7/50\n",
            "86/86 [==============================] - 0s 5ms/step - loss: 0.3520 - accuracy: 0.8795 - val_loss: 0.5461 - val_accuracy: 0.8120\n",
            "Epoch 8/50\n",
            "86/86 [==============================] - 0s 5ms/step - loss: 0.3420 - accuracy: 0.8813 - val_loss: 0.3928 - val_accuracy: 0.9031\n",
            "Epoch 9/50\n",
            "86/86 [==============================] - 0s 5ms/step - loss: 0.3093 - accuracy: 0.8924 - val_loss: 0.3305 - val_accuracy: 0.9060\n",
            "Epoch 10/50\n",
            "86/86 [==============================] - 0s 6ms/step - loss: 0.3059 - accuracy: 0.8942 - val_loss: 0.3291 - val_accuracy: 0.9192\n",
            "Epoch 11/50\n",
            "86/86 [==============================] - 0s 6ms/step - loss: 0.2777 - accuracy: 0.9111 - val_loss: 0.2703 - val_accuracy: 0.9266\n",
            "Epoch 12/50\n",
            "86/86 [==============================] - 0s 5ms/step - loss: 0.2807 - accuracy: 0.9030 - val_loss: 0.5151 - val_accuracy: 0.8223\n",
            "Epoch 13/50\n",
            "86/86 [==============================] - 0s 5ms/step - loss: 0.2625 - accuracy: 0.9118 - val_loss: 0.2856 - val_accuracy: 0.9295\n",
            "Epoch 14/50\n",
            "86/86 [==============================] - 0s 5ms/step - loss: 0.2669 - accuracy: 0.9082 - val_loss: 0.2651 - val_accuracy: 0.9325\n",
            "Epoch 15/50\n",
            "86/86 [==============================] - 0s 5ms/step - loss: 0.2365 - accuracy: 0.9203 - val_loss: 0.4018 - val_accuracy: 0.8737\n",
            "Epoch 16/50\n",
            "86/86 [==============================] - 0s 5ms/step - loss: 0.2417 - accuracy: 0.9203 - val_loss: 0.2932 - val_accuracy: 0.9251\n",
            "Epoch 17/50\n",
            "86/86 [==============================] - 0s 5ms/step - loss: 0.2416 - accuracy: 0.9265 - val_loss: 0.3491 - val_accuracy: 0.9046\n",
            "Epoch 18/50\n",
            "86/86 [==============================] - 0s 5ms/step - loss: 0.2326 - accuracy: 0.9258 - val_loss: 0.3273 - val_accuracy: 0.9104\n",
            "Epoch 19/50\n",
            "86/86 [==============================] - 0s 5ms/step - loss: 0.2325 - accuracy: 0.9280 - val_loss: 0.2481 - val_accuracy: 0.9427\n",
            "Epoch 20/50\n",
            "86/86 [==============================] - 1s 7ms/step - loss: 0.2238 - accuracy: 0.9243 - val_loss: 0.2862 - val_accuracy: 0.9339\n",
            "Epoch 21/50\n",
            "86/86 [==============================] - 1s 8ms/step - loss: 0.2294 - accuracy: 0.9184 - val_loss: 0.5120 - val_accuracy: 0.8502\n",
            "Epoch 22/50\n",
            "86/86 [==============================] - 1s 8ms/step - loss: 0.2245 - accuracy: 0.9251 - val_loss: 0.3206 - val_accuracy: 0.9119\n",
            "Epoch 23/50\n",
            "86/86 [==============================] - 1s 8ms/step - loss: 0.2069 - accuracy: 0.9313 - val_loss: 0.3066 - val_accuracy: 0.9207\n",
            "Epoch 24/50\n",
            "86/86 [==============================] - 1s 8ms/step - loss: 0.1929 - accuracy: 0.9386 - val_loss: 0.2914 - val_accuracy: 0.9280\n",
            "Epoch 25/50\n",
            "86/86 [==============================] - 1s 8ms/step - loss: 0.2051 - accuracy: 0.9269 - val_loss: 0.4126 - val_accuracy: 0.8884\n",
            "Epoch 26/50\n",
            "86/86 [==============================] - 0s 5ms/step - loss: 0.1987 - accuracy: 0.9331 - val_loss: 0.3063 - val_accuracy: 0.9222\n",
            "Epoch 27/50\n",
            "86/86 [==============================] - 0s 5ms/step - loss: 0.2080 - accuracy: 0.9229 - val_loss: 0.3313 - val_accuracy: 0.9148\n",
            "Epoch 28/50\n",
            "86/86 [==============================] - 0s 5ms/step - loss: 0.2028 - accuracy: 0.9339 - val_loss: 0.2766 - val_accuracy: 0.9383\n",
            "Epoch 29/50\n",
            "86/86 [==============================] - 0s 5ms/step - loss: 0.2029 - accuracy: 0.9375 - val_loss: 0.3446 - val_accuracy: 0.9046\n",
            "Epoch 30/50\n",
            "86/86 [==============================] - 0s 5ms/step - loss: 0.1878 - accuracy: 0.9372 - val_loss: 0.3527 - val_accuracy: 0.9104\n",
            "Epoch 31/50\n",
            "86/86 [==============================] - 0s 5ms/step - loss: 0.1844 - accuracy: 0.9364 - val_loss: 0.3445 - val_accuracy: 0.9236\n",
            "Epoch 32/50\n",
            "86/86 [==============================] - 0s 5ms/step - loss: 0.2005 - accuracy: 0.9386 - val_loss: 0.3788 - val_accuracy: 0.9060\n",
            "Epoch 33/50\n",
            "86/86 [==============================] - 0s 5ms/step - loss: 0.1919 - accuracy: 0.9416 - val_loss: 0.4173 - val_accuracy: 0.8913\n",
            "Epoch 34/50\n",
            "86/86 [==============================] - 0s 5ms/step - loss: 0.1915 - accuracy: 0.9353 - val_loss: 0.2957 - val_accuracy: 0.9266\n",
            "Epoch 35/50\n",
            "86/86 [==============================] - 0s 5ms/step - loss: 0.1853 - accuracy: 0.9368 - val_loss: 0.3440 - val_accuracy: 0.9060\n",
            "Epoch 36/50\n",
            "86/86 [==============================] - 0s 5ms/step - loss: 0.1841 - accuracy: 0.9361 - val_loss: 0.4070 - val_accuracy: 0.8884\n",
            "Epoch 37/50\n",
            "86/86 [==============================] - 0s 5ms/step - loss: 0.1828 - accuracy: 0.9431 - val_loss: 0.3530 - val_accuracy: 0.9251\n",
            "Epoch 38/50\n",
            "86/86 [==============================] - 0s 5ms/step - loss: 0.1882 - accuracy: 0.9375 - val_loss: 0.3633 - val_accuracy: 0.9163\n",
            "Epoch 39/50\n",
            "86/86 [==============================] - 0s 5ms/step - loss: 0.1869 - accuracy: 0.9346 - val_loss: 0.2919 - val_accuracy: 0.9354\n",
            "Epoch 40/50\n",
            "86/86 [==============================] - 0s 5ms/step - loss: 0.1835 - accuracy: 0.9368 - val_loss: 0.3300 - val_accuracy: 0.9354\n",
            "Epoch 41/50\n",
            "86/86 [==============================] - 0s 5ms/step - loss: 0.1882 - accuracy: 0.9398 - val_loss: 0.3917 - val_accuracy: 0.9060\n",
            "Epoch 42/50\n",
            "86/86 [==============================] - 0s 5ms/step - loss: 0.1906 - accuracy: 0.9357 - val_loss: 0.4871 - val_accuracy: 0.8781\n",
            "Epoch 43/50\n",
            "86/86 [==============================] - 0s 5ms/step - loss: 0.1950 - accuracy: 0.9390 - val_loss: 0.4366 - val_accuracy: 0.8708\n",
            "Epoch 44/50\n",
            "86/86 [==============================] - 0s 5ms/step - loss: 0.1662 - accuracy: 0.9416 - val_loss: 0.3628 - val_accuracy: 0.9134\n",
            "Epoch 45/50\n",
            "86/86 [==============================] - 0s 5ms/step - loss: 0.1631 - accuracy: 0.9456 - val_loss: 0.3994 - val_accuracy: 0.9060\n",
            "Epoch 46/50\n",
            "86/86 [==============================] - 0s 5ms/step - loss: 0.1733 - accuracy: 0.9412 - val_loss: 0.3591 - val_accuracy: 0.9192\n",
            "Epoch 47/50\n",
            "86/86 [==============================] - 0s 5ms/step - loss: 0.1700 - accuracy: 0.9416 - val_loss: 0.3168 - val_accuracy: 0.9310\n",
            "Epoch 48/50\n",
            "86/86 [==============================] - 1s 7ms/step - loss: 0.1682 - accuracy: 0.9427 - val_loss: 0.3526 - val_accuracy: 0.9178\n",
            "Epoch 49/50\n",
            "86/86 [==============================] - 1s 8ms/step - loss: 0.1760 - accuracy: 0.9460 - val_loss: 0.3890 - val_accuracy: 0.9060\n",
            "Epoch 50/50\n",
            "86/86 [==============================] - 1s 8ms/step - loss: 0.1824 - accuracy: 0.9390 - val_loss: 0.3442 - val_accuracy: 0.9192\n"
          ]
        }
      ]
    },
    {
      "cell_type": "code",
      "source": [
        "history.history"
      ],
      "metadata": {
        "colab": {
          "base_uri": "https://localhost:8080/"
        },
        "id": "GLY_DMGjKsJ0",
        "outputId": "38485c9a-3087-4d0a-9f88-91b7a7e4025e"
      },
      "execution_count": null,
      "outputs": [
        {
          "output_type": "execute_result",
          "data": {
            "text/plain": [
              "{'loss': [0.8492923974990845,\n",
              "  0.4255976378917694,\n",
              "  0.2822619378566742,\n",
              "  0.1547458916902542,\n",
              "  0.08835351467132568,\n",
              "  0.05245037376880646,\n",
              "  0.035821784287691116,\n",
              "  0.046020179986953735,\n",
              "  0.040677882730960846,\n",
              "  0.008679515682160854],\n",
              " 'accuracy': [0.6745649576187134,\n",
              "  0.8552387952804565,\n",
              "  0.8996667861938477,\n",
              "  0.9403924345970154,\n",
              "  0.9703813195228577,\n",
              "  0.9833394885063171,\n",
              "  0.9881525635719299,\n",
              "  0.9874120950698853,\n",
              "  0.9866716265678406,\n",
              "  0.997408390045166],\n",
              " 'val_loss': [1.1100019216537476,\n",
              "  1.2381103038787842,\n",
              "  1.0636322498321533,\n",
              "  1.3596174716949463,\n",
              "  1.659891128540039,\n",
              "  2.119201183319092,\n",
              "  3.090578317642212,\n",
              "  1.9030358791351318,\n",
              "  3.4254748821258545,\n",
              "  3.159965991973877],\n",
              " 'val_accuracy': [0.6005917191505432,\n",
              "  0.5473372936248779,\n",
              "  0.6582840085029602,\n",
              "  0.6612426042556763,\n",
              "  0.7011834383010864,\n",
              "  0.6775147914886475,\n",
              "  0.5976331233978271,\n",
              "  0.6568047404289246,\n",
              "  0.6139053106307983,\n",
              "  0.6775147914886475]}"
            ]
          },
          "metadata": {},
          "execution_count": 46
        }
      ]
    },
    {
      "cell_type": "code",
      "source": [
        "plt.plot(history.history['loss'])\n",
        "plt.plot(history.history['val_loss'])\n",
        "plt.legend([\"Training Loss\",\"Validation Loss\"])\n",
        "plt.show()"
      ],
      "metadata": {
        "id": "ypK_lkEerRLZ",
        "colab": {
          "base_uri": "https://localhost:8080/",
          "height": 430
        },
        "outputId": "f608adeb-7429-4d7d-faf9-f291b5a1dc91"
      },
      "execution_count": 26,
      "outputs": [
        {
          "output_type": "display_data",
          "data": {
            "text/plain": [
              "<Figure size 640x480 with 1 Axes>"
            ],
            "image/png": "[encoded data removed]"
          },
          "metadata": {}
        }
      ]
    },
    {
      "cell_type": "code",
      "source": [
        "import seaborn as sns\n",
        "import matplotlib.pyplot as plt\n",
        "from sklearn.metrics import classification_report, confusion_matrix"
      ],
      "metadata": {
        "id": "JNRTL8F7iL2t"
      },
      "execution_count": null,
      "outputs": []
    },
    {
      "cell_type": "code",
      "source": [
        "predictions = model.predict(test_data)\n",
        " \n",
        "predicted_labels = np.argmax(predictions, axis=1)\n",
        "\n",
        "print(\"\\nClassification Report:\")\n",
        "print(classification_report(test_labels, predicted_labels, target_names=folders))\n",
        "\n",
        "cm = confusion_matrix(test_labels, predicted_labels)\n",
        "plt.figure(figsize=(8, 6))\n",
        "sns.heatmap(cm, annot=True, cmap='Blues', xticklabels=folders, yticklabels=folders)\n",
        "plt.xlabel('Predicted Labels')\n",
        "plt.ylabel('True Labels')\n",
        "plt.show()"
      ],
      "metadata": {
        "colab": {
          "base_uri": "https://localhost:8080/",
          "height": 802
        },
        "id": "RuKVjWCjqMmM",
        "outputId": "4b2c3d71-44cc-417d-fcf0-96b2b5951237"
      },
      "execution_count": null,
      "outputs": [
        {
          "output_type": "stream",
          "name": "stdout",
          "text": [
            "12/12 [==============================] - 0s 4ms/step\n",
            "\n",
            "Classification Report:\n",
            "              precision    recall  f1-score   support\n",
            "\n",
            "     downdog       0.99      0.99      0.99        79\n",
            "     goddess       0.99      1.00      0.99        73\n",
            "       plank       0.98      1.00      0.99        60\n",
            "        tree       1.00      1.00      1.00        64\n",
            "    warrior2       1.00      0.98      0.99        91\n",
            "\n",
            "    accuracy                           0.99       367\n",
            "   macro avg       0.99      0.99      0.99       367\n",
            "weighted avg       0.99      0.99      0.99       367\n",
            "\n"
          ]
        },
        {
          "output_type": "display_data",
          "data": {
            "text/plain": [
              "<Figure size 800x600 with 2 Axes>"
            ],
            "image/png": "[encoded data removed]"
          },
          "metadata": {}
        }
      ]
    },
    {
      "cell_type": "code",
      "source": [
        "model.save_weights('/content/drive/MyDrive/Project/IPML/checkpoints/my_checkpoint')"
      ],
      "metadata": {
        "id": "EXmXs5UQn6LP"
      },
      "execution_count": null,
      "outputs": []
    },
    {
      "cell_type": "code",
      "source": [
        "%%time\n",
        "hits=0\n",
        "miss=0\n",
        "new_test_path = r\"/content/drive/MyDrive/Project/IPML/new_test\" ## dataset of image of group members\n",
        "new_test_data = []\n",
        "new_test_labels = []\n",
        "for folder in folders:\n",
        "    folder_path = os.path.join(new_test_path, folder)\n",
        "    for img_file in os.listdir(folder_path):\n",
        "      img_path = os.path.join(folder_path, img_file)\n",
        "\n",
        "      img = cv2.imread(img_path)\n",
        "      # imageWidth, imageHeight = img.shape[:2]\n",
        "\n",
        "      imgRGB = cv2.cvtColor(img, cv2.COLOR_BGR2RGB)\n",
        "\n",
        "      results = pose.process(imgRGB)\n",
        "      if results.pose_landmarks:\n",
        "        new_test_data.append(get_coord(results))\n",
        "        new_test_labels.append(folders.index(folder))\n",
        "      else:\n",
        "        miss+=1\n",
        "\n",
        "        # images.append(img)\n",
        "\n",
        "\n",
        "print(hits,miss)\n",
        "new_test_data = np.array(new_test_data)\n",
        "new_test_labels = np.array(new_test_labels)"
      ],
      "metadata": {
        "colab": {
          "base_uri": "https://localhost:8080/"
        },
        "id": "IxZCAutBxiPv",
        "outputId": "74138a5f-6adc-4d67-d9f5-95c7a1516fd5"
      },
      "execution_count": null,
      "outputs": [
        {
          "output_type": "stream",
          "name": "stdout",
          "text": [
            "0 0\n",
            "CPU times: user 1.64 s, sys: 38.3 ms, total: 1.68 s\n",
            "Wall time: 5.76 s\n"
          ]
        }
      ]
    },
    {
      "cell_type": "code",
      "source": [
        "predictions = model.predict(new_test_data)\n",
        " \n",
        "predicted_labels = np.argmax(predictions, axis=1)\n",
        "\n",
        "print(\"\\nClassification Report:\")\n",
        "print(classification_report(new_test_labels, predicted_labels, target_names=folders))\n",
        "\n",
        "cm = confusion_matrix(new_test_labels, predicted_labels)\n",
        "plt.figure(figsize=(8, 6))\n",
        "sns.heatmap(cm, annot=True, cmap='Blues', xticklabels=folders, yticklabels=folders)\n",
        "plt.xlabel('Predicted Labels')\n",
        "plt.ylabel('True Labels')\n",
        "plt.show()"
      ],
      "metadata": {
        "colab": {
          "base_uri": "https://localhost:8080/",
          "height": 807
        },
        "id": "ABfSg-Ngz5Md",
        "outputId": "f33802c9-7cc7-4236-c450-10a1d48bb4d7"
      },
      "execution_count": null,
      "outputs": [
        {
          "output_type": "stream",
          "name": "stdout",
          "text": [
            "1/1 [==============================] - 0s 20ms/step\n",
            "\n",
            "Classification Report:\n",
            "              precision    recall  f1-score   support\n",
            "\n",
            "     downdog       1.00      1.00      1.00         4\n",
            "     goddess       1.00      1.00      1.00         2\n",
            "       plank       1.00      1.00      1.00         5\n",
            "        tree       1.00      1.00      1.00         2\n",
            "    warrior2       1.00      1.00      1.00         4\n",
            "\n",
            "    accuracy                           1.00        17\n",
            "   macro avg       1.00      1.00      1.00        17\n",
            "weighted avg       1.00      1.00      1.00        17\n",
            "\n"
          ]
        },
        {
          "output_type": "display_data",
          "data": {
            "text/plain": [
              "<Figure size 800x600 with 2 Axes>"
            ],
            "image/png": "[encoded data removed]"
          },
          "metadata": {}
        }
      ]
    },
    {
      "cell_type": "code",
      "source": [],
      "metadata": {
        "id": "DYmhl23rSPEQ"
      },
      "execution_count": null,
      "outputs": []
    }
  ]
}