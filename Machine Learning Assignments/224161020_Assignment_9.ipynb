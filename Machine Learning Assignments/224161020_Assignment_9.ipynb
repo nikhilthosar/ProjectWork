{
 "cells": [
  {
   "cell_type": "markdown",
   "metadata": {
    "id": "8_WxnYaIxrUY"
   },
   "source": [
    "# Logistic Regression"
   ]
  },
  {
   "cell_type": "code",
   "execution_count": null,
   "metadata": {
    "colab": {
     "base_uri": "https://localhost:8080/"
    },
    "id": "rVSL1mnRe4qO",
    "outputId": "01096e41-6077-4c71-ef23-d3848a8b3574"
   },
   "outputs": [
    {
     "name": "stdout",
     "output_type": "stream",
     "text": [
      "Class 0 accuracy: 1.0\n",
      "Class 1 accuracy: 0.0\n",
      "Overall accuracy: 0.5078066914498142\n"
     ]
    }
   ],
   "source": [
    "import numpy as np\n",
    "import pandas as pd\n",
    "\n",
    "# Step 1: Load the training data\n",
    "train_data = pd.read_csv(\"Train_file.csv\", header=None)\n",
    "train_X = train_data.iloc[:, :-1].values  # Features\n",
    "train_y = train_data.iloc[:, -1].values   # Labels\n",
    "\n",
    "# Step 2: Separate the instances with label 0 and 1\n",
    "X0 = train_X[train_y == 0]\n",
    "X1 = train_X[train_y == 1]\n",
    "\n",
    "# Step 3: Calculate the means and covariance matrices\n",
    "mu0 = np.mean(X0, axis=0)\n",
    "mu1 = np.mean(X1, axis=0)\n",
    "C0 = np.cov(X0.T)\n",
    "C1 = np.cov(X1.T)\n",
    "\n",
    "# Step 4: Define the discriminant function\n",
    "def g(x):\n",
    "    A = np.log(np.sum(train_y == 1) / np.sum(train_y == 0))\n",
    "    B = -0.5 * np.log(np.linalg.det(C1) / np.linalg.det(C0))\n",
    "    C = -0.5 * np.dot(np.dot(np.transpose(x - mu1), np.linalg.inv(C1)), x - mu1)\n",
    "    D = 0.5 * np.dot(np.dot(np.transpose(x - mu0), np.linalg.inv(C0)), x - mu0)\n",
    "    return A + B + C - D\n",
    "\n",
    "# Step 5: Load the test data\n",
    "test_data = pd.read_csv(\"Test_file.csv\", header=None)\n",
    "test_X = test_data.iloc[:, :-1].values  # Features\n",
    "test_y = test_data.iloc[:, -1].values   # Labels\n",
    "\n",
    "# Step 6: Pass each test instance to the discriminant function and assign labels\n",
    "pred_y = np.zeros_like(test_y)\n",
    "for i, x in enumerate(test_X):\n",
    "    if g(x) >= 0:\n",
    "        pred_y[i] = 1\n",
    "\n",
    "# Step 7: Calculate the accuracy\n",
    "class0_acc = np.sum((test_y == 0) & (pred_y == 0)) / np.sum(test_y == 0)\n",
    "class1_acc = np.sum((test_y == 1) & (pred_y == 1)) / np.sum(test_y == 1)\n",
    "overall_acc = np.mean(test_y == pred_y)\n",
    "\n",
    "print(\"Class 0 accuracy:\", class0_acc)\n",
    "print(\"Class 1 accuracy:\", class1_acc)\n",
    "print(\"Overall accuracy:\", overall_acc)"
   ]
  },
  {
   "cell_type": "markdown",
   "metadata": {
    "id": "CQVvdss1xoZ7"
   },
   "source": [
    "**Que. 2**"
   ]
  },
  {
   "cell_type": "code",
   "execution_count": 17,
   "metadata": {
    "colab": {
     "base_uri": "https://localhost:8080/"
    },
    "id": "Q0lEz0Obirzd",
    "outputId": "c16db999-bef9-40d2-a76a-a5a5e1c5522d"
   },
   "outputs": [
    {
     "name": "stderr",
     "output_type": "stream",
     "text": [
      "<ipython-input-17-e6b84c7f8eae>:9: DtypeWarning: Columns (30) have mixed types. Specify dtype option on import or set low_memory=False.\n",
      "  test_data = pd.read_csv('Test_file.csv', header=None)\n"
     ]
    }
   ],
   "source": [
    "import numpy as np\n",
    "import pandas as pd\n",
    "# Load the training data\n",
    "train_data = pd.read_csv('Train_file.csv', header=None)\n",
    "X_train = train_data.iloc[:, :-1].values\n",
    "y_train = train_data.iloc[:, -1].values\n",
    "\n",
    "# Load the test data\n",
    "test_data = pd.read_csv('Test_file.csv', header=None)\n",
    "X_test = test_data.iloc[:, :-1].values\n",
    "y_test = test_data.iloc[:, -1].values"
   ]
  },
  {
   "cell_type": "code",
   "execution_count": 18,
   "metadata": {
    "id": "rGUgTpC8uyTQ"
   },
   "outputs": [],
   "source": [
    "import random\n",
    "def initialize_betas(dim):\n",
    "    b = random.random()\n",
    "    w = np.random.rand(dim)\n",
    "    return b,w "
   ]
  },
  {
   "cell_type": "code",
   "execution_count": 19,
   "metadata": {
    "colab": {
     "base_uri": "https://localhost:8080/"
    },
    "id": "IMDpRwOxu1hf",
    "outputId": "f2981499-edee-4a4a-d735-7672688c4f76"
   },
   "outputs": [
    {
     "name": "stdout",
     "output_type": "stream",
     "text": [
      "0.5834627791815397 [0.83696349 0.0456171  0.30140288 0.15055025 0.81401694 0.34453709\n",
      " 0.24059533 0.42393516 0.05033345 0.95540644 0.29873441 0.92314832\n",
      " 0.75151438 0.06462148 0.30644611 0.66186701 0.30020754 0.85922962\n",
      " 0.44449162 0.57430862 0.33603871 0.33302364 0.87375171 0.56445846\n",
      " 0.79369031 0.56635184 0.1438441  0.05195808 0.99069704 0.09493143\n",
      " 0.61015516 0.57484555 0.82265471 0.69449658 0.95946716 0.14624593\n",
      " 0.85619333 0.60369237 0.95853641 0.07308117 0.83417602 0.28287662\n",
      " 0.74775102 0.12476352 0.04667217 0.61165989 0.446132   0.70450775\n",
      " 0.84842976 0.88689024 0.29616334 0.80229718 0.28134588 0.82445533\n",
      " 0.0743282  0.03427572 0.41026584 0.4877764  0.1735361  0.9270242 ]\n"
     ]
    }
   ],
   "source": [
    "b,w = initialize_betas(X_train.shape[1])\n",
    "print(b,w)"
   ]
  },
  {
   "cell_type": "code",
   "execution_count": 20,
   "metadata": {
    "colab": {
     "base_uri": "https://localhost:8080/"
    },
    "id": "ZkXT8ESAvCP1",
    "outputId": "d9a369c0-b102-4031-ffd2-237de4e5a7ba"
   },
   "outputs": [
    {
     "data": {
      "text/plain": [
       "(60,)"
      ]
     },
     "execution_count": 20,
     "metadata": {},
     "output_type": "execute_result"
    }
   ],
   "source": [
    "w.shape"
   ]
  },
  {
   "cell_type": "code",
   "execution_count": 22,
   "metadata": {
    "id": "YFf9dTVavKMd"
   },
   "outputs": [],
   "source": [
    "def sigmoid(b, w ,X_new):\n",
    "    Z = b + np.matmul(X_new,w)\n",
    "    return (1.0 / (1 + np.exp(-Z)))"
   ]
  },
  {
   "cell_type": "code",
   "execution_count": 24,
   "metadata": {
    "colab": {
     "base_uri": "https://localhost:8080/"
    },
    "id": "9oqEoRoev0EJ",
    "outputId": "f5c223b5-c434-4a66-c92c-f08d91b6352e"
   },
   "outputs": [
    {
     "data": {
      "text/plain": [
       "array([5.93254362e-06, 1.04204229e-03, 1.02018623e-03, 2.00219943e-01,\n",
       "       2.18925948e-03])"
      ]
     },
     "execution_count": 24,
     "metadata": {},
     "output_type": "execute_result"
    }
   ],
   "source": [
    "y_hat = sigmoid(b,w,X_train)\n",
    "y_hat[0:5]"
   ]
  },
  {
   "cell_type": "code",
   "execution_count": 25,
   "metadata": {
    "colab": {
     "base_uri": "https://localhost:8080/"
    },
    "id": "NR2AmlDywGny",
    "outputId": "f115ec74-6b17-4a5d-aeb5-460b2157e40f"
   },
   "outputs": [
    {
     "data": {
      "text/plain": [
       "array([1., 0., 0., 0., 1.])"
      ]
     },
     "execution_count": 25,
     "metadata": {},
     "output_type": "execute_result"
    }
   ],
   "source": [
    "y_train[0:5]"
   ]
  },
  {
   "cell_type": "code",
   "execution_count": 26,
   "metadata": {
    "id": "Vbrxwg3UwVGx"
   },
   "outputs": [],
   "source": [
    "def get_cost( y, y_hat):\n",
    "      #return np.sum(np.dot(y.T,np.log(1-y_hat)+ np.dot((1-y).T,np.log(1-y_hat)))) / ( len(y))\n",
    "        return - np.sum(np.dot(y.T,np.log(1-y_hat)+ np.dot((1-y).T,np.log(1-y_hat)))) / ( len(y))"
   ]
  },
  {
   "cell_type": "code",
   "execution_count": 27,
   "metadata": {
    "colab": {
     "base_uri": "https://localhost:8080/"
    },
    "id": "NOJAkazTwcQE",
    "outputId": "637b2bb5-a92d-48e5-b0cd-68608a60b901"
   },
   "outputs": [
    {
     "data": {
      "text/plain": [
       "(20847,)"
      ]
     },
     "execution_count": 27,
     "metadata": {},
     "output_type": "execute_result"
    }
   ],
   "source": [
    "# Reshape Y\n",
    "Y=y_train.reshape(len(y_train), )\n",
    "current_cost= get_cost(Y,y_hat)\n",
    "#print(current_cost)\n",
    "Y.shape"
   ]
  },
  {
   "cell_type": "code",
   "execution_count": 28,
   "metadata": {
    "id": "A9gARhXFwtqD"
   },
   "outputs": [],
   "source": [
    "def update_beta (b_0, w_0 , y , y_hat, X_new, alpha):\n",
    "    db = np.sum( y_hat - y)/ len(y)\n",
    "    b_0 = b_0 - alpha * db\n",
    "    dw = np.dot((y_hat - y), X_new)/ len(y)\n",
    "    w_0 = w_0 - alpha * dw\n",
    "   \n",
    "   \n",
    "    return b_0,w_0"
   ]
  },
  {
   "cell_type": "code",
   "execution_count": 32,
   "metadata": {
    "colab": {
     "base_uri": "https://localhost:8080/"
    },
    "id": "EZQvRnvdwyAK",
    "outputId": "cc5e9fee-c040-49c3-a662-342ef6c5744a"
   },
   "outputs": [
    {
     "name": "stdout",
     "output_type": "stream",
     "text": [
      "initial guess of b and w:  0.8022492650595721 [0.42820373 0.54583209 0.25421992 0.12513606 0.29718046 0.89943589\n",
      " 0.55273814 0.53093339 0.11956235 0.19412798 0.2877121  0.58073825\n",
      " 0.21427061 0.08775307 0.16945847 0.28682324 0.82310573 0.19666467\n",
      " 0.09636646 0.0416926  0.02153101 0.60549224 0.25816158 0.45655472\n",
      " 0.94922843 0.85281775 0.19940806 0.47424098 0.61454815 0.69919583\n",
      " 0.55005904 0.16539246 0.85694325 0.46555648 0.69148722 0.81905181\n",
      " 0.33255603 0.23350611 0.52385707 0.70891455 0.85882408 0.82821859\n",
      " 0.48527091 0.31630699 0.54532678 0.39509164 0.13710905 0.24166709\n",
      " 0.11576019 0.85499728 0.61322057 0.95388917 0.21942989 0.51927407\n",
      " 0.36698129 0.21922375 0.49084196 0.97634157 0.1077881  0.42985789]\n",
      "Iteration:  0 Cost:  nan\n",
      "Iteration:  10 Cost:  nan\n",
      "Iteration:  20 Cost:  nan\n",
      "Iteration:  30 Cost:  nan\n",
      "Iteration:  40 Cost:  nan\n",
      "Iteration:  50 Cost:  nan\n",
      "Iteration:  60 Cost:  nan\n",
      "Iteration:  70 Cost:  nan\n",
      "Iteration:  80 Cost:  nan\n",
      "Iteration:  90 Cost:  nan\n",
      "Iteration:  100 Cost:  nan\n",
      "Iteration:  110 Cost:  nan\n",
      "Iteration:  120 Cost:  nan\n",
      "Iteration:  130 Cost:  nan\n",
      "Iteration:  140 Cost:  nan\n",
      "Iteration:  150 Cost:  nan\n",
      "Iteration:  160 Cost:  nan\n",
      "Iteration:  170 Cost:  nan\n",
      "Iteration:  180 Cost:  nan\n",
      "Iteration:  190 Cost:  nan\n",
      "Iteration:  200 Cost:  nan\n",
      "Iteration:  210 Cost:  nan\n",
      "Iteration:  220 Cost:  nan\n",
      "Iteration:  230 Cost:  nan\n",
      "Iteration:  240 Cost:  nan\n",
      "Iteration:  250 Cost:  nan\n",
      "Iteration:  260 Cost:  nan\n",
      "Iteration:  270 Cost:  nan\n",
      "Iteration:  280 Cost:  nan\n",
      "Iteration:  290 Cost:  nan\n",
      "Iteration:  300 Cost:  nan\n",
      "Iteration:  310 Cost:  nan\n",
      "Iteration:  320 Cost:  nan\n",
      "Iteration:  330 Cost:  nan\n",
      "Iteration:  340 Cost:  nan\n",
      "Iteration:  350 Cost:  nan\n",
      "Iteration:  360 Cost:  nan\n",
      "Iteration:  370 Cost:  nan\n",
      "Iteration:  380 Cost:  nan\n",
      "Iteration:  390 Cost:  nan\n",
      "Iteration:  400 Cost:  nan\n",
      "Iteration:  410 Cost:  nan\n",
      "Iteration:  420 Cost:  nan\n",
      "Iteration:  430 Cost:  nan\n",
      "Iteration:  440 Cost:  nan\n",
      "Iteration:  450 Cost:  nan\n",
      "Iteration:  460 Cost:  nan\n",
      "Iteration:  470 Cost:  nan\n",
      "Iteration:  480 Cost:  nan\n",
      "Iteration:  490 Cost:  nan\n",
      "Final estimates of b and q are:  nan [nan nan nan nan nan nan nan nan nan nan nan nan nan nan nan nan nan nan\n",
      " nan nan nan nan nan nan nan nan nan nan nan nan nan nan nan nan nan nan\n",
      " nan nan nan nan nan nan nan nan nan nan nan nan nan nan nan nan nan nan\n",
      " nan nan nan nan nan nan]\n"
     ]
    }
   ],
   "source": [
    "num_iterations = 500\n",
    "alpha = 0.5\n",
    "\n",
    "all_costs = []\n",
    "b,w = initialize_betas(X_train.shape[1])\n",
    "print(\"initial guess of b and w: \" , b ,w)\n",
    "\n",
    "for each_iter in range (num_iterations ):\n",
    "    y_hat = sigmoid(b, w , X_train)\n",
    "    current_cost = get_cost (Y, y_hat)\n",
    "    prev_b = b\n",
    "    prev_w = w\n",
    "    b, w = update_beta (prev_b, prev_w, Y, y_hat, X_train, alpha)\n",
    "    all_costs.append(current_cost)\n",
    "    if each_iter % 10 == 0:\n",
    "        print('Iteration: ', each_iter, 'Cost: ', current_cost)\n",
    "        each_iter += 1\n",
    "    \n",
    "#print('b_0:', b_0, 'b_1:',b_1,'b_2:',b_2,'b_3:',b_3,'b_4:', b_4, 'b_5:',b_5,'b_6:',b_6,'b_7:',b_7,'b_8:',b_8,'b_9:',b_9)\n",
    "print(\"Final estimates of b and q are: \", b,w)"
   ]
  }
 ],
 "metadata": {
  "colab": {
   "provenance": []
  },
  "kernelspec": {
   "display_name": "Python 3 (ipykernel)",
   "language": "python",
   "name": "python3"
  },
  "language_info": {
   "codemirror_mode": {
    "name": "ipython",
    "version": 3
   },
   "file_extension": ".py",
   "mimetype": "text/x-python",
   "name": "python",
   "nbconvert_exporter": "python",
   "pygments_lexer": "ipython3",
   "version": "3.9.13"
  }
 },
 "nbformat": 4,
 "nbformat_minor": 1
}
