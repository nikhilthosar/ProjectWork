{
 "cells": [
  {
   "cell_type": "code",
   "execution_count": 3,
   "id": "da4f8a52",
   "metadata": {},
   "outputs": [],
   "source": [
    "import numpy as np\n",
    "import pandas as pd\n",
    "\n",
    "# Step 1: Load the data from the Train_file.csv into a numpy array\n",
    "data = pd.read_csv(\"C:/Users/PC/Desktop/Work/ML Assignments/DataSets/Train_file.csv\", header=None).values\n",
    "\n",
    "# Step 2: Separate the input features and labels from the data\n",
    "X = data[:, :-1]\n",
    "Y = data[:, -1]\n",
    " "
   ]
  },
  {
   "cell_type": "code",
   "execution_count": 8,
   "id": "fd7dd013",
   "metadata": {},
   "outputs": [
    {
     "data": {
      "text/plain": [
       "2.515380137880632"
      ]
     },
     "execution_count": 8,
     "metadata": {},
     "output_type": "execute_result"
    }
   ],
   "source": [
    "X.shape"
   ]
  },
  {
   "cell_type": "code",
   "execution_count": 7,
   "id": "0b2b5cc9",
   "metadata": {},
   "outputs": [
    {
     "name": "stdout",
     "output_type": "stream",
     "text": [
      "Learned weight vector:  [ 1.22307146  0.51127432  0.4409357   0.17483732  0.36565723 -0.31313473\n",
      " -0.44731601  0.32961763 -0.38781019 -0.58086828 -0.44144996 -0.79367751\n",
      " -0.38823379 -0.94610748 -0.44023855  0.46898529 -0.77082108  0.34331146\n",
      "  0.46442139 -0.72792694 -0.2090214  -0.38298688  0.20684881 -0.0649347\n",
      "  0.03607807 -0.20847047 -0.1982043  -0.10670911  0.09142813  0.63114451\n",
      "  0.39885353  0.30923461  0.79404099  0.05544533  0.13340945  0.12192908\n",
      " -0.02796305  0.19106526  0.21502714 -0.08987007  7.46823278  2.77960507\n",
      "  2.30999922  0.81670634  0.68521228 -2.16175836 -2.63467752  2.79819466\n",
      " -2.47999992 -2.13913672 -1.97045333 -4.27082563 -2.34751698 -5.46365447\n",
      " -1.99914713  2.6863955  -4.40448294  1.81082079  2.60593712 -4.1453778 ]\n",
      "Learned bias:  5.190352455350865\n"
     ]
    }
   ],
   "source": [
    "\n",
    "# Step 3: Initialize the weight vector and bias\n",
    "w = np.zeros(X.shape[1])\n",
    "b = 0\n",
    "\n",
    "# Step 4: Set the learning rate and number of epochs\n",
    "alpha = 0.01\n",
    "T = 100\n",
    "\n",
    "# Step 5: Train the perceptron\n",
    "for t in range(T):\n",
    "    # Shuffle the data\n",
    "    perm = np.random.permutation(X.shape[0])\n",
    "    X = X[perm]\n",
    "    Y = Y[perm]\n",
    "    for i in range(X.shape[0]):\n",
    "        # Compute the output of the perceptron\n",
    "        u = np.dot(w, X[i]) + b\n",
    "        y_pred = 1 / (1 + np.exp(-u))\n",
    "\n",
    "        # Update the weight vector and bias\n",
    "        w += alpha * (Y[i] - y_pred) * X[i]\n",
    "        b += alpha * (Y[i] - y_pred)\n",
    "\n",
    "# Step 7: Return the learned weight vector and bias\n",
    "print(\"Learned weight vector: \", w)\n",
    "print(\"Learned bias: \", b)\n"
   ]
  },
  {
   "cell_type": "code",
   "execution_count": 12,
   "id": "e36c895c",
   "metadata": {},
   "outputs": [
    {
     "name": "stdout",
     "output_type": "stream",
     "text": [
      "Class-wise F1-score for normal speech:  0.9320996436281412\n",
      "Class-wise F1-score for shouted speech:  0.9348271616806473\n",
      "Overall accuracy:  0.9334913552704964\n"
     ]
    }
   ],
   "source": [
    "# Step 1: Load the data from the Test_file.csv into a numpy array\n",
    "test_data = pd.read_csv('C:/Users/PC/Desktop/Work/ML Assignments/DataSets/Test_file.csv', header=None).values\n",
    "\n",
    "# Step 2: Separate the input features and labels from the data\n",
    "X_test = test_data[:, :-1]\n",
    "Y_test = test_data[:, -1]\n",
    "\n",
    "# Step 3: Predict the labels of the test data using the learned perceptron\n",
    "Y_pred = np.zeros(Y_test.shape)\n",
    "for i in range(X_test.shape[0]):\n",
    "    u = np.dot(w, X_test[i]) + b\n",
    "    y_pred = 1 / (1 + np.exp(-u))\n",
    "    Y_pred[i] = 1 if y_pred >= 0.5 else 0\n",
    "    \n",
    "# Step 4: Define functions to compute the class-wise F1-scores and accuracy\n",
    "def f1_score_class(Y_true, Y_pred, label):\n",
    "    tp = np.sum((Y_true == label) & (Y_pred == label))\n",
    "    fp = np.sum((Y_true != label) & (Y_pred == label))\n",
    "    fn = np.sum((Y_true == label) & (Y_pred != label))\n",
    "    precision = tp / (tp + fp + 1e-9)\n",
    "    recall = tp / (tp + fn + 1e-9)\n",
    "    f1 = 2 * precision * recall / (precision + recall + 1e-9)\n",
    "    return f1\n",
    "\n",
    "def accuracy(Y_true, Y_pred):\n",
    "    return np.mean(Y_true == Y_pred)\n",
    "\n",
    "# Step 5: Compute the class-wise F1-scores and overall accuracy\n",
    "f1_normal = f1_score_class(Y_test, Y_pred, label=0)\n",
    "f1_shouted = f1_score_class(Y_test, Y_pred, label=1)\n",
    "acc = accuracy(Y_test, Y_pred)\n",
    "\n",
    "print(\"Class-wise F1-score for normal speech: \", f1_normal)\n",
    "print(\"Class-wise F1-score for shouted speech: \", f1_shouted)\n",
    "print(\"Overall accuracy: \", acc)\n"
   ]
  },
  {
   "cell_type": "code",
   "execution_count": 19,
   "id": "1a501a3d",
   "metadata": {},
   "outputs": [
    {
     "name": "stdout",
     "output_type": "stream",
     "text": [
      "Class-wise F1-scores:\n",
      "Class 0 : 0.9943820224719101\n",
      "Class 1 : 0.9619565217391304\n",
      "Class 2 : 0.9672131147540983\n",
      "Class 3 : 0.943502824858757\n",
      "Class 4 : 0.9807162534435261\n",
      "Class 5 : 0.9354005167958657\n",
      "Class 6 : 0.9859943977591036\n",
      "Class 7 : 0.9712643678160919\n",
      "Class 8 : 0.8122866894197952\n",
      "Class 9 : 0.8855721393034827\n",
      "Overall accuracy: 0.9454646633277685\n"
     ]
    },
    {
     "data": {
      "image/png": "[encoded data removed]",
      "text/plain": [
       "<Figure size 800x400 with 10 Axes>"
      ]
     },
     "metadata": {},
     "output_type": "display_data"
    }
   ],
   "source": [
    "from sklearn.datasets import load_digits\n",
    "from sklearn.linear_model import Perceptron\n",
    "from sklearn.metrics import f1_score, accuracy_score\n",
    "import numpy as np\n",
    "import matplotlib.pyplot as plt\n",
    "\n",
    "# Step 1: Load the MNIST dataset\n",
    "digits = load_digits()\n",
    "X = digits.data\n",
    "Y = digits.target\n",
    "\n",
    "# Step 2: Create a Perceptron model with SoftMax activation and multi-class strategy\n",
    "clf = Perceptron(penalty=None, alpha=0.0001, fit_intercept=True, max_iter=1000,\n",
    "                 tol=0.001, shuffle=True, verbose=False, eta0=1.0, n_jobs=None,\n",
    "                 random_state=None, early_stopping=False, validation_fraction=0.1,\n",
    "                 n_iter_no_change=5, class_weight=None, warm_start=False )\n",
    "\n",
    "# Step 3: Train the Perceptron model on the MNIST dataset\n",
    "clf.fit(X, Y)\n",
    "\n",
    "# Step 4: Predict the labels of the MNIST test dataset\n",
    "Y_pred = clf.predict(X)\n",
    "\n",
    "# Step 5: Compute the class-wise F1-scores and overall accuracy\n",
    "f1_scores = f1_score(Y, Y_pred, average=None)\n",
    "overall_accuracy = accuracy_score(Y, Y_pred)\n",
    "\n",
    "print(\"Class-wise F1-scores:\")\n",
    "for i in range(10):\n",
    "    print(\"Class\", i, \":\", f1_scores[i])\n",
    "print(\"Overall accuracy:\", overall_accuracy)\n",
    "\n",
    " \n",
    "\n",
    "# Step 6: Fold back the weight vectors of the 10 perceptrons as images and visualize\n",
    "fig, ax = plt.subplots(nrows=2, ncols=5, figsize=(8, 4))\n",
    "for i, axi in enumerate(ax.flat):\n",
    "    axi.imshow(clf.coef_[i].reshape(8, 8), cmap='binary')\n",
    "    axi.set(xticks=[], yticks=[], xlabel=str(i))\n",
    "plt.show()"
   ]
  },
  {
   "cell_type": "code",
   "execution_count": 21,
   "id": "40820f92",
   "metadata": {},
   "outputs": [
    {
     "name": "stdout",
     "output_type": "stream",
     "text": [
      "Note: you may need to restart the kernel to use updated packages.Collecting imblearn\n",
      "  Downloading imblearn-0.0-py2.py3-none-any.whl (1.9 kB)\n",
      "Collecting imbalanced-learn\n",
      "  Downloading imbalanced_learn-0.10.1-py3-none-any.whl (226 kB)\n",
      "     -------------------------------------- 226.0/226.0 kB 1.5 MB/s eta 0:00:00\n",
      "Requirement already satisfied: scikit-learn>=1.0.2 in c:\\users\\pc\\anaconda3\\lib\\site-packages (from imbalanced-learn->imblearn) (1.0.2)\n",
      "Collecting joblib>=1.1.1\n",
      "  Downloading joblib-1.2.0-py3-none-any.whl (297 kB)\n",
      "     -------------------------------------- 298.0/298.0 kB 3.7 MB/s eta 0:00:00\n",
      "Requirement already satisfied: numpy>=1.17.3 in c:\\users\\pc\\anaconda3\\lib\\site-packages (from imbalanced-learn->imblearn) (1.21.5)\n",
      "Requirement already satisfied: scipy>=1.3.2 in c:\\users\\pc\\anaconda3\\lib\\site-packages (from imbalanced-learn->imblearn) (1.9.1)\n",
      "Requirement already satisfied: threadpoolctl>=2.0.0 in c:\\users\\pc\\anaconda3\\lib\\site-packages (from imbalanced-learn->imblearn) (2.2.0)\n",
      "Installing collected packages: joblib, imbalanced-learn, imblearn\n",
      "  Attempting uninstall: joblib\n",
      "    Found existing installation: joblib 1.1.0\n",
      "    Uninstalling joblib-1.1.0:\n",
      "      Successfully uninstalled joblib-1.1.0\n",
      "Successfully installed imbalanced-learn-0.10.1 imblearn-0.0 joblib-1.2.0\n",
      "\n"
     ]
    }
   ],
   "source": [
    "pip install imblearn"
   ]
  },
  {
   "cell_type": "code",
   "execution_count": 29,
   "id": "6c42d35b",
   "metadata": {},
   "outputs": [
    {
     "ename": "IndexError",
     "evalue": "arrays used as indices must be of integer (or boolean) type",
     "output_type": "error",
     "traceback": [
      "\u001b[1;31m---------------------------------------------------------------------------\u001b[0m",
      "\u001b[1;31mIndexError\u001b[0m                                Traceback (most recent call last)",
      "\u001b[1;32m~\\AppData\\Local\\Temp\\ipykernel_3364\\4162158188.py\u001b[0m in \u001b[0;36m<module>\u001b[1;34m\u001b[0m\n\u001b[0;32m     22\u001b[0m \u001b[1;33m\u001b[0m\u001b[0m\n\u001b[0;32m     23\u001b[0m \u001b[1;31m# Use the remaining data for training\u001b[0m\u001b[1;33m\u001b[0m\u001b[1;33m\u001b[0m\u001b[0m\n\u001b[1;32m---> 24\u001b[1;33m \u001b[0msignal_train\u001b[0m \u001b[1;33m=\u001b[0m \u001b[0mnp\u001b[0m\u001b[1;33m.\u001b[0m\u001b[0mdelete\u001b[0m\u001b[1;33m(\u001b[0m\u001b[0msignal_data\u001b[0m\u001b[1;33m,\u001b[0m \u001b[0msignal_test\u001b[0m\u001b[1;33m,\u001b[0m \u001b[0maxis\u001b[0m\u001b[1;33m=\u001b[0m\u001b[1;36m0\u001b[0m\u001b[1;33m)\u001b[0m\u001b[1;33m\u001b[0m\u001b[1;33m\u001b[0m\u001b[0m\n\u001b[0m\u001b[0;32m     25\u001b[0m \u001b[0mbackground_train\u001b[0m \u001b[1;33m=\u001b[0m \u001b[0mnp\u001b[0m\u001b[1;33m.\u001b[0m\u001b[0mdelete\u001b[0m\u001b[1;33m(\u001b[0m\u001b[0mbackground_data\u001b[0m\u001b[1;33m,\u001b[0m \u001b[0mbackground_test\u001b[0m\u001b[1;33m,\u001b[0m \u001b[0maxis\u001b[0m\u001b[1;33m=\u001b[0m\u001b[1;36m0\u001b[0m\u001b[1;33m)\u001b[0m\u001b[1;33m\u001b[0m\u001b[1;33m\u001b[0m\u001b[0m\n\u001b[0;32m     26\u001b[0m \u001b[0mtrain_data\u001b[0m \u001b[1;33m=\u001b[0m \u001b[0mnp\u001b[0m\u001b[1;33m.\u001b[0m\u001b[0mconcatenate\u001b[0m\u001b[1;33m(\u001b[0m\u001b[1;33m[\u001b[0m\u001b[0msignal_train\u001b[0m\u001b[1;33m,\u001b[0m \u001b[0mbackground_train\u001b[0m\u001b[1;33m]\u001b[0m\u001b[1;33m,\u001b[0m \u001b[0maxis\u001b[0m\u001b[1;33m=\u001b[0m\u001b[1;36m0\u001b[0m\u001b[1;33m)\u001b[0m\u001b[1;33m\u001b[0m\u001b[1;33m\u001b[0m\u001b[0m\n",
      "\u001b[1;32m<__array_function__ internals>\u001b[0m in \u001b[0;36mdelete\u001b[1;34m(*args, **kwargs)\u001b[0m\n",
      "\u001b[1;32m~\\anaconda3\\lib\\site-packages\\numpy\\lib\\function_base.py\u001b[0m in \u001b[0;36mdelete\u001b[1;34m(arr, obj, axis)\u001b[0m\n\u001b[0;32m   4550\u001b[0m         \u001b[1;32melse\u001b[0m\u001b[1;33m:\u001b[0m\u001b[1;33m\u001b[0m\u001b[1;33m\u001b[0m\u001b[0m\n\u001b[0;32m   4551\u001b[0m             \u001b[0mkeep\u001b[0m \u001b[1;33m=\u001b[0m \u001b[0mones\u001b[0m\u001b[1;33m(\u001b[0m\u001b[0mN\u001b[0m\u001b[1;33m,\u001b[0m \u001b[0mdtype\u001b[0m\u001b[1;33m=\u001b[0m\u001b[0mbool\u001b[0m\u001b[1;33m)\u001b[0m\u001b[1;33m\u001b[0m\u001b[1;33m\u001b[0m\u001b[0m\n\u001b[1;32m-> 4552\u001b[1;33m             \u001b[0mkeep\u001b[0m\u001b[1;33m[\u001b[0m\u001b[0mobj\u001b[0m\u001b[1;33m,\u001b[0m\u001b[1;33m]\u001b[0m \u001b[1;33m=\u001b[0m \u001b[1;32mFalse\u001b[0m\u001b[1;33m\u001b[0m\u001b[1;33m\u001b[0m\u001b[0m\n\u001b[0m\u001b[0;32m   4553\u001b[0m \u001b[1;33m\u001b[0m\u001b[0m\n\u001b[0;32m   4554\u001b[0m         \u001b[0mslobj\u001b[0m\u001b[1;33m[\u001b[0m\u001b[0maxis\u001b[0m\u001b[1;33m]\u001b[0m \u001b[1;33m=\u001b[0m \u001b[0mkeep\u001b[0m\u001b[1;33m\u001b[0m\u001b[1;33m\u001b[0m\u001b[0m\n",
      "\u001b[1;31mIndexError\u001b[0m: arrays used as indices must be of integer (or boolean) type"
     ]
    }
   ],
   "source": [
    "# Import necessary libraries\n",
    "import pandas as pd\n",
    "from sklearn.model_selection import train_test_split\n",
    "from sklearn.linear_model import Perceptron\n",
    "from sklearn.metrics import f1_score\n",
    "from imblearn.over_sampling import KMeansSMOTE\n",
    "from sklearn.model_selection import train_test_split\n",
    "\n",
    "# Load the data\n",
    "with open('C:/Users/PC/Desktop/Work/ML Assignments/DataSets/MiniBooNE_PID.txt') as f:\n",
    "    first_line = f.readline().strip().split()\n",
    "    n_signal, n_background = int(first_line[0]), int(first_line[1])\n",
    "    data = np.loadtxt(f)\n",
    "\n",
    "# Split the data into signal and background events\n",
    "signal_data = data[:n_signal]\n",
    "background_data = data[n_signal:]\n",
    "\n",
    "# Sample 11000 examples from each class for the test set\n",
    "signal_test, _ = train_test_split(signal_data, train_size=11000, test_size=n_signal-11000, random_state=42)\n",
    "background_test, _ = train_test_split(background_data, train_size=11000, test_size=n_background-11000, random_state=42)\n",
    "\n",
    "# Use the remaining data for training\n",
    "signal_train = np.delete(signal_data, signal_test, axis=0)\n",
    "background_train = np.delete(background_data, background_test, axis=0)\n",
    "train_data = np.concatenate([signal_train, background_train], axis=0)\n",
    "train_labels = np.concatenate([np.ones(len(signal_train)), np.zeros(len(background_train))], axis=0)\n",
    "\n",
    "# Train a perceptron on the training data\n",
    "from sklearn.linear_model import Perceptron\n",
    "from sklearn.metrics import f1_score\n",
    "\n",
    "perceptron = Perceptron(random_state=42)\n",
    "perceptron.fit(train_data, train_labels)\n",
    "\n",
    "# Evaluate the perceptron on the test set\n",
    "test_data = np.concatenate([signal_test, background_test], axis=0)\n",
    "test_labels = np.concatenate([np.ones(len(signal_test)), np.zeros(len(background_test))], axis=0)\n",
    "pred_labels = perceptron.predict(test_data)\n",
    "f1_scores = f1_score(test_labels, pred_labels, average=None)\n",
    "print(f\"Class-wise F1-scores on the test set: {f1_scores}\")\n",
    "\n"
   ]
  },
  {
   "cell_type": "code",
   "execution_count": null,
   "id": "8c8c32ca",
   "metadata": {},
   "outputs": [],
   "source": []
  }
 ],
 "metadata": {
  "kernelspec": {
   "display_name": "Python 3 (ipykernel)",
   "language": "python",
   "name": "python3"
  },
  "language_info": {
   "codemirror_mode": {
    "name": "ipython",
    "version": 3
   },
   "file_extension": ".py",
   "mimetype": "text/x-python",
   "name": "python",
   "nbconvert_exporter": "python",
   "pygments_lexer": "ipython3",
   "version": "3.9.13"
  }
 },
 "nbformat": 4,
 "nbformat_minor": 5
}
