{
 "cells": [
  {
   "cell_type": "code",
   "execution_count": 1,
   "id": "4ee1bdb0",
   "metadata": {},
   "outputs": [],
   "source": [
    "import random\n",
    "import numpy as np\n",
    "import matplotlib.pyplot as mp\n",
    "\n",
    "s = np.random.randint(low=-100, high=100, size=(100), dtype=int)"
   ]
  },
  {
   "cell_type": "code",
   "execution_count": 3,
   "id": "78a9e4a0",
   "metadata": {},
   "outputs": [
    {
     "data": {
      "text/plain": [
       "(100,)"
      ]
     },
     "execution_count": 3,
     "metadata": {},
     "output_type": "execute_result"
    }
   ],
   "source": [
    "s.shape"
   ]
  },
  {
   "cell_type": "code",
   "execution_count": 4,
   "id": "f059eab9",
   "metadata": {},
   "outputs": [],
   "source": [
    "xmax = np.max(s)\n",
    "xmin = np.min(s)"
   ]
  },
  {
   "cell_type": "code",
   "execution_count": 5,
   "id": "cf056ecc",
   "metadata": {},
   "outputs": [
    {
     "data": {
      "text/plain": [
       "94"
      ]
     },
     "execution_count": 5,
     "metadata": {},
     "output_type": "execute_result"
    }
   ],
   "source": [
    "xmax"
   ]
  },
  {
   "cell_type": "code",
   "execution_count": 6,
   "id": "f09cf20c",
   "metadata": {},
   "outputs": [
    {
     "data": {
      "text/plain": [
       "-99"
      ]
     },
     "execution_count": 6,
     "metadata": {},
     "output_type": "execute_result"
    }
   ],
   "source": [
    "xmin"
   ]
  },
  {
   "cell_type": "code",
   "execution_count": 8,
   "id": "b13469c3",
   "metadata": {},
   "outputs": [],
   "source": [
    "m=100"
   ]
  },
  {
   "cell_type": "code",
   "execution_count": 9,
   "id": "f26912cf",
   "metadata": {},
   "outputs": [],
   "source": [
    "bins  = (xmax -xmin)/m"
   ]
  },
  {
   "cell_type": "code",
   "execution_count": 23,
   "id": "e9da5a07",
   "metadata": {},
   "outputs": [],
   "source": [
    "bins\n",
    "h = np.zeros(m)"
   ]
  },
  {
   "cell_type": "code",
   "execution_count": 27,
   "id": "64548504",
   "metadata": {},
   "outputs": [
    {
     "data": {
      "text/plain": [
       "<BarContainer object of 100 artists>"
      ]
     },
     "execution_count": 27,
     "metadata": {},
     "output_type": "execute_result"
    },
    {
     "data": {
      "image/png": "[encoded data removed]",
      "text/plain": [
       "<Figure size 640x480 with 1 Axes>"
      ]
     },
     "metadata": {},
     "output_type": "display_data"
    }
   ],
   "source": [
    "n = np.size(s)\n",
    "\n",
    "for i in range(n):\n",
    "    b =  int(np.floor((s[i] - xmin)/bins))\n",
    "    if b == m:\n",
    "        b = b-1\n",
    "    h[b] = h[b] + (1/n) \n",
    "\n",
    "x = np.array([xmin + bins*i for i in range(m)])\n",
    "mp.bar(x,h,width = 0.5)"
   ]
  },
  {
   "cell_type": "code",
   "execution_count": 65,
   "id": "dc039061",
   "metadata": {},
   "outputs": [
    {
     "name": "stdout",
     "output_type": "stream",
     "text": [
      "[[5]]\n"
     ]
    }
   ],
   "source": [
    "list = [4,5,9,3,6,7,8,10]\n",
    "list[::1]\n",
    "\n",
    "import numpy as np\n",
    "\n",
    "A = np.array([[1, 2, 3],\n",
    "              [4, 5, 6],\n",
    "              [7, 8, 9]])\n",
    "\n",
    "B = A[1:2,1:2]\n",
    "\n",
    "print(B)"
   ]
  },
  {
   "cell_type": "code",
   "execution_count": 48,
   "id": "861fb5b5",
   "metadata": {},
   "outputs": [
    {
     "name": "stdout",
     "output_type": "stream",
     "text": [
      "[[ 1  3]\n",
      " [ 4  6]\n",
      " [ 7  9]\n",
      " [10 12]\n",
      " [13 15]\n",
      " [16 18]]\n",
      "(7,)\n",
      "[1 2 3]\n"
     ]
    }
   ],
   "source": [
    "import numpy as np\n",
    "\n",
    "# Create a sample dataset with 3 features and 10 data points\n",
    "X = np.array([[1, 2, 3], [4, 5, 6], [7, 8, 9], [10, 11, 12], [13, 14, 15], [16, 17, 18]])\n",
    "\n",
    "new  = X[:,[0,2]]\n",
    "print(new)\n",
    "#np.mean(X, axis=0).shape\n",
    "Y = np.array([1,2,3,4,5,6,7])\n",
    "print(Y.shape)\n",
    "Y = Y[[0,1,2]]\n",
    "print(Y)"
   ]
  },
  {
   "cell_type": "code",
   "execution_count": 38,
   "id": "61f41d6f",
   "metadata": {},
   "outputs": [
    {
     "data": {
      "text/plain": [
       "(6, 3)"
      ]
     },
     "execution_count": 38,
     "metadata": {},
     "output_type": "execute_result"
    }
   ],
   "source": [
    "# Center the data by subtracting the mean of each feature\n",
    "X_centered = X - np.mean(X, axis=0)\n",
    "X_centered.shape"
   ]
  },
  {
   "cell_type": "code",
   "execution_count": 62,
   "id": "f2f7ca1a",
   "metadata": {},
   "outputs": [
    {
     "name": "stdout",
     "output_type": "stream",
     "text": [
      "[[31.5 31.5 31.5]\n",
      " [31.5 31.5 31.5]\n",
      " [31.5 31.5 31.5]]\n"
     ]
    }
   ],
   "source": [
    "# Calculate the covariance matrix of the centered data\n",
    "#covariance_matrix = np.cov(X_centered, rowvar=False)\n",
    "covariance_matrix = (1/(X_centered.shape[0]-1))*np.dot(np.transpose(X_centered),X_centered)\n",
    "print(covariance_matrix)"
   ]
  },
  {
   "cell_type": "code",
   "execution_count": 54,
   "id": "9f92acbc",
   "metadata": {},
   "outputs": [
    {
     "name": "stdout",
     "output_type": "stream",
     "text": [
      "[ 9.45000000e+01  3.94430453e-31 -1.02692481e-15]\n"
     ]
    }
   ],
   "source": [
    "# Calculate the eigenvalues and eigenvectors of the covariance matrix\n",
    "eigenvalues, eigenvectors = np.linalg.eig(covariance_matrix)\n",
    "eigenvalues.shape\n",
    "print(eigenvalues[[0,1,2]])"
   ]
  },
  {
   "cell_type": "code",
   "execution_count": 55,
   "id": "a9dd7fbf",
   "metadata": {},
   "outputs": [
    {
     "name": "stdout",
     "output_type": "stream",
     "text": [
      "[0 1 2]\n"
     ]
    }
   ],
   "source": [
    "# Sort the eigenvalues in descending order and get the corresponding eigenvectors\n",
    "sorted_indices = np.argsort(eigenvalues)[::-1]\n",
    "print(sorted_indices)\n",
    "sorted_eigenvalues = eigenvalues[sorted_indices]\n",
    "sorted_eigenvectors = eigenvectors[:,sorted_indices]"
   ]
  },
  {
   "cell_type": "code",
   "execution_count": 75,
   "id": "33ecc676",
   "metadata": {},
   "outputs": [],
   "source": [
    "\n",
    "# Choose the top k eigenvectors to keep (where k is the desired number of dimensions)\n",
    "k = 2\n",
    "top_k_eigenvectors = sorted_eigenvectors[:,:k]"
   ]
  },
  {
   "cell_type": "code",
   "execution_count": 74,
   "id": "ff17f889",
   "metadata": {},
   "outputs": [
    {
     "name": "stdout",
     "output_type": "stream",
     "text": [
      "[[-1.29903811e+01 -3.33066907e-16]\n",
      " [-7.79422863e+00 -1.11022302e-16]\n",
      " [-2.59807621e+00 -1.11022302e-16]\n",
      " [ 2.59807621e+00  1.11022302e-16]\n",
      " [ 7.79422863e+00  1.11022302e-16]\n",
      " [ 1.29903811e+01  3.33066907e-16]]\n"
     ]
    }
   ],
   "source": [
    "# Project the centered data onto the top k eigenvectors to get the reduced dataset\n",
    "X_reduced = np.dot(X_centered, top_k_eigenvectors)\n",
    "\n",
    "# Print the reduced dataset\n",
    "print(X_reduced)"
   ]
  },
  {
   "cell_type": "code",
   "execution_count": 172,
   "id": "24f95eaa",
   "metadata": {},
   "outputs": [],
   "source": [
    "import numpy as np\n",
    "import random\n",
    "\n",
    "def kmeans(X, k, max_iters=100):\n",
    "    n, m = X.shape\n",
    "\n",
    "    # Step 1: Initialize centroids randomly\n",
    "    #centroids = np.array([X[random.randint(0, n - 1)] for _ in range(k)])\n",
    "    centroids = X[np.random.choice(len(X),k,replace=False)]\n",
    "    print(centroids)\n",
    "    # Step 2: Assign each point to the nearest centroid\n",
    "    for _ in range(max_iters):\n",
    "        distances = np.linalg.norm(X - centroids[:, np.newaxis], axis=2)\n",
    "        assignments = np.argmin(distances, axis=0)\n",
    "\n",
    "        # Step 3: Update centroids\n",
    "        for i in range(k):\n",
    "            points = X[assignments == i]\n",
    "            centroids[i] = np.mean(points, axis=0)\n",
    "\n",
    "    return assignments, centroids\n",
    "\n",
    "def perform_kmeans(X,k,iter):\n",
    "    n, m = X.shape\n",
    "     \n",
    "    centroids = X[np.random.choice(len(X),k,replace=False)]\n",
    "    \n",
    "    while(iter):\n",
    "        distances = []\n",
    "        for c in centroids:\n",
    "            d = []\n",
    "            for x in X:\n",
    "                d.append(np.linalg.norm(x - c))\n",
    "            distances.append(d)\n",
    "        distances = np.array(distances)\n",
    " \n",
    "        \n",
    "        assignments = []\n",
    "        cluster = []\n",
    "        for i in range(X.shape[0]):\n",
    "            cluster = np.argmin(distances[:,i])\n",
    "            assignments.append(cluster)\n",
    "        \n",
    "        for j in range(k):\n",
    "            points = X[assignments == j]\n",
    "            if len(points) > 0:\n",
    "                centroids[j] = np.mean(points, axis=0)\n",
    "        iter = iter - 1\n",
    "    return assignments, centroids\n",
    "        "
   ]
  },
  {
   "cell_type": "code",
   "execution_count": 173,
   "id": "715e6e03",
   "metadata": {},
   "outputs": [],
   "source": [
    "X = np.array([[1, 2, 3], [4, 5, 6], [7, 8, 9], [10, 11, 12], [13, 14, 15], [16, 17, 18]])"
   ]
  },
  {
   "cell_type": "code",
   "execution_count": 177,
   "id": "8c5f0c47",
   "metadata": {},
   "outputs": [],
   "source": [
    "assignments, centroids = perform_kmeans(X, 2, 100)"
   ]
  },
  {
   "cell_type": "code",
   "execution_count": 178,
   "id": "32d9d52e",
   "metadata": {},
   "outputs": [
    {
     "data": {
      "text/plain": [
       "[1, 1, 1, 1, 1, 0]"
      ]
     },
     "execution_count": 178,
     "metadata": {},
     "output_type": "execute_result"
    }
   ],
   "source": [
    "assignments"
   ]
  },
  {
   "cell_type": "code",
   "execution_count": 179,
   "id": "ed0686f3",
   "metadata": {},
   "outputs": [
    {
     "data": {
      "text/plain": [
       "array([[16, 17, 18],\n",
       "       [13, 14, 15]])"
      ]
     },
     "execution_count": 179,
     "metadata": {},
     "output_type": "execute_result"
    }
   ],
   "source": [
    "centroids"
   ]
  },
  {
   "cell_type": "code",
   "execution_count": null,
   "id": "e25c6887",
   "metadata": {},
   "outputs": [],
   "source": []
  }
 ],
 "metadata": {
  "kernelspec": {
   "display_name": "Python 3 (ipykernel)",
   "language": "python",
   "name": "python3"
  },
  "language_info": {
   "codemirror_mode": {
    "name": "ipython",
    "version": 3
   },
   "file_extension": ".py",
   "mimetype": "text/x-python",
   "name": "python",
   "nbconvert_exporter": "python",
   "pygments_lexer": "ipython3",
   "version": "3.9.13"
  }
 },
 "nbformat": 4,
 "nbformat_minor": 5
}
