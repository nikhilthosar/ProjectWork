{
 "cells": [
  {
   "cell_type": "markdown",
   "metadata": {
    "id": "Z-Hzc8bK5BOi"
   },
   "source": [
    "# Python Basics"
   ]
  },
  {
   "cell_type": "markdown",
   "metadata": {
    "id": "-b7WnX0MQRtI"
   },
   "source": [
    "Question 1"
   ]
  },
  {
   "cell_type": "code",
   "execution_count": null,
   "metadata": {
    "colab": {
     "base_uri": "https://localhost:8080/"
    },
    "id": "_vByP9D497R-",
    "outputId": "e8d5de0f-4f3e-4508-8764-279edd657822"
   },
   "outputs": [
    {
     "name": "stdout",
     "output_type": "stream",
     "text": [
      "Hello World\n"
     ]
    }
   ],
   "source": [
    "print(\"Hello World\")"
   ]
  },
  {
   "cell_type": "markdown",
   "metadata": {
    "id": "hfJR6CmDQT6R"
   },
   "source": [
    "Question 2"
   ]
  },
  {
   "cell_type": "code",
   "execution_count": null,
   "metadata": {
    "id": "oCRO9qEP-NCE"
   },
   "outputs": [],
   "source": [
    "def algebric(a,b):\n",
    " c = a+b\n",
    " d = a-b\n",
    " e = a*b\n",
    " f = a/b\n",
    " g = a%b\n",
    " print(f\"c::{c}, d::{d}, e::{e}, f::{f}, g::{g}\")"
   ]
  },
  {
   "cell_type": "code",
   "execution_count": null,
   "metadata": {
    "colab": {
     "base_uri": "https://localhost:8080/"
    },
    "id": "EZQMH1CI-zCX",
    "outputId": "da3b73eb-7a06-4ff1-b3ad-2a6f310ffd8c"
   },
   "outputs": [
    {
     "name": "stdout",
     "output_type": "stream",
     "text": [
      "c::3, d::-1, e::2, f::0.5, g::1\n"
     ]
    }
   ],
   "source": [
    "algebric(1,2)"
   ]
  },
  {
   "cell_type": "markdown",
   "metadata": {
    "id": "TVlqPjWEQaN5"
   },
   "source": [
    "Question 3"
   ]
  },
  {
   "cell_type": "code",
   "execution_count": null,
   "metadata": {
    "id": "IgV4-n4R-6d3"
   },
   "outputs": [],
   "source": [
    "def fact(a):\n",
    "  if a == 1:\n",
    "    return 1\n",
    "  elif a==0:\n",
    "    return 1\n",
    "  return a*fact(a-1)"
   ]
  },
  {
   "cell_type": "code",
   "execution_count": null,
   "metadata": {
    "colab": {
     "base_uri": "https://localhost:8080/"
    },
    "id": "_4p_X-Ei_d6g",
    "outputId": "e31182d3-ed03-450a-dbc1-afa1ffd5f1fb"
   },
   "outputs": [
    {
     "data": {
      "text/plain": [
       "120"
      ]
     },
     "execution_count": 16,
     "metadata": {},
     "output_type": "execute_result"
    }
   ],
   "source": [
    "fact(5)"
   ]
  },
  {
   "cell_type": "markdown",
   "metadata": {
    "id": "m8sPnYSqQcaB"
   },
   "source": [
    "Question 4"
   ]
  },
  {
   "cell_type": "code",
   "execution_count": null,
   "metadata": {
    "id": "D3-YvwSy2BlT"
   },
   "outputs": [],
   "source": [
    "lower = 1\n",
    "upper = 10\n",
    "\n",
    "def prime(lower, upper):\n",
    "\n",
    " for num in range(lower, upper + 1):\n",
    "   \n",
    "   if num > 1:\n",
    "       for i in range(2, num):\n",
    "           if (num % i) == 0:\n",
    "               break\n",
    "       else:\n",
    "           print(num)"
   ]
  },
  {
   "cell_type": "markdown",
   "metadata": {
    "id": "AdMgMdw92BXT"
   },
   "source": []
  },
  {
   "cell_type": "code",
   "execution_count": null,
   "metadata": {
    "colab": {
     "base_uri": "https://localhost:8080/"
    },
    "id": "uuZfmuIT0GBA",
    "outputId": "961e14e7-4709-4949-99c9-25ac296e3f00"
   },
   "outputs": [
    {
     "name": "stdout",
     "output_type": "stream",
     "text": [
      "5\n",
      "7\n",
      "11\n",
      "13\n"
     ]
    }
   ],
   "source": [
    "prime(5,15)"
   ]
  },
  {
   "cell_type": "markdown",
   "metadata": {
    "id": "8eWb7f0OQk51"
   },
   "source": [
    "Question 5"
   ]
  },
  {
   "cell_type": "code",
   "execution_count": null,
   "metadata": {
    "id": "Sr3Vv59IQkHC"
   },
   "outputs": [],
   "source": [
    " def LCM(a,b):\n",
    "   temp = 0\n",
    "   if a==b:\n",
    "     print(f\"LCM is ::{a}\")\n",
    "     return\n",
    "   elif a>b:\n",
    "     temp = a\n",
    "   elif a<b:\n",
    "     temp = b\n",
    "   \n",
    "   while(1):\n",
    "     if temp%a==0 and temp%b==0:\n",
    "        print(f\"LCM is ::{temp}\")\n",
    "        return\n",
    "     temp = temp+1"
   ]
  },
  {
   "cell_type": "code",
   "execution_count": null,
   "metadata": {
    "colab": {
     "base_uri": "https://localhost:8080/"
    },
    "id": "UY42kRMAQo-l",
    "outputId": "a5faf1f1-3f47-4a5d-df02-756f9cb7142a"
   },
   "outputs": [
    {
     "name": "stdout",
     "output_type": "stream",
     "text": [
      "LCM is ::6\n"
     ]
    }
   ],
   "source": [
    "LCM(2,3)"
   ]
  },
  {
   "cell_type": "markdown",
   "metadata": {
    "id": "9WrIzRuLQpsV"
   },
   "source": [
    "Question 6"
   ]
  },
  {
   "cell_type": "code",
   "execution_count": 20,
   "metadata": {
    "colab": {
     "base_uri": "https://localhost:8080/"
    },
    "id": "UNP-n97rQtOe",
    "outputId": "07b8574b-1fa0-4b85-ed27-fe679a3913d8"
   },
   "outputs": [
    {
     "name": "stdout",
     "output_type": "stream",
     "text": [
      "Sorted list in descending order ::  [233, 85, 64, 23, 15, 9, 8, 7, 7, 6, 6, 5, 4, 3, 1]\n",
      "Original Indices after Sorting :: [4, 6, 7, 11, 1, 12, 10, 2, 13, 5, 8, 9, 0, 3, 14]\n"
     ]
    }
   ],
   "source": [
    "lst = [4,15,7,3,233,6,85,64,6,5,8,23,9,7,1]\n",
    "n = 15\n",
    "indx = [i for i in range(15)]\n",
    "for i in range(n):\n",
    "  for j in range(i+1,n):\n",
    "    if lst[i] < lst[j]:\n",
    "        lst[i],lst[j] = lst[j],lst[i]\n",
    "        indx[i],indx[j] = indx[j],indx[i]\n",
    "print(\"Sorted list in descending order :: \",lst) \n",
    "print(\"Original Indices after Sorting ::\",indx)"
   ]
  },
  {
   "cell_type": "markdown",
   "metadata": {
    "id": "Op_4gnYIQ4ta"
   },
   "source": [
    "Question 7"
   ]
  },
  {
   "cell_type": "code",
   "execution_count": 19,
   "metadata": {
    "colab": {
     "base_uri": "https://localhost:8080/"
    },
    "id": "UltOqmA_Q3PA",
    "outputId": "b3498f99-ef2d-4252-9efa-06738e33a2b8"
   },
   "outputs": [
    {
     "name": "stdout",
     "output_type": "stream",
     "text": [
      "Sorted numpy array in ascending order ::  [  1   3   4   5   6   6   7   7   8   9  15  23  64  85 233]\n",
      "Original Indices after Sorting :: [14  3  0  9  5  8 13  2 10 12  1 11  7  6  4]\n"
     ]
    }
   ],
   "source": [
    "import numpy as np\n",
    "lst = np.array([4,15,7,3,233,6,85,64,6,5,8,23,9,7,1])\n",
    "n = 15\n",
    "indx = np.array([i for i in range(15)])\n",
    "for i in range(n):\n",
    "  for j in range(i+1,n):\n",
    "    if lst[i] > lst[j]:\n",
    "        lst[i],lst[j] = lst[j],lst[i]\n",
    "        indx[i],indx[j] = indx[j],indx[i]\n",
    "print(\"Sorted numpy array in ascending order :: \",lst) \n",
    "print(\"Original Indices after Sorting ::\",indx)"
   ]
  },
  {
   "cell_type": "markdown",
   "metadata": {
    "id": "w5BX3zxJQ8WS"
   },
   "source": [
    "Question 8"
   ]
  },
  {
   "cell_type": "code",
   "execution_count": 2,
   "metadata": {
    "id": "XvhchZGyAv9R"
   },
   "outputs": [],
   "source": [
    "import random\n",
    "def matgen(m,n):\n",
    "  lst = []\n",
    "  for i in range(m):\n",
    "    l1 = []\n",
    "    for j in range(n):\n",
    "      r1 = random.randint(-2, 5)\n",
    "      l1.append(r1)\n",
    "    lst.append(l1)\n",
    "  for i in range(len(lst)):\n",
    "    for j in range(len(lst[0])):\n",
    "      print(lst[i][j], end=\" \")\n",
    "    print()\n",
    "  return lst "
   ]
  },
  {
   "cell_type": "code",
   "execution_count": null,
   "metadata": {
    "colab": {
     "base_uri": "https://localhost:8080/"
    },
    "id": "P4rQ2gEIAxey",
    "outputId": "6860aa11-b173-4421-fa28-dcc6aae87b5e"
   },
   "outputs": [
    {
     "name": "stdout",
     "output_type": "stream",
     "text": [
      "-1 0 4 3 5 \n",
      "4 3 1 5 -2 \n",
      "-2 4 0 5 -2 \n",
      "4 0 0 -1 -2 \n"
     ]
    },
    {
     "data": {
      "text/plain": [
       "[[-1, 0, 4, 3, 5], [4, 3, 1, 5, -2], [-2, 4, 0, 5, -2], [4, 0, 0, -1, -2]]"
      ]
     },
     "execution_count": 28,
     "metadata": {},
     "output_type": "execute_result"
    }
   ],
   "source": [
    "matgen(4,5)"
   ]
  },
  {
   "cell_type": "markdown",
   "metadata": {
    "id": "oUO3mQM28Nkn"
   },
   "source": [
    "Question 9"
   ]
  },
  {
   "cell_type": "code",
   "execution_count": 16,
   "metadata": {
    "colab": {
     "base_uri": "https://localhost:8080/"
    },
    "id": "HdegaTZCTQsO",
    "outputId": "08a53c3e-1190-4195-ff76-621dfe23f2f8"
   },
   "outputs": [
    {
     "name": "stdout",
     "output_type": "stream",
     "text": [
      "0 3 -1 -2 \n",
      "5 2 -2 4 \n",
      "1 -2 0 2 \n",
      "5 0 \n",
      "-2 -2 \n",
      "0 4 \n",
      "4 1 \n",
      "Result using nested for loops: [[-14, -12], [37, -8], [17, 6]]\n",
      "Result using built-in function: [[-14 -12]\n",
      " [ 37  -8]\n",
      " [ 17   6]]\n"
     ]
    }
   ],
   "source": [
    "import random\n",
    "M1 = matgen(3,4)\n",
    "M2 = matgen(4,2)\n",
    "\n",
    "def multiply_matrices(M1, M2):\n",
    "    m = len(M1)\n",
    "    n = len(M1[0])\n",
    "    p = len(M2[0])\n",
    "\n",
    "    result = [[0 for j in range(p)] for i in range(m)]\n",
    "    for i in range(m):\n",
    "        for j in range(p):\n",
    "            for k in range(n):\n",
    "                result[i][j] += M1[i][k] * M2[k][j]\n",
    "    return result\n",
    "\n",
    "result = multiply_matrices(M1, M2)\n",
    "print(\"Result using nested for loops:\", result)\n",
    " \n",
    "from numpy import matmul\n",
    "result2 = matmul(M1, M2)\n",
    "print(\"Result using built-in function:\", result2)"
   ]
  },
  {
   "cell_type": "markdown",
   "metadata": {
    "id": "DlfWpvSs87Qz"
   },
   "source": [
    "Question 10"
   ]
  },
  {
   "cell_type": "code",
   "execution_count": 14,
   "metadata": {
    "id": "DArERbK0u-Vy"
   },
   "outputs": [],
   "source": [
    "import numpy as np\n",
    "import random\n",
    "data = np.random.rand(100,10)\n",
    "df = pd.DataFrame(data)\n",
    "df.to_csv('output.csv', index=False)\n",
    " "
   ]
  },
  {
   "cell_type": "markdown",
   "metadata": {
    "id": "35XDWK9Q85qh"
   },
   "source": [
    "Question 11"
   ]
  },
  {
   "cell_type": "code",
   "execution_count": 15,
   "metadata": {
    "colab": {
     "base_uri": "https://localhost:8080/"
    },
    "id": "r6eYptwa8nj1",
    "outputId": "b6fdb77a-60b3-45a6-a6dd-e7015124d184"
   },
   "outputs": [
    {
     "name": "stdout",
     "output_type": "stream",
     "text": [
      "[[ 0.07878182  0.00390931 -0.01094769  0.00916147  0.00731991  0.00716728\n",
      "   0.01550818 -0.01168821 -0.01143615  0.00987906]\n",
      " [ 0.00390931  0.08700238  0.00637049 -0.00423276  0.00041169  0.00533796\n",
      "   0.00074534 -0.00903085 -0.00464874  0.00942485]\n",
      " [-0.01094769  0.00637049  0.08661247 -0.00055984  0.01104857 -0.01514153\n",
      "   0.00425819 -0.0115669   0.01316365 -0.00233552]\n",
      " [ 0.00916147 -0.00423276 -0.00055984  0.09271598 -0.00297371  0.00737252\n",
      "   0.00715912 -0.00789467 -0.00410693  0.00045708]\n",
      " [ 0.00731991  0.00041169  0.01104857 -0.00297371  0.07829911 -0.00185603\n",
      "  -0.00859141  0.00389135  0.00284512  0.012112  ]\n",
      " [ 0.00716728  0.00533796 -0.01514153  0.00737252 -0.00185603  0.06741181\n",
      "   0.01021589 -0.01740973 -0.01830674 -0.00699576]\n",
      " [ 0.01550818  0.00074534  0.00425819  0.00715912 -0.00859141  0.01021589\n",
      "   0.08024112 -0.00275259  0.00439808  0.00251592]\n",
      " [-0.01168821 -0.00903085 -0.0115669  -0.00789467  0.00389135 -0.01740973\n",
      "  -0.00275259  0.08178278 -0.00670288  0.00986419]\n",
      " [-0.01143615 -0.00464874  0.01316365 -0.00410693  0.00284512 -0.01830674\n",
      "   0.00439808 -0.00670288  0.09276708 -0.00287954]\n",
      " [ 0.00987906  0.00942485 -0.00233552  0.00045708  0.012112   -0.00699576\n",
      "   0.00251592  0.00986419 -0.00287954  0.08169433]]\n"
     ]
    }
   ],
   "source": [
    "import pandas as pd\n",
    "import numpy as np\n",
    "\n",
    "data = pd.read_csv('output.csv')\n",
    "matrix = data.to_numpy()\n",
    "mean_vector = matrix.mean(axis=0)\n",
    "matrix_centered = matrix - mean_vector\n",
    "C = (1/matrix.shape[0]) * np.dot(matrix_centered.T, matrix_centered)\n",
    "print(C)\n"
   ]
  },
  {
   "cell_type": "markdown",
   "metadata": {
    "id": "dlNfqteb_NyF"
   },
   "source": [
    "Question 12"
   ]
  },
  {
   "cell_type": "code",
   "execution_count": 10,
   "metadata": {
    "colab": {
     "base_uri": "https://localhost:8080/"
    },
    "id": "PXjd_2xW3F2t",
    "outputId": "ac1fbfb5-5103-48a7-c8ae-7e58eea438af"
   },
   "outputs": [
    {
     "name": "stdout",
     "output_type": "stream",
     "text": [
      "c1 + c2 =  4 + 6j\n",
      "c1 - c2 =  -2 + -2j\n",
      "c1 * c2 =  -5 + 10j\n",
      "c1 / c2 =  0.44 + 0.08j\n",
      "|c1| =  2.23606797749979\n",
      "|c2| =  5.0\n",
      "∠c1 =  1.1071487177940904\n",
      "∠c2 =  0.9272952180016122\n",
      "c1 conjugate =  1 + -2j\n",
      "c2 conjugate =  3 + -4j\n"
     ]
    }
   ],
   "source": [
    "import math\n",
    "class ComplexNumber:\n",
    "    def __init__(self, a, b):\n",
    "        self.a = a\n",
    "        self.b = b\n",
    "\n",
    "    def conjugate(self):\n",
    "        return ComplexNumber(self.a, -self.b)\n",
    "\n",
    "    def abs_val(self):\n",
    "        return math.sqrt(self.a**2 + self.b**2)\n",
    "\n",
    "    def angle(self):\n",
    "        return math.atan2(self.b, self.a)\n",
    "\n",
    "    def __add__(self, other):\n",
    "        return ComplexNumber(self.a + other.a, self.b + other.b)\n",
    "\n",
    "    def __sub__(self, other):\n",
    "        return ComplexNumber(self.a - other.a, self.b - other.b)\n",
    "\n",
    "    def __mul__(self, other):\n",
    "        return ComplexNumber(self.a*other.a - self.b*other.b, self.a*other.b + self.b*other.a)\n",
    "\n",
    "    def __truediv__(self, other):\n",
    "        return ComplexNumber((self.a*other.a + self.b*other.b)/(other.a**2 + other.b**2), (self.b*other.a - self.a*other.b)/(other.a**2 + other.b**2))\n",
    "\n",
    "    def __str__(self):\n",
    "        return f\"{self.a} + {self.b}j\"\n",
    "\n",
    "\n",
    " \n",
    "c1 = ComplexNumber(1, 2)\n",
    "c2 = ComplexNumber(3, 4)\n",
    " \n",
    "print(\"c1 + c2 = \", c1 + c2)\n",
    "print(\"c1 - c2 = \", c1 - c2)\n",
    "print(\"c1 * c2 = \", c1 * c2)\n",
    "print(\"c1 / c2 = \", c1 / c2)\n",
    "print(\"|c1| = \", c1.abs_val())\n",
    "print(\"|c2| = \", c2.abs_val())\n",
    "print(\"∠c1 = \", c1.angle())\n",
    "print(\"∠c2 = \", c2.angle())\n",
    "print(\"c1 conjugate = \",c1.conjugate())\n",
    "print(\"c2 conjugate = \",c2.conjugate())"
   ]
  },
  {
   "cell_type": "markdown",
   "metadata": {
    "id": "ujYIwGXxScD6"
   },
   "source": [
    "Question 13"
   ]
  },
  {
   "cell_type": "code",
   "execution_count": null,
   "metadata": {
    "colab": {
     "base_uri": "https://localhost:8080/",
     "height": 265
    },
    "id": "nzANcWutIMrc",
    "outputId": "415ddd55-e8f6-4006-de9c-ae06d6233cc1"
   },
   "outputs": [
    {
     "data": {
      "image/png": "[encoded data removed]",
      "text/plain": [
       "<Figure size 432x288 with 1 Axes>"
      ]
     },
     "metadata": {
      "needs_background": "light"
     },
     "output_type": "display_data"
    }
   ],
   "source": [
    " import matplotlib.pyplot as mp\n",
    " xfinal = range(-10,11) # as range 10 is included in range\n",
    " yfinal = []\n",
    " for i in range(-10,11):\n",
    "    y = 3*i+2\n",
    "    yfinal.append(y)\n",
    "mp.plot(xfinal,yfinal)\n",
    "mp.grid()"
   ]
  },
  {
   "cell_type": "markdown",
   "metadata": {
    "id": "n0-gP3iW-dE6"
   },
   "source": [
    "Question 14"
   ]
  },
  {
   "cell_type": "code",
   "execution_count": 12,
   "metadata": {
    "colab": {
     "base_uri": "https://localhost:8080/",
     "height": 295
    },
    "id": "gpRRFM8TPnnN",
    "outputId": "89c33233-c255-40ae-edb7-e5ec208e4ddb"
   },
   "outputs": [
    {
     "data": {
      "image/png": "[encoded data removed]",
      "text/plain": [
       "<Figure size 432x288 with 1 Axes>"
      ]
     },
     "metadata": {
      "needs_background": "light"
     },
     "output_type": "display_data"
    }
   ],
   "source": [
    "import matplotlib.pyplot as plt\n",
    "import math\n",
    "import random\n",
    " \n",
    "mu_x = 5\n",
    "mu_y = -5\n",
    "a = 5\n",
    "b = 2.5\n",
    "points = []\n",
    "\n",
    "for i in range(100):\n",
    "    x = random.uniform(mu_x - a, mu_x + a)\n",
    "    y = random.uniform(mu_y - b, mu_y + b)\n",
    "    while (x - mu_x)**2/a**2 + (y - mu_y)**2/b**2 > 1:\n",
    "        x = random.uniform(mu_x - a, mu_x + a)\n",
    "        y = random.uniform(mu_y - b, mu_y + b)\n",
    "    points.append([x, y])\n",
    " \n",
    "x, y = zip(*points)\n",
    " \n",
    "plt.scatter(x, y)\n",
    "plt.xlabel('x')\n",
    "plt.ylabel('y')\n",
    "plt.title('Scatter plot of points within an ellipse')\n",
    " \n",
    "plt.show()\n",
    " "
   ]
  }
 ],
 "metadata": {
  "colab": {
   "provenance": []
  },
  "kernelspec": {
   "display_name": "Python 3 (ipykernel)",
   "language": "python",
   "name": "python3"
  },
  "language_info": {
   "codemirror_mode": {
    "name": "ipython",
    "version": 3
   },
   "file_extension": ".py",
   "mimetype": "text/x-python",
   "name": "python",
   "nbconvert_exporter": "python",
   "pygments_lexer": "ipython3",
   "version": "3.9.13"
  }
 },
 "nbformat": 4,
 "nbformat_minor": 1
}
