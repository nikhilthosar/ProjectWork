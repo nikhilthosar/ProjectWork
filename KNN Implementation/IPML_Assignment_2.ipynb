{
  "nbformat": 4,
  "nbformat_minor": 0,
  "metadata": {
    "colab": {
      "provenance": []
    },
    "kernelspec": {
      "name": "python3",
      "display_name": "Python 3"
    },
    "language_info": {
      "name": "python"
    }
  },
  "cells": [
    {
      "cell_type": "code",
      "source": [
        "import numpy as np\n",
        "import tensorflow as tf\n",
        "from tensorflow.keras.datasets import fashion_mnist\n",
        "tf.keras.datasets.fashion_mnist.load_data()\n",
        "(x_train, y_train), (x_test, y_test) = fashion_mnist.load_data()"
      ],
      "metadata": {
        "id": "kzwnjP39Q2nR"
      },
      "execution_count": 46,
      "outputs": []
    },
    {
      "cell_type": "code",
      "source": [
        "x_train.shape"
      ],
      "metadata": {
        "colab": {
          "base_uri": "https://localhost:8080/"
        },
        "id": "rjwlh7QwRIxq",
        "outputId": "0dbc739b-4955-4701-b655-024e3234107d"
      },
      "execution_count": 47,
      "outputs": [
        {
          "output_type": "execute_result",
          "data": {
            "text/plain": [
              "(60000, 28, 28)"
            ]
          },
          "metadata": {},
          "execution_count": 47
        }
      ]
    },
    {
      "cell_type": "code",
      "source": [
        "x_test.shape"
      ],
      "metadata": {
        "colab": {
          "base_uri": "https://localhost:8080/"
        },
        "id": "_LSKL4LaRK1s",
        "outputId": "3a962dc8-f22f-4351-b8b8-05b020c9cb70"
      },
      "execution_count": 48,
      "outputs": [
        {
          "output_type": "execute_result",
          "data": {
            "text/plain": [
              "(10000, 28, 28)"
            ]
          },
          "metadata": {},
          "execution_count": 48
        }
      ]
    },
    {
      "cell_type": "code",
      "execution_count": 49,
      "metadata": {
        "colab": {
          "base_uri": "https://localhost:8080/"
        },
        "id": "W2078rQ5JxJQ",
        "outputId": "cfc39e1a-65bb-45e4-bf80-e1c1107a9cc6"
      },
      "outputs": [
        {
          "output_type": "stream",
          "name": "stdout",
          "text": [
            "Accuracy: 0.77\n"
          ]
        }
      ],
      "source": [
        "def eucledian_distance(x1, x2):\n",
        "    return np.sqrt(np.sum((x1 - x2)**2))  #np.sqrt(np.sum((x1.flatten() - x2.flatten())**2))\n",
        " \n",
        "def knn(X_train, y_train, X_test, k):\n",
        "    \n",
        "    y_pred = []\n",
        "    \n",
        "    for i in range(len(X_test)):\n",
        "        distances = []\n",
        "        for j in range(len(X_train)):\n",
        "            X_test[i].reshape(784)\n",
        "            X_train[j].reshape(784)\n",
        "            dist = eucledian_distance(X_test[i], X_train[j])\n",
        "            distances.append((dist, y_train[j]))\n",
        "      \n",
        "        distances.sort()\n",
        "       \n",
        "        labels = [x[1] for x in distances[:k]]\n",
        "        counts = np.bincount(labels)\n",
        "        label = np.argmax(counts)\n",
        "         \n",
        "        y_pred.append(label)\n",
        "    \n",
        "    return y_pred\n",
        " \n",
        "\n",
        "k = 5\n",
        "y_pred = knn(x_train, y_train, x_test[:100], k)\n",
        "accuracy = np.sum(y_pred == y_test[:100]) / len(y_test[:100])\n",
        "print('Accuracy:', accuracy)"
      ]
    }
  ]
}