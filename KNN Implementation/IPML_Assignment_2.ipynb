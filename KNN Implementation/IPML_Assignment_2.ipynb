{
  "nbformat": 4,
  "nbformat_minor": 0,
  "metadata": {
    "colab": {
      "provenance": []
    },
    "kernelspec": {
      "name": "python3",
      "display_name": "Python 3"
    },
    "language_info": {
      "name": "python"
    }
  },
  "cells": [
    {
      "cell_type": "code",
      "source": [
        "import numpy as np\n",
        "from sklearn.datasets import fetch_openml\n",
        "from sklearn.model_selection import train_test_split\n",
        "import tensorflow as tf\n",
        "from tensorflow.keras.datasets import fashion_mnist\n",
        "\n",
        "tf.keras.datasets.fashion_mnist.load_data()\n",
        "(x_train, y_train), (x_test, y_test) = fashion_mnist.load_data()\n",
        "np.array(x_train)"
      ],
      "metadata": {
        "id": "kzwnjP39Q2nR"
      },
      "execution_count": 14,
      "outputs": []
    },
    {
      "cell_type": "code",
      "source": [
        "x_train.shape"
      ],
      "metadata": {
        "colab": {
          "base_uri": "https://localhost:8080/"
        },
        "id": "rjwlh7QwRIxq",
        "outputId": "a77565d3-b670-48b0-b8bd-2e27c8c5693f"
      },
      "execution_count": 27,
      "outputs": [
        {
          "output_type": "execute_result",
          "data": {
            "text/plain": [
              "(60000, 28, 28)"
            ]
          },
          "metadata": {},
          "execution_count": 27
        }
      ]
    },
    {
      "cell_type": "code",
      "source": [
        "x_test.shape\n",
        "x_test = x_test[:50]"
      ],
      "metadata": {
        "id": "_LSKL4LaRK1s"
      },
      "execution_count": 28,
      "outputs": []
    },
    {
      "cell_type": "code",
      "execution_count": 29,
      "metadata": {
        "colab": {
          "base_uri": "https://localhost:8080/"
        },
        "id": "W2078rQ5JxJQ",
        "outputId": "8f45994a-a8bf-4cc3-bd31-15e9673a116a"
      },
      "outputs": [
        {
          "output_type": "stream",
          "name": "stdout",
          "text": [
            "Accuracy: 0.0\n"
          ]
        },
        {
          "output_type": "stream",
          "name": "stderr",
          "text": [
            "<ipython-input-29-c7f0ebbbe320>:30: DeprecationWarning: elementwise comparison failed; this will raise an error in the future.\n",
            "  accuracy = np.sum(y_pred == y_test) / len(y_test)\n"
          ]
        }
      ],
      "source": [
        "def distance(x1, x2):\n",
        "    return np.sqrt(np.sum((x1 - x2)**2))\n",
        " \n",
        "def knn(X_train, y_train, X_test, k):\n",
        "    \n",
        "    y_pred = []\n",
        "    \n",
        "    for i in range(len(X_test)):\n",
        "        distances = []\n",
        "        for j in range(len(X_train)):\n",
        "            X_test_new = X_test[i].reshape(784)\n",
        "            X_train_new = X_train[j].reshape(784)\n",
        "            dist = distance(X_test_new, X_train_new)\n",
        "            distances.append((dist, y_train[j]))\n",
        "      \n",
        "        distances.sort()\n",
        "       \n",
        "        labels = [x[1] for x in distances[:k]]\n",
        "        counts = np.bincount(labels)\n",
        "        label = np.argmax(counts)\n",
        "         \n",
        "        y_pred.append(label)\n",
        "    \n",
        "    return y_pred\n",
        " \n",
        "\n",
        "k = 5\n",
        "y_pred = knn(x_train, y_train, x_test, k)\n",
        "\n",
        "accuracy = np.sum(y_pred == y_test) / len(y_test)\n",
        "print('Accuracy:', accuracy)\n"
      ]
    }
  ]
}