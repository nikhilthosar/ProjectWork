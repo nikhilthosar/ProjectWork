{
 "cells": [
  {
   "cell_type": "code",
   "execution_count": 46,
   "metadata": {
    "id": "kzwnjP39Q2nR"
   },
   "outputs": [],
   "source": [
    "import numpy as np\n",
    "import tensorflow as tf\n",
    "from tensorflow.keras.datasets import fashion_mnist\n",
    "tf.keras.datasets.fashion_mnist.load_data()\n",
    "(x_train, y_train), (x_test, y_test) = \n",
    "\n",
    "fashion_mnist.load_data()"
   ]
  },
  {
   "cell_type": "code",
   "execution_count": 47,
   "metadata": {
    "colab": {
     "base_uri": "https://localhost:8080/"
    },
    "id": "rjwlh7QwRIxq",
    "outputId": "0dbc739b-4955-4701-b655-024e3234107d"
   },
   "outputs": [
    {
     "data": {
      "text/plain": [
       "(60000, 28, 28)"
      ]
     },
     "execution_count": 47,
     "metadata": {},
     "output_type": "execute_result"
    }
   ],
   "source": [
    "x_train.shape"
   ]
  },
  {
   "cell_type": "code",
   "execution_count": 48,
   "metadata": {
    "colab": {
     "base_uri": "https://localhost:8080/"
    },
    "id": "_LSKL4LaRK1s",
    "outputId": "3a962dc8-f22f-4351-b8b8-05b020c9cb70"
   },
   "outputs": [
    {
     "data": {
      "text/plain": [
       "(10000, 28, 28)"
      ]
     },
     "execution_count": 48,
     "metadata": {},
     "output_type": "execute_result"
    }
   ],
   "source": [
    "x_test.shape"
   ]
  },
  {
   "cell_type": "code",
   "execution_count": 49,
   "metadata": {
    "colab": {
     "base_uri": "https://localhost:8080/"
    },
    "id": "W2078rQ5JxJQ",
    "outputId": "cfc39e1a-65bb-45e4-bf80-e1c1107a9cc6"
   },
   "outputs": [
    {
     "name": "stdout",
     "output_type": "stream",
     "text": [
      "Accuracy: 0.77\n"
     ]
    }
   ],
   "source": [
    "def eucledian_distance(x1, x2):\n",
    "    return np.sqrt(np.sum((x1 - x2)**2))  #np.sqrt(np.sum((x1.flatten() - x2.flatten())**2))\n",
    " \n",
    "def knn(X_train, y_train, X_test, k):\n",
    "    \n",
    "    y_pred = []\n",
    "    \n",
    "    for i in range(len(X_test)):\n",
    "        distances = []\n",
    "        for j in range(len(X_train)):\n",
    "            X_test[i].reshape(784)\n",
    "            X_train[j].reshape(784)\n",
    "            dist = eucledian_distance(X_test[i], X_train[j])\n",
    "            distances.append((dist, y_train[j]))\n",
    "      \n",
    "        distances.sort()\n",
    "       \n",
    "        labels = [x[1] for x in distances[:k]]\n",
    "        counts = np.bincount(labels)\n",
    "        label = np.argmax(counts)\n",
    "         \n",
    "        y_pred.append(label)\n",
    "    \n",
    "    return y_pred\n",
    " \n",
    "\n",
    "k = 5\n",
    "y_pred = knn(x_train, y_train, x_test[:100], k)\n",
    "accuracy = np.sum(y_pred == y_test[:100]) / len(y_test[:100])\n",
    "print('Accuracy:', accuracy)"
   ]
  }
 ],
 "metadata": {
  "colab": {
   "provenance": []
  },
  "kernelspec": {
   "display_name": "Python 3 (ipykernel)",
   "language": "python",
   "name": "python3"
  },
  "language_info": {
   "codemirror_mode": {
    "name": "ipython",
    "version": 3
   },
   "file_extension": ".py",
   "mimetype": "text/x-python",
   "name": "python",
   "nbconvert_exporter": "python",
   "pygments_lexer": "ipython3",
   "version": "3.9.13"
  }
 },
 "nbformat": 4,
 "nbformat_minor": 1
}
